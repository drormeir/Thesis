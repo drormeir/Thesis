{
 "cells": [
  {
   "cell_type": "markdown",
   "metadata": {},
   "source": [
    "### Porting to Google Colab\n",
    "The following cell enables this notebook to run from Google Colab as well as from your local machine IDE.<br>\n",
    "You can change `root_directory` and/or `this_notebook_google_path` to point to the directory in your Google account, which contains this notebook, together with the `imgs` sub-directory and the rest of the files.<br>"
   ]
  },
  {
   "cell_type": "code",
   "execution_count": 1,
   "metadata": {},
   "outputs": [
    {
     "name": "stdout",
     "output_type": "stream",
     "text": [
      "Current working directory: d:\\projects\\RUNI\\Thesis\n",
      "Datasets path: d:\\projects\\RUNI\\Thesis\\datasets\n",
      "Output path: d:\\projects\\RUNI\\Thesis\\output\n"
     ]
    }
   ],
   "source": [
    "import sys\n",
    "import os\n",
    "try:\n",
    "    from google.colab import drive as google_drive # type: ignore\n",
    "except:\n",
    "    # no Google Colab --> fall back to local machine\n",
    "    google_drive = None\n",
    "\n",
    "if google_drive is not None:\n",
    "    google_drive_directory = os.path.join('/','content','gdrive')\n",
    "    google_drive.mount(google_drive_directory)\n",
    "    all_projects_path = os.path.join(google_drive_directory, 'Othercomputers','My Laptop', 'projects')\n",
    "else:\n",
    "    all_projects_path = os.path.join('d:\\\\', 'projects')\n",
    "\n",
    "project_path = os.path.join(all_projects_path,'RUNI','Thesis')\n",
    "assert os.path.exists(project_path), f'Project path {project_path} not found!'\n",
    "# enable import python files from this notebook's path\n",
    "sys.path.append(project_path)\n",
    "# enable reading images and data files from this notebook's path\n",
    "os.chdir(project_path)\n",
    "\n",
    "datasets_path = os.path.join(project_path, 'datasets')\n",
    "assert os.path.exists(datasets_path), f'Datasets path {datasets_path} not found!'\n",
    "\n",
    "output_path = os.path.join(project_path, 'output')\n",
    "os.makedirs(output_path, exist_ok=True)\n",
    "assert os.path.exists(output_path), f'Output path {output_path} not found!'\n",
    "\n",
    "print(f'Current working directory: {os.getcwd()}')\n",
    "print(f'Datasets path: {datasets_path}')\n",
    "print(f'Output path: {output_path}')"
   ]
  },
  {
   "cell_type": "code",
   "execution_count": 2,
   "metadata": {},
   "outputs": [
    {
     "name": "stdout",
     "output_type": "stream",
     "text": [
      "Numba version: 0.60.0\n",
      "numba.njit is available.\n",
      "CUDA is available and will be used for GPU operations.\n",
      "Printing CUDA active device attributes:\n",
      "==================================================\n",
      "    Name:                               NVIDIA GeForce GTX 1650\n",
      "    Free Memory:                        3367680 [KB]\n",
      "    Total Memory:                       4193984 [KB]\n",
      "    Compute capability:                 7.5\n",
      "    Clock rate:                         1560.00 [MHz]\n",
      "    Memory clock rate:                  4001.00 [MHz]\n",
      "    Memory bus width:                   128 bits\n",
      "    Memory band width (theoretical)     128.03 [GByte/Sec]\n",
      "    Number of multiprocessors:          16\n",
      "    Minimal grid size:                  128\n",
      "    Maximum grid size:                  (2147483647, 65535, 65535)\n",
      "    Maximum block dimensions:           (1024, 1024, 64)\n",
      "    Maximum threads per block:          1024\n",
      "    Warp size:                          32\n",
      "    Maximum shared memory per block:    49152 [bytes]\n",
      "    Maximum registers per block:        65536\n",
      "    Total constant memory:              65536 [bytes]\n",
      "    Asynchronous engine count:          2\n",
      "    L2 cache size:                      1048576 [bytes]\n",
      "    ECC support enabled:                False\n"
     ]
    }
   ],
   "source": [
    "from python.hpc import HybridArray"
   ]
  },
  {
   "cell_type": "code",
   "execution_count": 3,
   "metadata": {},
   "outputs": [
    {
     "name": "stdout",
     "output_type": "stream",
     "text": [
      "Compiling Berk Jones for CUDA...\n",
      "Compiling Berk Jones for CUDA... Done!\n"
     ]
    }
   ],
   "source": [
    "import numpy as np\n",
    "from python.metrics.metrics import analyze_auc_multi_tuples_n1_mu"
   ]
  },
  {
   "cell_type": "code",
   "execution_count": 4,
   "metadata": {},
   "outputs": [],
   "source": [
    "num_monte = 20\n",
    "N = 100\n",
    "n1s = (np.arange(0.01,0.11,0.01)*N).astype(np.uint32)\n",
    "mus = np.arange(0.1,1.1,0.1,dtype=np.float64)\n",
    "n1_mu_tuples = list(zip(n1s,mus))\n"
   ]
  },
  {
   "cell_type": "code",
   "execution_count": 5,
   "metadata": {},
   "outputs": [],
   "source": [
    "\n",
    "def simulation3(num_monte: int, N: int, transform_method: str, discovery_method: str,\\\n",
    "                n1: np.uint32, mu: float = 1.0) -> None:\n",
    "    print(f'Running on {transform_method=} {discovery_method=} {num_monte=} {N=} {n1=} {mu=}')\n",
    "    for gpu,njit in [(False,False), (False,True), (True,False)]:\n",
    "        auc =analyze_auc_multi_tuples_n1_mu(\\\n",
    "            N=N, num_monte=num_monte, transform_method=transform_method,\\\n",
    "            discovery_methods=discovery_method,\\\n",
    "            n1_mu_tuples=[(n1,mu)], use_gpu=gpu, use_njit=njit)\n",
    "        print(f'{gpu=} {njit=} --> auc.mean()={auc.mean():.2f}')\n",
    "\n",
    "\n"
   ]
  },
  {
   "cell_type": "code",
   "execution_count": 6,
   "metadata": {},
   "outputs": [
    {
     "name": "stdout",
     "output_type": "stream",
     "text": [
      "Running on transform_method='higher_criticism' discovery_method='argmin' num_monte=20 N=100 n1=1 mu=0.1\n"
     ]
    },
    {
     "name": "stderr",
     "output_type": "stream",
     "text": [
      "Processing: 100%|██████████| 2/2 [00:00<00:00, 16.93step/s, Current Step=1] \n"
     ]
    },
    {
     "name": "stdout",
     "output_type": "stream",
     "text": [
      "gpu=False njit=False --> auc.mean()=0.68\n"
     ]
    },
    {
     "name": "stderr",
     "output_type": "stream",
     "text": [
      "Processing: 100%|██████████| 2/2 [00:20<00:00, 10.15s/step, Current Step=1]\n"
     ]
    },
    {
     "name": "stdout",
     "output_type": "stream",
     "text": [
      "gpu=False njit=True --> auc.mean()=0.68\n"
     ]
    },
    {
     "name": "stderr",
     "output_type": "stream",
     "text": [
      "Processing:   0%|          | 0/2 [00:00<?, ?step/s, Current Step=0]d:\\venv\\thesis\\Lib\\site-packages\\numba\\cuda\\dispatcher.py:536: NumbaPerformanceWarning: \u001b[1mGrid size 2 will likely result in GPU under-utilization due to low occupancy.\u001b[0m\n",
      "  warn(NumbaPerformanceWarning(msg))\n",
      "d:\\venv\\thesis\\Lib\\site-packages\\numba\\cuda\\dispatcher.py:536: NumbaPerformanceWarning: \u001b[1mGrid size 2 will likely result in GPU under-utilization due to low occupancy.\u001b[0m\n",
      "  warn(NumbaPerformanceWarning(msg))\n",
      "d:\\venv\\thesis\\Lib\\site-packages\\numba\\cuda\\dispatcher.py:536: NumbaPerformanceWarning: \u001b[1mGrid size 1 will likely result in GPU under-utilization due to low occupancy.\u001b[0m\n",
      "  warn(NumbaPerformanceWarning(msg))\n",
      "Processing:  50%|█████     | 1/2 [00:00<00:00,  1.20step/s, Current Step=1]d:\\venv\\thesis\\Lib\\site-packages\\numba\\cuda\\dispatcher.py:536: NumbaPerformanceWarning: \u001b[1mGrid size 5 will likely result in GPU under-utilization due to low occupancy.\u001b[0m\n",
      "  warn(NumbaPerformanceWarning(msg))\n",
      "d:\\venv\\thesis\\Lib\\site-packages\\numba\\cuda\\dispatcher.py:536: NumbaPerformanceWarning: \u001b[1mGrid size 4 will likely result in GPU under-utilization due to low occupancy.\u001b[0m\n",
      "  warn(NumbaPerformanceWarning(msg))\n",
      "d:\\venv\\thesis\\Lib\\site-packages\\numba\\cuda\\dispatcher.py:536: NumbaPerformanceWarning: \u001b[1mGrid size 2 will likely result in GPU under-utilization due to low occupancy.\u001b[0m\n",
      "  warn(NumbaPerformanceWarning(msg))\n",
      "Processing: 100%|██████████| 2/2 [00:01<00:00,  1.36step/s, Current Step=1]"
     ]
    },
    {
     "name": "stdout",
     "output_type": "stream",
     "text": [
      "gpu=True njit=False --> auc.mean()=0.68\n"
     ]
    },
    {
     "name": "stderr",
     "output_type": "stream",
     "text": [
      "\n"
     ]
    }
   ],
   "source": [
    "simulation3(num_monte=num_monte, N=N, transform_method='higher_criticism',\\\n",
    "            discovery_method='argmin', n1=n1s[0], mu=mus[0])"
   ]
  },
  {
   "cell_type": "code",
   "execution_count": 7,
   "metadata": {},
   "outputs": [
    {
     "name": "stdout",
     "output_type": "stream",
     "text": [
      "Running on transform_method='higher_criticism_unstable' discovery_method='argmin' num_monte=20 N=100 n1=1 mu=0.1\n"
     ]
    },
    {
     "name": "stderr",
     "output_type": "stream",
     "text": [
      "Processing: 100%|██████████| 2/2 [00:00<00:00, 19.84step/s, Current Step=1] \n"
     ]
    },
    {
     "name": "stdout",
     "output_type": "stream",
     "text": [
      "gpu=False njit=False --> auc.mean()=0.61\n"
     ]
    },
    {
     "name": "stderr",
     "output_type": "stream",
     "text": [
      "Processing: 100%|██████████| 2/2 [00:01<00:00,  1.40step/s, Current Step=1]\n"
     ]
    },
    {
     "name": "stdout",
     "output_type": "stream",
     "text": [
      "gpu=False njit=True --> auc.mean()=0.61\n"
     ]
    },
    {
     "name": "stderr",
     "output_type": "stream",
     "text": [
      "Processing:   0%|          | 0/2 [00:00<?, ?step/s, Current Step=0]d:\\venv\\thesis\\Lib\\site-packages\\numba\\cuda\\dispatcher.py:536: NumbaPerformanceWarning: \u001b[1mGrid size 2 will likely result in GPU under-utilization due to low occupancy.\u001b[0m\n",
      "  warn(NumbaPerformanceWarning(msg))\n",
      "Processing: 100%|██████████| 2/2 [00:00<00:00, 12.08step/s, Current Step=1]"
     ]
    },
    {
     "name": "stdout",
     "output_type": "stream",
     "text": [
      "gpu=True njit=False --> auc.mean()=0.61\n"
     ]
    },
    {
     "name": "stderr",
     "output_type": "stream",
     "text": [
      "\n"
     ]
    }
   ],
   "source": [
    "simulation3(num_monte=num_monte, N=N, transform_method='higher_criticism_unstable',\\\n",
    "            discovery_method='argmin', n1=n1s[0], mu=mus[0])"
   ]
  },
  {
   "cell_type": "code",
   "execution_count": 8,
   "metadata": {},
   "outputs": [
    {
     "name": "stdout",
     "output_type": "stream",
     "text": [
      "Running on transform_method='berk_jones' discovery_method='argmin' num_monte=20 N=100 n1=1 mu=0.1\n"
     ]
    },
    {
     "name": "stderr",
     "output_type": "stream",
     "text": [
      "Processing: 100%|██████████| 2/2 [00:00<00:00,  7.11step/s, Current Step=1]\n"
     ]
    },
    {
     "name": "stdout",
     "output_type": "stream",
     "text": [
      "gpu=False njit=False --> auc.mean()=0.68\n"
     ]
    },
    {
     "name": "stderr",
     "output_type": "stream",
     "text": [
      "Processing: 100%|██████████| 2/2 [00:00<00:00,  2.27step/s, Current Step=1]\n"
     ]
    },
    {
     "name": "stdout",
     "output_type": "stream",
     "text": [
      "gpu=False njit=True --> auc.mean()=0.68\n"
     ]
    },
    {
     "name": "stderr",
     "output_type": "stream",
     "text": [
      "Processing:   0%|          | 0/2 [00:00<?, ?step/s, Current Step=0]d:\\venv\\thesis\\Lib\\site-packages\\numba\\cuda\\dispatcher.py:536: NumbaPerformanceWarning: \u001b[1mGrid size 1 will likely result in GPU under-utilization due to low occupancy.\u001b[0m\n",
      "  warn(NumbaPerformanceWarning(msg))\n",
      "Processing: 100%|██████████| 2/2 [00:00<00:00, 13.25step/s, Current Step=1]"
     ]
    },
    {
     "name": "stdout",
     "output_type": "stream",
     "text": [
      "gpu=True njit=False --> auc.mean()=0.68\n"
     ]
    },
    {
     "name": "stderr",
     "output_type": "stream",
     "text": [
      "\n"
     ]
    }
   ],
   "source": [
    "simulation3(num_monte=num_monte, N=N, transform_method='berk_jones',\\\n",
    "            discovery_method='argmin', n1=n1s[0], mu=mus[0])"
   ]
  },
  {
   "cell_type": "code",
   "execution_count": 9,
   "metadata": {},
   "outputs": [],
   "source": [
    "\n",
    "def simulation3_multi(num_monte: int, N: int, transform_method: str,\\\n",
    "                    discovery_method: str,\\\n",
    "                        n1_mu_tuples: list) -> None:\n",
    "    print(f'Running on {transform_method=} {discovery_method=} {num_monte=} {N=} {n1s=} {mus=}')\n",
    "    for gpu,njit in [(False,False), (False,True), (True,False)]:\n",
    "        auc = analyze_auc_multi_tuples_n1_mu(num_monte=num_monte, N=N, use_gpu=gpu, use_njit=njit,\\\n",
    "                       transform_method=transform_method,\\\n",
    "                       discovery_methods=discovery_method,\\\n",
    "                       n1_mu_tuples=n1_mu_tuples)\n",
    "        print(f'{gpu=} {njit=} --> auc.mean()={auc.mean():.2f}')\n",
    "\n",
    "\n"
   ]
  },
  {
   "cell_type": "code",
   "execution_count": 10,
   "metadata": {},
   "outputs": [
    {
     "name": "stdout",
     "output_type": "stream",
     "text": [
      "Running on transform_method='higher_criticism' discovery_method='argmin' num_monte=20 N=100 n1s=array([ 1,  2,  3,  4,  5,  6,  6,  8,  9, 10], dtype=uint32) mus=array([0.1, 0.2, 0.3, 0.4, 0.5, 0.6, 0.7, 0.8, 0.9, 1. ])\n"
     ]
    },
    {
     "name": "stderr",
     "output_type": "stream",
     "text": [
      "Processing: 100%|██████████| 11/11 [00:01<00:00, 10.80step/s, Current Step=10]\n"
     ]
    },
    {
     "name": "stdout",
     "output_type": "stream",
     "text": [
      "gpu=False njit=False --> auc.mean()=0.59\n"
     ]
    },
    {
     "name": "stderr",
     "output_type": "stream",
     "text": [
      "Processing: 100%|██████████| 11/11 [00:00<00:00, 242.43step/s, Current Step=10]\n"
     ]
    },
    {
     "name": "stdout",
     "output_type": "stream",
     "text": [
      "gpu=False njit=True --> auc.mean()=0.59\n"
     ]
    },
    {
     "name": "stderr",
     "output_type": "stream",
     "text": [
      "Processing:  18%|█▊        | 2/11 [00:00<00:00, 126.19step/s, Current Step=2]d:\\venv\\thesis\\Lib\\site-packages\\numba\\cuda\\dispatcher.py:536: NumbaPerformanceWarning: \u001b[1mGrid size 4 will likely result in GPU under-utilization due to low occupancy.\u001b[0m\n",
      "  warn(NumbaPerformanceWarning(msg))\n",
      "Processing:  36%|███▋      | 4/11 [00:00<00:00, 145.70step/s, Current Step=4]d:\\venv\\thesis\\Lib\\site-packages\\numba\\cuda\\dispatcher.py:536: NumbaPerformanceWarning: \u001b[1mGrid size 3 will likely result in GPU under-utilization due to low occupancy.\u001b[0m\n",
      "  warn(NumbaPerformanceWarning(msg))\n",
      "Processing:  73%|███████▎  | 8/11 [00:00<00:00, 158.56step/s, Current Step=8]d:\\venv\\thesis\\Lib\\site-packages\\numba\\cuda\\dispatcher.py:536: NumbaPerformanceWarning: \u001b[1mGrid size 2 will likely result in GPU under-utilization due to low occupancy.\u001b[0m\n",
      "  warn(NumbaPerformanceWarning(msg))\n",
      "Processing: 100%|██████████| 11/11 [00:00<00:00, 158.03step/s, Current Step=10]"
     ]
    },
    {
     "name": "stdout",
     "output_type": "stream",
     "text": [
      "gpu=True njit=False --> auc.mean()=0.59\n"
     ]
    },
    {
     "name": "stderr",
     "output_type": "stream",
     "text": [
      "\n"
     ]
    }
   ],
   "source": [
    "simulation3_multi(num_monte=num_monte, N=N, transform_method='higher_criticism',\\\n",
    "            discovery_method='argmin',\\\n",
    "            n1_mu_tuples=n1_mu_tuples)"
   ]
  }
 ],
 "metadata": {
  "kernelspec": {
   "display_name": "thesis",
   "language": "python",
   "name": "python3"
  },
  "language_info": {
   "codemirror_mode": {
    "name": "ipython",
    "version": 3
   },
   "file_extension": ".py",
   "mimetype": "text/x-python",
   "name": "python",
   "nbconvert_exporter": "python",
   "pygments_lexer": "ipython3",
   "version": "3.11.9"
  }
 },
 "nbformat": 4,
 "nbformat_minor": 2
}
