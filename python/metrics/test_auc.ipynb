{
 "cells": [
  {
   "cell_type": "markdown",
   "metadata": {},
   "source": [
    "### Porting to Google Colab\n",
    "The following cell enables this notebook to run from Google Colab as well as from your local machine IDE.<br>\n",
    "You can change `root_directory` and/or `this_notebook_google_path` to point to the directory in your Google account, which contains this notebook, together with the `imgs` sub-directory and the rest of the files.<br>"
   ]
  },
  {
   "cell_type": "code",
   "execution_count": 1,
   "metadata": {},
   "outputs": [
    {
     "name": "stdout",
     "output_type": "stream",
     "text": [
      "Current working directory: d:\\projects\\RUNI\\Thesis\n",
      "Datasets path: d:\\projects\\RUNI\\Thesis\\datasets\n",
      "Output path: d:\\projects\\RUNI\\Thesis\\output\n"
     ]
    }
   ],
   "source": [
    "import sys\n",
    "import os\n",
    "try:\n",
    "    from google.colab import drive as google_drive # type: ignore\n",
    "except:\n",
    "    # no Google Colab --> fall back to local machine\n",
    "    google_drive = None\n",
    "\n",
    "if google_drive is not None:\n",
    "    google_drive_directory = os.path.join('/','content','gdrive')\n",
    "    google_drive.mount(google_drive_directory)\n",
    "    all_projects_path = os.path.join(google_drive_directory, 'Othercomputers','My Laptop', 'projects')\n",
    "else:\n",
    "    all_projects_path = os.path.join('d:\\\\', 'projects')\n",
    "\n",
    "project_path = os.path.join(all_projects_path,'RUNI','Thesis')\n",
    "assert os.path.exists(project_path), f'Project path {project_path} not found!'\n",
    "# enable import python files from this notebook's path\n",
    "sys.path.append(project_path)\n",
    "# enable reading images and data files from this notebook's path\n",
    "os.chdir(project_path)\n",
    "\n",
    "datasets_path = os.path.join(project_path, 'datasets')\n",
    "assert os.path.exists(datasets_path), f'Datasets path {datasets_path} not found!'\n",
    "\n",
    "output_path = os.path.join(project_path, 'output')\n",
    "os.makedirs(output_path, exist_ok=True)\n",
    "assert os.path.exists(output_path), f'Output path {output_path} not found!'\n",
    "\n",
    "print(f'Current working directory: {os.getcwd()}')\n",
    "print(f'Datasets path: {datasets_path}')\n",
    "print(f'Output path: {output_path}')"
   ]
  },
  {
   "cell_type": "code",
   "execution_count": 2,
   "metadata": {},
   "outputs": [
    {
     "name": "stdout",
     "output_type": "stream",
     "text": [
      "Numba version: 0.60.0\n",
      "numba.njit is available.\n",
      "CUDA is available and will be used for GPU operations.\n",
      "Printing CUDA active device attributes:\n",
      "==================================================\n",
      "    Name:                               NVIDIA GeForce GTX 1650\n",
      "    Free Memory:                        3367680 [KB]\n",
      "    Total Memory:                       4193984 [KB]\n",
      "    Compute capability:                 7.5\n",
      "    Clock rate:                         1560.00 [MHz]\n",
      "    Memory clock rate:                  4001.00 [MHz]\n",
      "    Memory bus width:                   128 bits\n",
      "    Memory band width (theoretical)     128.03 [GByte/Sec]\n",
      "    Number of multiprocessors:          16\n",
      "    Minimal grid size:                  128\n",
      "    Maximum grid size:                  (2147483647, 65535, 65535)\n",
      "    Maximum block dimensions:           (1024, 1024, 64)\n",
      "    Maximum threads per block:          1024\n",
      "    Warp size:                          32\n",
      "    Maximum shared memory per block:    49152 [bytes]\n",
      "    Maximum registers per block:        65536\n",
      "    Total constant memory:              65536 [bytes]\n",
      "    Asynchronous engine count:          2\n",
      "    L2 cache size:                      1048576 [bytes]\n",
      "    ECC support enabled:                False\n"
     ]
    }
   ],
   "source": [
    "from python.hpc import HybridArray"
   ]
  },
  {
   "cell_type": "code",
   "execution_count": 3,
   "metadata": {},
   "outputs": [],
   "source": [
    "import numpy as np\n",
    "from python.metrics.metrics import detect_signal_auc, create_noise_4_auc, create_signal_4_auc\n",
    "from python.metrics.metrics import analyze_multi_auc"
   ]
  },
  {
   "cell_type": "code",
   "execution_count": 4,
   "metadata": {},
   "outputs": [],
   "source": [
    "shape=(20,100)\n",
    "n1s = (np.arange(0.01,0.11,0.01)*shape[1]).astype(np.uint32)\n",
    "mus = np.arange(0.1,1.1,0.1,dtype=np.float64)\n"
   ]
  },
  {
   "cell_type": "code",
   "execution_count": 5,
   "metadata": {},
   "outputs": [],
   "source": [
    "\n",
    "def simulation(shape: tuple, gpu: bool, njit: bool,\\\n",
    "               transform_method: str,\\\n",
    "               discovery_method: str,\\\n",
    "               n1: np.uint32,\\\n",
    "               mu: float = 1.0) -> tuple[np.ndarray, np.ndarray]:\n",
    "    with (\n",
    "        HybridArray() as signal,\n",
    "        HybridArray() as noise,\n",
    "        HybridArray() as auc_row\n",
    "    ):\n",
    "        create_noise_4_auc(noise=noise, shape=shape,\\\n",
    "                           transform_method=transform_method,\\\n",
    "                           discover_method=discovery_method,\\\n",
    "                           use_gpu=gpu, use_njit=njit)\n",
    "        create_signal_4_auc(signal=signal, shape=shape,\\\n",
    "                            transform_method=transform_method,\\\n",
    "                            discover_method=discovery_method,\\\n",
    "                            ind_model=1,\\\n",
    "                            n1=n1, mu=mu, use_gpu=gpu, use_njit=njit)\n",
    "        auc_row.realloc(like=signal, shape=(1,shape[1]))\n",
    "        detect_signal_auc(\\\n",
    "            noise_input=noise,\\\n",
    "            signal_input_work=signal,\\\n",
    "            auc_out_row=auc_row,\\\n",
    "            use_njit=njit)\n",
    "        ret = (signal.numpy(), auc_row.numpy())\n",
    "    return ret\n",
    "\n",
    "def simulation3(shape: tuple, transform_method: str, discovery_method: str,\\\n",
    "                n1: np.uint32, mu: float = 1.0) -> None:\n",
    "    print(f'Running on {transform_method=} {discovery_method=} {shape=} {n1=} {mu=}')\n",
    "    for gpu,njit in [(False,False), (False,True), (True,False)]:\n",
    "        signal, auc =\\\n",
    "            simulation(shape=shape, gpu=gpu, njit=njit,\\\n",
    "                       transform_method=transform_method,\\\n",
    "                       discovery_method=discovery_method,\\\n",
    "                       n1=n1, mu=mu)\n",
    "        print(f'{gpu=} {njit=} --> signal.mean={signal.mean():.2e} auc.mean()={auc.mean():.2f}')\n",
    "\n",
    "\n"
   ]
  },
  {
   "cell_type": "code",
   "execution_count": 6,
   "metadata": {},
   "outputs": [
    {
     "name": "stdout",
     "output_type": "stream",
     "text": [
      "Running on transform_method='higher_criticism_stable' discovery_method='argmin' shape=(20, 100) n1=1 mu=0.1\n",
      "gpu=False njit=False --> signal.mean=-1.23e+00 auc.mean()=0.67\n",
      "gpu=False njit=True --> signal.mean=-1.23e+00 auc.mean()=0.67\n"
     ]
    },
    {
     "name": "stderr",
     "output_type": "stream",
     "text": [
      "d:\\venv\\thesis\\Lib\\site-packages\\numba\\cuda\\dispatcher.py:536: NumbaPerformanceWarning: \u001b[1mGrid size 2 will likely result in GPU under-utilization due to low occupancy.\u001b[0m\n",
      "  warn(NumbaPerformanceWarning(msg))\n",
      "d:\\venv\\thesis\\Lib\\site-packages\\numba\\cuda\\dispatcher.py:536: NumbaPerformanceWarning: \u001b[1mGrid size 2 will likely result in GPU under-utilization due to low occupancy.\u001b[0m\n",
      "  warn(NumbaPerformanceWarning(msg))\n",
      "d:\\venv\\thesis\\Lib\\site-packages\\numba\\cuda\\dispatcher.py:536: NumbaPerformanceWarning: \u001b[1mGrid size 1 will likely result in GPU under-utilization due to low occupancy.\u001b[0m\n",
      "  warn(NumbaPerformanceWarning(msg))\n",
      "d:\\venv\\thesis\\Lib\\site-packages\\numba\\cuda\\dispatcher.py:536: NumbaPerformanceWarning: \u001b[1mGrid size 2 will likely result in GPU under-utilization due to low occupancy.\u001b[0m\n",
      "  warn(NumbaPerformanceWarning(msg))\n"
     ]
    },
    {
     "name": "stdout",
     "output_type": "stream",
     "text": [
      "gpu=True njit=False --> signal.mean=3.35e-01 auc.mean()=0.67\n"
     ]
    },
    {
     "name": "stderr",
     "output_type": "stream",
     "text": [
      "d:\\venv\\thesis\\Lib\\site-packages\\numba\\cuda\\dispatcher.py:536: NumbaPerformanceWarning: \u001b[1mGrid size 4 will likely result in GPU under-utilization due to low occupancy.\u001b[0m\n",
      "  warn(NumbaPerformanceWarning(msg))\n",
      "d:\\venv\\thesis\\Lib\\site-packages\\numba\\cuda\\dispatcher.py:536: NumbaPerformanceWarning: \u001b[1mGrid size 2 will likely result in GPU under-utilization due to low occupancy.\u001b[0m\n",
      "  warn(NumbaPerformanceWarning(msg))\n"
     ]
    }
   ],
   "source": [
    "simulation3(shape=shape, transform_method='higher_criticism_stable',\\\n",
    "            discovery_method='argmin', n1=n1s[0], mu=mus[0])"
   ]
  },
  {
   "cell_type": "code",
   "execution_count": 7,
   "metadata": {},
   "outputs": [
    {
     "name": "stdout",
     "output_type": "stream",
     "text": [
      "Running on transform_method='higher_criticism_unstable' discovery_method='argmin' shape=(20, 100) n1=1 mu=0.1\n",
      "gpu=False njit=False --> signal.mean=-2.01e+00 auc.mean()=0.58\n",
      "gpu=False njit=True --> signal.mean=-2.01e+00 auc.mean()=0.58\n",
      "gpu=True njit=False --> signal.mean=4.23e-01 auc.mean()=0.58\n"
     ]
    },
    {
     "name": "stderr",
     "output_type": "stream",
     "text": [
      "d:\\venv\\thesis\\Lib\\site-packages\\numba\\cuda\\dispatcher.py:536: NumbaPerformanceWarning: \u001b[1mGrid size 2 will likely result in GPU under-utilization due to low occupancy.\u001b[0m\n",
      "  warn(NumbaPerformanceWarning(msg))\n"
     ]
    }
   ],
   "source": [
    "simulation3(shape=shape, transform_method='higher_criticism_unstable',\\\n",
    "            discovery_method='argmin', n1=n1s[0], mu=mus[0])"
   ]
  },
  {
   "cell_type": "code",
   "execution_count": 8,
   "metadata": {},
   "outputs": [
    {
     "name": "stdout",
     "output_type": "stream",
     "text": [
      "Running on transform_method='berk_jones' discovery_method='argmin' shape=(20, 100) n1=1 mu=0.1\n",
      "gpu=False njit=False --> signal.mean=1.49e-01 auc.mean()=0.63\n",
      "gpu=False njit=True --> signal.mean=1.49e-01 auc.mean()=0.63\n"
     ]
    },
    {
     "name": "stderr",
     "output_type": "stream",
     "text": [
      "d:\\venv\\thesis\\Lib\\site-packages\\numba\\cuda\\dispatcher.py:536: NumbaPerformanceWarning: \u001b[1mGrid size 14 will likely result in GPU under-utilization due to low occupancy.\u001b[0m\n",
      "  warn(NumbaPerformanceWarning(msg))\n"
     ]
    },
    {
     "name": "stdout",
     "output_type": "stream",
     "text": [
      "gpu=True njit=False --> signal.mean=3.66e-01 auc.mean()=0.63\n"
     ]
    }
   ],
   "source": [
    "simulation3(shape=shape, transform_method='berk_jones',\\\n",
    "            discovery_method='argmin', n1=n1s[0], mu=mus[0])"
   ]
  },
  {
   "cell_type": "code",
   "execution_count": 9,
   "metadata": {},
   "outputs": [],
   "source": [
    "\n",
    "def simulation_multi(shape: tuple, gpu: bool, njit: bool,\\\n",
    "               transform_method: str,\\\n",
    "               discovery_method: str,\\\n",
    "               n1s: list|np.ndarray,\\\n",
    "               mus: list|np.ndarray) -> np.ndarray:\n",
    "    with HybridArray() as auc_result:\n",
    "        analyze_multi_auc(auc_results=auc_result, shape=shape,\\\n",
    "                          transform_method=transform_method,\\\n",
    "                          discover_method=discovery_method,\\\n",
    "                            n1s=n1s, mus=mus,\\\n",
    "                                use_gpu=gpu, use_njit=njit)\n",
    "        ret = auc_result.numpy()\n",
    "    return ret\n",
    "\n",
    "def simulation3_multi(shape: tuple, transform_method: str,\\\n",
    "                    discovery_method: str,\\\n",
    "                        n1s: list|np.ndarray, mus: list|np.ndarray) -> None:\n",
    "    print(f'Running on {transform_method=} {discovery_method=} {shape=} {n1s=} {mus=}')\n",
    "    for gpu,njit in [(False,False), (False,True), (True,False)]:\n",
    "        auc =\\\n",
    "            simulation_multi(shape=shape, gpu=gpu, njit=njit,\\\n",
    "                       transform_method=transform_method,\\\n",
    "                       discovery_method=discovery_method,\\\n",
    "                       n1s=n1s, mus=mus)\n",
    "        print(f'{gpu=} {njit=} --> auc.mean()={auc.mean():.2f}')\n",
    "\n",
    "\n"
   ]
  },
  {
   "cell_type": "code",
   "execution_count": 10,
   "metadata": {},
   "outputs": [
    {
     "name": "stdout",
     "output_type": "stream",
     "text": [
      "Running on transform_method='higher_criticism_stable' discovery_method='argmin' shape=(20, 100) n1s=array([ 1,  2,  3,  4,  5,  6,  6,  8,  9, 10], dtype=uint32) mus=array([0.1, 0.2, 0.3, 0.4, 0.5, 0.6, 0.7, 0.8, 0.9, 1. ])\n"
     ]
    },
    {
     "name": "stderr",
     "output_type": "stream",
     "text": [
      "Processing: 100%|██████████| 11/11 [00:00<00:00, 11.58step/s, Current Step=10]\n"
     ]
    },
    {
     "name": "stdout",
     "output_type": "stream",
     "text": [
      "gpu=False njit=False --> auc.mean()=0.70\n"
     ]
    },
    {
     "name": "stderr",
     "output_type": "stream",
     "text": [
      "Processing: 100%|██████████| 11/11 [00:00<00:00, 312.39step/s, Current Step=10]\n"
     ]
    },
    {
     "name": "stdout",
     "output_type": "stream",
     "text": [
      "gpu=False njit=True --> auc.mean()=0.70\n"
     ]
    },
    {
     "name": "stderr",
     "output_type": "stream",
     "text": [
      "Processing:  18%|█▊        | 2/11 [00:00<00:00, 125.63step/s, Current Step=2]d:\\venv\\thesis\\Lib\\site-packages\\numba\\cuda\\dispatcher.py:536: NumbaPerformanceWarning: \u001b[1mGrid size 2 will likely result in GPU under-utilization due to low occupancy.\u001b[0m\n",
      "  warn(NumbaPerformanceWarning(msg))\n",
      "Processing:  73%|███████▎  | 8/11 [00:00<00:00, 163.48step/s, Current Step=8]d:\\venv\\thesis\\Lib\\site-packages\\numba\\cuda\\dispatcher.py:536: NumbaPerformanceWarning: \u001b[1mGrid size 1 will likely result in GPU under-utilization due to low occupancy.\u001b[0m\n",
      "  warn(NumbaPerformanceWarning(msg))\n",
      "Processing: 100%|██████████| 11/11 [00:00<00:00, 170.37step/s, Current Step=10]"
     ]
    },
    {
     "name": "stdout",
     "output_type": "stream",
     "text": [
      "gpu=True njit=False --> auc.mean()=0.70\n"
     ]
    },
    {
     "name": "stderr",
     "output_type": "stream",
     "text": [
      "\n"
     ]
    }
   ],
   "source": [
    "simulation3_multi(shape=shape, transform_method='higher_criticism_stable',\\\n",
    "            discovery_method='argmin',\\\n",
    "            n1s=n1s, mus=mus)"
   ]
  }
 ],
 "metadata": {
  "kernelspec": {
   "display_name": "thesis",
   "language": "python",
   "name": "python3"
  },
  "language_info": {
   "codemirror_mode": {
    "name": "ipython",
    "version": 3
   },
   "file_extension": ".py",
   "mimetype": "text/x-python",
   "name": "python",
   "nbconvert_exporter": "python",
   "pygments_lexer": "ipython3",
   "version": "3.11.5"
  }
 },
 "nbformat": 4,
 "nbformat_minor": 2
}
