{
 "cells": [
  {
   "cell_type": "markdown",
   "metadata": {},
   "source": [
    "### Porting to Google Colab\n",
    "The following cell enables this notebook to run from Google Colab as well as from your local machine IDE.<br>\n",
    "You can change `root_directory` and/or `this_notebook_google_path` to point to the directory in your Google account, which contains this notebook, together with the `imgs` sub-directory and the rest of the files.<br>"
   ]
  },
  {
   "cell_type": "code",
   "execution_count": 1,
   "metadata": {},
   "outputs": [
    {
     "name": "stdout",
     "output_type": "stream",
     "text": [
      "Current working directory: d:\\projects\\RUNI\\Thesis\n",
      "Datasets path: d:\\projects\\RUNI\\Thesis\\datasets\n",
      "Output path: d:\\projects\\RUNI\\Thesis\\output\n"
     ]
    }
   ],
   "source": [
    "import sys\n",
    "import os\n",
    "try:\n",
    "    from google.colab import drive as google_drive # type: ignore\n",
    "except:\n",
    "    # no Google Colab --> fall back to local machine\n",
    "    google_drive = None\n",
    "\n",
    "if google_drive is not None:\n",
    "    google_drive_directory = os.path.join('/','content','gdrive')\n",
    "    google_drive.mount(google_drive_directory)\n",
    "    all_projects_path = os.path.join(google_drive_directory, 'Othercomputers','My Laptop', 'projects')\n",
    "else:\n",
    "    all_projects_path = os.path.join('d:\\\\', 'projects')\n",
    "\n",
    "project_path = os.path.join(all_projects_path,'RUNI','Thesis')\n",
    "assert os.path.exists(project_path), f'Project path {project_path} not found!'\n",
    "# enable import python files from this notebook's path\n",
    "sys.path.append(project_path)\n",
    "# enable reading images and data files from this notebook's path\n",
    "os.chdir(project_path)\n",
    "\n",
    "datasets_path = os.path.join(project_path, 'datasets')\n",
    "assert os.path.exists(datasets_path), f'Datasets path {datasets_path} not found!'\n",
    "\n",
    "output_path = os.path.join(project_path, 'output')\n",
    "os.makedirs(output_path, exist_ok=True)\n",
    "assert os.path.exists(output_path), f'Output path {output_path} not found!'\n",
    "\n",
    "print(f'Current working directory: {os.getcwd()}')\n",
    "print(f'Datasets path: {datasets_path}')\n",
    "print(f'Output path: {output_path}')"
   ]
  },
  {
   "cell_type": "code",
   "execution_count": 2,
   "metadata": {},
   "outputs": [
    {
     "name": "stdout",
     "output_type": "stream",
     "text": [
      "Numba version: 0.60.0\n",
      "numba.njit is available.\n",
      "CUDA is available and will be used for GPU operations.\n",
      "Printing CUDA active device attributes:\n",
      "==================================================\n",
      "    Name:                               NVIDIA GeForce GTX 1650\n",
      "    Free Memory:                        3367680 [KB]\n",
      "    Total Memory:                       4193984 [KB]\n",
      "    Compute capability:                 7.5\n",
      "    Clock rate:                         1560.00 [MHz]\n",
      "    Memory clock rate:                  4001.00 [MHz]\n",
      "    Memory bus width:                   128 bits\n",
      "    Memory band width (theoretical)     128.03 [GByte/Sec]\n",
      "    Number of multiprocessors:          16\n",
      "    Minimal grid size:                  128\n",
      "    Maximum grid size:                  (2147483647, 65535, 65535)\n",
      "    Maximum block dimensions:           (1024, 1024, 64)\n",
      "    Maximum threads per block:          1024\n",
      "    Warp size:                          32\n",
      "    Maximum shared memory per block:    49152 [bytes]\n",
      "    Maximum registers per block:        65536\n",
      "    Total constant memory:              65536 [bytes]\n",
      "    Asynchronous engine count:          2\n",
      "    L2 cache size:                      1048576 [bytes]\n",
      "    ECC support enabled:                False\n"
     ]
    }
   ],
   "source": [
    "from python.hpc import HybridArray"
   ]
  },
  {
   "cell_type": "code",
   "execution_count": 3,
   "metadata": {},
   "outputs": [],
   "source": [
    "import numpy as np\n",
    "from python.rare_weak_model.rare_weak_model import rare_weak_model, rare_weak_null_hypothesis\n",
    "from python.adaptive_methods.adaptive_methods import apply_transform_method, discover_by_method\n",
    "from python.metrics.metrics import detect_signal_auc, create_noise_4_auc, create_signal_4_auc\n",
    "from python.array_math_utils.array_math_utils import array_transpose_inplace, sort_rows_inplace"
   ]
  },
  {
   "cell_type": "code",
   "execution_count": 4,
   "metadata": {},
   "outputs": [],
   "source": [
    "shape=(20,100)\n",
    "num_steps = 3\n",
    "epsilon = 0.1\n",
    "mu = 1.0\n"
   ]
  },
  {
   "cell_type": "code",
   "execution_count": 5,
   "metadata": {},
   "outputs": [],
   "source": [
    "\n",
    "def simulation(shape: tuple, gpu: bool, njit: bool, transform_method: str, discovery_method: str,\\\n",
    "               num_steps: int|None=None, epsilon: float = 0.01, mu: float = 1.0) -> tuple[np.ndarray, np.ndarray, np.ndarray, np.ndarray]:\n",
    "    with (\n",
    "        HybridArray() as signal,\n",
    "        HybridArray() as counts,\n",
    "        HybridArray() as num_discoveries,\n",
    "        HybridArray() as noise,\n",
    "        HybridArray() as auc_row\n",
    "    ):\n",
    "        create_noise_4_auc(noise=noise, shape=shape, transform_method=transform_method,\\\n",
    "                           use_gpu=gpu, use_njit=njit, num_steps=num_steps)\n",
    "        create_signal_4_auc(signal=signal, counts=counts, shape=shape,\\\n",
    "                            transform_method=transform_method, ind_model=1,\\\n",
    "                            epsilon=epsilon, mu=mu, use_gpu=gpu, use_njit=njit, num_steps=num_steps)\n",
    "        discover_by_method(transformed_p_values_input=signal,\\\n",
    "                           num_discoveries_output=num_discoveries,\\\n",
    "                           discover_method=discovery_method,\\\n",
    "                           use_njit=njit)\n",
    "        auc_row.realloc(like=signal, shape=(1,shape[1]))\n",
    "        detect_signal_auc(\\\n",
    "            noise_input=noise,\\\n",
    "            signal_input_work=signal,\\\n",
    "            auc_out_row=auc_row,\\\n",
    "            use_njit=njit)\n",
    "        ret = (signal.numpy(), counts.numpy(), num_discoveries.numpy(), auc_row.numpy())\n",
    "    return ret\n",
    "\n",
    "def simulation3(shape: tuple, transform_method: str, discovery_method: str, num_steps: int=3,\\\n",
    "                epsilon: float = 0.01, mu: float = 1.0) -> None:\n",
    "    print(f'Running on {transform_method=} {discovery_method=} {shape=} {epsilon=} {mu=} {num_steps=}')\n",
    "    for gpu,njit in [(False,False), (False,True), (True,False)]:\n",
    "        p_values, counts, num_discoveries, auc =\\\n",
    "            simulation(shape=shape, gpu=gpu, njit=njit,\\\n",
    "                       transform_method=transform_method,\\\n",
    "                       discovery_method=discovery_method,\\\n",
    "                       num_steps=num_steps, epsilon=epsilon, mu=mu)\n",
    "        print(f'{gpu=} {njit=} --> p_values.mean={p_values.mean():.2e} counts.mean={counts.mean():.2f} num_discoveries.mean={num_discoveries.mean():.2f} auc.mean()={auc.mean():.2f}')\n",
    "\n",
    "\n"
   ]
  },
  {
   "cell_type": "code",
   "execution_count": 6,
   "metadata": {},
   "outputs": [
    {
     "name": "stdout",
     "output_type": "stream",
     "text": [
      "Running on transform_method='higher_criticism_stable' discovery_method='argmin' shape=(20, 100) epsilon=0.1 mu=1.0 num_steps=3\n",
      "gpu=False njit=False --> p_values.mean=-3.05e+00 counts.mean=5.14 num_discoveries.mean=33.82 auc.mean()=0.76\n",
      "gpu=False njit=True --> p_values.mean=-3.05e+00 counts.mean=5.14 num_discoveries.mean=33.82 auc.mean()=0.76\n"
     ]
    },
    {
     "name": "stderr",
     "output_type": "stream",
     "text": [
      "d:\\venv\\thesis\\Lib\\site-packages\\numba\\cuda\\dispatcher.py:536: NumbaPerformanceWarning: \u001b[1mGrid size 2 will likely result in GPU under-utilization due to low occupancy.\u001b[0m\n",
      "  warn(NumbaPerformanceWarning(msg))\n",
      "d:\\venv\\thesis\\Lib\\site-packages\\numba\\cuda\\dispatcher.py:536: NumbaPerformanceWarning: \u001b[1mGrid size 2 will likely result in GPU under-utilization due to low occupancy.\u001b[0m\n",
      "  warn(NumbaPerformanceWarning(msg))\n",
      "d:\\venv\\thesis\\Lib\\site-packages\\numba\\cuda\\dispatcher.py:536: NumbaPerformanceWarning: \u001b[1mGrid size 2 will likely result in GPU under-utilization due to low occupancy.\u001b[0m\n",
      "  warn(NumbaPerformanceWarning(msg))\n",
      "d:\\venv\\thesis\\Lib\\site-packages\\numba\\cuda\\dispatcher.py:536: NumbaPerformanceWarning: \u001b[1mGrid size 2 will likely result in GPU under-utilization due to low occupancy.\u001b[0m\n",
      "  warn(NumbaPerformanceWarning(msg))\n",
      "d:\\venv\\thesis\\Lib\\site-packages\\numba\\cuda\\dispatcher.py:536: NumbaPerformanceWarning: \u001b[1mGrid size 1 will likely result in GPU under-utilization due to low occupancy.\u001b[0m\n",
      "  warn(NumbaPerformanceWarning(msg))\n",
      "d:\\venv\\thesis\\Lib\\site-packages\\numba\\cuda\\dispatcher.py:536: NumbaPerformanceWarning: \u001b[1mGrid size 4 will likely result in GPU under-utilization due to low occupancy.\u001b[0m\n",
      "  warn(NumbaPerformanceWarning(msg))\n"
     ]
    },
    {
     "name": "stdout",
     "output_type": "stream",
     "text": [
      "gpu=True njit=False --> p_values.mean=3.69e-01 counts.mean=5.14 num_discoveries.mean=33.82 auc.mean()=0.76\n"
     ]
    },
    {
     "name": "stderr",
     "output_type": "stream",
     "text": [
      "d:\\venv\\thesis\\Lib\\site-packages\\numba\\cuda\\dispatcher.py:536: NumbaPerformanceWarning: \u001b[1mGrid size 2 will likely result in GPU under-utilization due to low occupancy.\u001b[0m\n",
      "  warn(NumbaPerformanceWarning(msg))\n"
     ]
    }
   ],
   "source": [
    "simulation3(shape=shape, transform_method='higher_criticism_stable',\\\n",
    "            discovery_method='argmin', num_steps=num_steps, epsilon=epsilon, mu=mu)"
   ]
  },
  {
   "cell_type": "code",
   "execution_count": 7,
   "metadata": {},
   "outputs": [
    {
     "name": "stdout",
     "output_type": "stream",
     "text": [
      "Running on transform_method='higher_criticism_unstable' discovery_method='argmin' shape=(20, 100) epsilon=0.1 mu=1.0 num_steps=3\n",
      "gpu=False njit=False --> p_values.mean=-3.97e+00 counts.mean=5.14 num_discoveries.mean=13.05 auc.mean()=0.76\n",
      "gpu=False njit=True --> p_values.mean=-3.97e+00 counts.mean=5.14 num_discoveries.mean=13.05 auc.mean()=0.76\n",
      "gpu=True njit=False --> p_values.mean=3.69e-01 counts.mean=5.14 num_discoveries.mean=13.05 auc.mean()=0.76\n"
     ]
    },
    {
     "name": "stderr",
     "output_type": "stream",
     "text": [
      "d:\\venv\\thesis\\Lib\\site-packages\\numba\\cuda\\dispatcher.py:536: NumbaPerformanceWarning: \u001b[1mGrid size 2 will likely result in GPU under-utilization due to low occupancy.\u001b[0m\n",
      "  warn(NumbaPerformanceWarning(msg))\n",
      "d:\\venv\\thesis\\Lib\\site-packages\\numba\\cuda\\dispatcher.py:536: NumbaPerformanceWarning: \u001b[1mGrid size 2 will likely result in GPU under-utilization due to low occupancy.\u001b[0m\n",
      "  warn(NumbaPerformanceWarning(msg))\n"
     ]
    }
   ],
   "source": [
    "simulation3(shape=shape, transform_method='higher_criticism_unstable',\\\n",
    "            discovery_method='argmin', num_steps=num_steps, epsilon=epsilon, mu=mu)"
   ]
  },
  {
   "cell_type": "code",
   "execution_count": 8,
   "metadata": {},
   "outputs": [
    {
     "name": "stdout",
     "output_type": "stream",
     "text": [
      "Running on transform_method='berk_jones' discovery_method='argmin' shape=(20, 100) epsilon=0.1 mu=1.0 num_steps=3\n",
      "gpu=False njit=False --> p_values.mean=2.97e-01 counts.mean=5.14 num_discoveries.mean=31.42 auc.mean()=0.76\n",
      "gpu=False njit=True --> p_values.mean=2.97e-01 counts.mean=5.14 num_discoveries.mean=31.42 auc.mean()=0.76\n"
     ]
    },
    {
     "name": "stderr",
     "output_type": "stream",
     "text": [
      "d:\\venv\\thesis\\Lib\\site-packages\\numba\\cuda\\dispatcher.py:536: NumbaPerformanceWarning: \u001b[1mGrid size 14 will likely result in GPU under-utilization due to low occupancy.\u001b[0m\n",
      "  warn(NumbaPerformanceWarning(msg))\n"
     ]
    },
    {
     "name": "stdout",
     "output_type": "stream",
     "text": [
      "gpu=True njit=False --> p_values.mean=3.69e-01 counts.mean=5.14 num_discoveries.mean=31.42 auc.mean()=0.76\n"
     ]
    },
    {
     "name": "stderr",
     "output_type": "stream",
     "text": [
      "d:\\venv\\thesis\\Lib\\site-packages\\numba\\cuda\\dispatcher.py:536: NumbaPerformanceWarning: \u001b[1mGrid size 2 will likely result in GPU under-utilization due to low occupancy.\u001b[0m\n",
      "  warn(NumbaPerformanceWarning(msg))\n"
     ]
    }
   ],
   "source": [
    "simulation3(shape=shape, transform_method='berk_jones',\\\n",
    "            discovery_method='argmin', num_steps=num_steps, epsilon=epsilon, mu=mu)"
   ]
  }
 ],
 "metadata": {
  "kernelspec": {
   "display_name": "thesis",
   "language": "python",
   "name": "python3"
  },
  "language_info": {
   "codemirror_mode": {
    "name": "ipython",
    "version": 3
   },
   "file_extension": ".py",
   "mimetype": "text/x-python",
   "name": "python",
   "nbconvert_exporter": "python",
   "pygments_lexer": "ipython3",
   "version": "3.11.9"
  }
 },
 "nbformat": 4,
 "nbformat_minor": 2
}
