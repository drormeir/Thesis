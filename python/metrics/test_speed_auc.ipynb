{
 "cells": [
  {
   "cell_type": "markdown",
   "metadata": {},
   "source": [
    "### Porting to Google Colab\n",
    "The following cell enables this notebook to run from Google Colab as well as from your local machine IDE.<br>\n",
    "You can change `root_directory` and/or `this_notebook_google_path` to point to the directory in your Google account, which contains this notebook, together with the `imgs` sub-directory and the rest of the files.<br>"
   ]
  },
  {
   "cell_type": "code",
   "execution_count": 1,
   "metadata": {},
   "outputs": [
    {
     "name": "stdout",
     "output_type": "stream",
     "text": [
      "Current working directory: d:\\projects\\RUNI\\Thesis\n",
      "Datasets path: d:\\projects\\RUNI\\Thesis\\datasets\n",
      "Output path: d:\\projects\\RUNI\\Thesis\\output\n"
     ]
    }
   ],
   "source": [
    "import sys\n",
    "import os\n",
    "try:\n",
    "    from google.colab import drive as google_drive # type: ignore\n",
    "except:\n",
    "    # no Google Colab --> fall back to local machine\n",
    "    google_drive = None\n",
    "\n",
    "if google_drive is not None:\n",
    "    google_drive_directory = os.path.join('/','content','gdrive')\n",
    "    google_drive.mount(google_drive_directory)\n",
    "    all_projects_path = os.path.join(google_drive_directory, 'Othercomputers','My Laptop', 'projects')\n",
    "else:\n",
    "    all_projects_path = os.path.join('d:\\\\', 'projects')\n",
    "\n",
    "project_path = os.path.join(all_projects_path,'RUNI','Thesis')\n",
    "assert os.path.exists(project_path), f'Project path {project_path} not found!'\n",
    "# enable import python files from this notebook's path\n",
    "sys.path.append(project_path)\n",
    "# enable reading images and data files from this notebook's path\n",
    "os.chdir(project_path)\n",
    "\n",
    "datasets_path = os.path.join(project_path, 'datasets')\n",
    "assert os.path.exists(datasets_path), f'Datasets path {datasets_path} not found!'\n",
    "\n",
    "output_path = os.path.join(project_path, 'output')\n",
    "os.makedirs(output_path, exist_ok=True)\n",
    "assert os.path.exists(output_path), f'Output path {output_path} not found!'\n",
    "\n",
    "print(f'Current working directory: {os.getcwd()}')\n",
    "print(f'Datasets path: {datasets_path}')\n",
    "print(f'Output path: {output_path}')"
   ]
  },
  {
   "cell_type": "code",
   "execution_count": 2,
   "metadata": {},
   "outputs": [
    {
     "name": "stdout",
     "output_type": "stream",
     "text": [
      "Numba version: 0.60.0\n",
      "numba.njit is available.\n",
      "CUDA is available and will be used for GPU operations.\n",
      "Printing CUDA active device attributes:\n",
      "==================================================\n",
      "    Name:                               NVIDIA GeForce GTX 1650\n",
      "    Free Memory:                        3367680 [KB]\n",
      "    Total Memory:                       4193984 [KB]\n",
      "    Compute capability:                 7.5\n",
      "    Clock rate:                         1560.00 [MHz]\n",
      "    Memory clock rate:                  4001.00 [MHz]\n",
      "    Memory bus width:                   128 bits\n",
      "    Memory band width (theoretical)     128.03 [GByte/Sec]\n",
      "    Number of multiprocessors:          16\n",
      "    Minimal grid size:                  128\n",
      "    Maximum grid size:                  (2147483647, 65535, 65535)\n",
      "    Maximum block dimensions:           (1024, 1024, 64)\n",
      "    Maximum threads per block:          1024\n",
      "    Warp size:                          32\n",
      "    Maximum shared memory per block:    49152 [bytes]\n",
      "    Maximum registers per block:        65536\n",
      "    Total constant memory:              65536 [bytes]\n",
      "    Asynchronous engine count:          2\n",
      "    L2 cache size:                      1048576 [bytes]\n",
      "    ECC support enabled:                False\n"
     ]
    }
   ],
   "source": [
    "from python.hpc import HybridArray"
   ]
  },
  {
   "cell_type": "code",
   "execution_count": 3,
   "metadata": {},
   "outputs": [],
   "source": [
    "from python.metrics.metrics import test_speed_neto_detect_signal_auc"
   ]
  },
  {
   "cell_type": "code",
   "execution_count": 4,
   "metadata": {},
   "outputs": [],
   "source": [
    "num_monte = 10000\n",
    "N = 10000\n",
    "epsilon = 0.01\n",
    "n1 = int(epsilon*N)\n",
    "mu = 1.0\n",
    "num_execitions = 100\n"
   ]
  },
  {
   "cell_type": "code",
   "execution_count": 5,
   "metadata": {},
   "outputs": [
    {
     "name": "stdout",
     "output_type": "stream",
     "text": [
      "Precompile...\n"
     ]
    },
    {
     "name": "stderr",
     "output_type": "stream",
     "text": [
      "d:\\venv\\thesis\\Lib\\site-packages\\numba\\cuda\\dispatcher.py:536: NumbaPerformanceWarning: \u001b[1mGrid size 10 will likely result in GPU under-utilization due to low occupancy.\u001b[0m\n",
      "  warn(NumbaPerformanceWarning(msg))\n",
      "Test Speed Detect Signal AUC transform_method='identity' create_signal=True detect_signal=True:   0%|          | 0/1 [00:00<?, ?step/s]d:\\venv\\thesis\\Lib\\site-packages\\numba\\cuda\\dispatcher.py:536: NumbaPerformanceWarning: \u001b[1mGrid size 10 will likely result in GPU under-utilization due to low occupancy.\u001b[0m\n",
      "  warn(NumbaPerformanceWarning(msg))\n",
      "Test Speed Detect Signal AUC transform_method='identity' create_signal=True detect_signal=True: 100%|██████████| 1/1 [00:01<00:00,  1.43s/step]\n",
      "Test Speed Detect Signal AUC transform_method='higher_criticism' create_signal=True detect_signal=True: 100%|██████████| 1/1 [00:00<00:00,  1.81step/s]\n",
      "Test Speed Detect Signal AUC transform_method='berk_jones' create_signal=True detect_signal=True: 100%|██████████| 1/1 [00:00<00:00,  1.77step/s]\n"
     ]
    }
   ],
   "source": [
    "print('Precompile...')\n",
    "for transfor_method in ['identity', 'higher_criticism', 'berk_jones']:\n",
    "    test_speed_neto_detect_signal_auc(transform_method=transfor_method, detect_signal=True, create_signal=True, N=N, num_monte=num_monte, num_executions=1, use_gpu=True, n1=n1, mu=mu)\n"
   ]
  },
  {
   "cell_type": "code",
   "execution_count": 6,
   "metadata": {},
   "outputs": [
    {
     "name": "stderr",
     "output_type": "stream",
     "text": [
      "Test Speed Detect Signal AUC transform_method='identity' create_signal=False detect_signal=False: 100%|██████████| 100/100 [00:00<?, ?step/s]\n",
      "Test Speed Detect Signal AUC transform_method='identity' create_signal=False detect_signal=True: 100%|██████████| 100/100 [00:00<00:00, 2623.67step/s]\n",
      "Test Speed Detect Signal AUC transform_method='identity' create_signal=True detect_signal=False: 100%|██████████| 100/100 [01:14<00:00,  1.34step/s]\n",
      "Test Speed Detect Signal AUC transform_method='identity' create_signal=True detect_signal=True: 100%|██████████| 100/100 [01:42<00:00,  1.03s/step]\n",
      "Test Speed Detect Signal AUC transform_method='higher_criticism' create_signal=False detect_signal=False: 100%|██████████| 100/100 [00:00<?, ?step/s]\n",
      "Test Speed Detect Signal AUC transform_method='higher_criticism' create_signal=False detect_signal=True: 100%|██████████| 100/100 [00:00<00:00, 2250.40step/s]\n",
      "Test Speed Detect Signal AUC transform_method='higher_criticism' create_signal=True detect_signal=False: 100%|██████████| 100/100 [01:24<00:00,  1.18step/s]\n",
      "Test Speed Detect Signal AUC transform_method='higher_criticism' create_signal=True detect_signal=True: 100%|██████████| 100/100 [01:58<00:00,  1.18s/step]\n",
      "Test Speed Detect Signal AUC transform_method='berk_jones' create_signal=False detect_signal=False: 100%|██████████| 100/100 [00:00<00:00, 43882.65step/s]\n",
      "Test Speed Detect Signal AUC transform_method='berk_jones' create_signal=False detect_signal=True: 100%|██████████| 100/100 [00:00<00:00, 2001.41step/s]\n",
      "Test Speed Detect Signal AUC transform_method='berk_jones' create_signal=True detect_signal=False: 100%|██████████| 100/100 [47:43<00:00, 28.63s/step]\n",
      "Test Speed Detect Signal AUC transform_method='berk_jones' create_signal=True detect_signal=True: 100%|██████████| 100/100 [48:01<00:00, 28.81s/step]\n"
     ]
    }
   ],
   "source": [
    "for transfor_method in ['identity', 'higher_criticism', 'berk_jones']:\n",
    "    for create_signal in [False, True]:\n",
    "        for detect_signal in [False, True]:\n",
    "            test_speed_neto_detect_signal_auc(transform_method=transfor_method,\\\n",
    "                                              detect_signal=detect_signal, create_signal=create_signal,\\\n",
    "                                              N=N, num_monte=num_monte, num_executions=num_execitions,\\\n",
    "                                              use_gpu=True, n1=n1, mu=mu)\n"
   ]
  }
 ],
 "metadata": {
  "kernelspec": {
   "display_name": "thesis",
   "language": "python",
   "name": "python3"
  },
  "language_info": {
   "codemirror_mode": {
    "name": "ipython",
    "version": 3
   },
   "file_extension": ".py",
   "mimetype": "text/x-python",
   "name": "python",
   "nbconvert_exporter": "python",
   "pygments_lexer": "ipython3",
   "version": "3.11.9"
  }
 },
 "nbformat": 4,
 "nbformat_minor": 2
}
