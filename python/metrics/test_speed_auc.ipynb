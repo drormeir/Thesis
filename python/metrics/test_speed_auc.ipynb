{
 "cells": [
  {
   "cell_type": "markdown",
   "metadata": {},
   "source": [
    "### Porting to Google Colab\n",
    "The following cell enables this notebook to run from Google Colab as well as from your local machine IDE.<br>\n",
    "You can change `root_directory` and/or `this_notebook_google_path` to point to the directory in your Google account, which contains this notebook, together with the `imgs` sub-directory and the rest of the files.<br>"
   ]
  },
  {
   "cell_type": "code",
   "execution_count": 7,
   "metadata": {},
   "outputs": [
    {
     "name": "stdout",
     "output_type": "stream",
     "text": [
      "Current working directory: d:\\projects\\RUNI\\Thesis\n",
      "Datasets path: d:\\projects\\RUNI\\Thesis\\datasets\n",
      "Output path: d:\\projects\\RUNI\\Thesis\\output\n"
     ]
    }
   ],
   "source": [
    "import sys\n",
    "import os\n",
    "try:\n",
    "    from google.colab import drive as google_drive # type: ignore\n",
    "except:\n",
    "    # no Google Colab --> fall back to local machine\n",
    "    google_drive = None\n",
    "\n",
    "if google_drive is not None:\n",
    "    google_drive_directory = os.path.join('/','content','gdrive')\n",
    "    google_drive.mount(google_drive_directory)\n",
    "    all_projects_path = os.path.join(google_drive_directory, 'Othercomputers','My Laptop', 'projects')\n",
    "else:\n",
    "    all_projects_path = os.path.join('d:\\\\', 'projects')\n",
    "\n",
    "project_path = os.path.join(all_projects_path,'RUNI','Thesis')\n",
    "assert os.path.exists(project_path), f'Project path {project_path} not found!'\n",
    "# enable import python files from this notebook's path\n",
    "sys.path.append(project_path)\n",
    "# enable reading images and data files from this notebook's path\n",
    "os.chdir(project_path)\n",
    "\n",
    "datasets_path = os.path.join(project_path, 'datasets')\n",
    "assert os.path.exists(datasets_path), f'Datasets path {datasets_path} not found!'\n",
    "\n",
    "output_path = os.path.join(project_path, 'output')\n",
    "os.makedirs(output_path, exist_ok=True)\n",
    "assert os.path.exists(output_path), f'Output path {output_path} not found!'\n",
    "\n",
    "print(f'Current working directory: {os.getcwd()}')\n",
    "print(f'Datasets path: {datasets_path}')\n",
    "print(f'Output path: {output_path}')"
   ]
  },
  {
   "cell_type": "code",
   "execution_count": 8,
   "metadata": {},
   "outputs": [],
   "source": [
    "from python.hpc import HybridArray"
   ]
  },
  {
   "cell_type": "code",
   "execution_count": 9,
   "metadata": {},
   "outputs": [],
   "source": [
    "from python.metrics.metrics import test_speed_neto_detect_signal_auc"
   ]
  },
  {
   "cell_type": "code",
   "execution_count": 10,
   "metadata": {},
   "outputs": [],
   "source": [
    "num_monte = 10000\n",
    "N = 10000\n",
    "epsilon = 0.01\n",
    "n1 = int(epsilon*N)\n",
    "mu = 1.0\n",
    "num_execitions = 5\n"
   ]
  },
  {
   "cell_type": "code",
   "execution_count": 11,
   "metadata": {},
   "outputs": [
    {
     "name": "stdout",
     "output_type": "stream",
     "text": [
      "Precompile...\n"
     ]
    },
    {
     "name": "stderr",
     "output_type": "stream",
     "text": [
      "Test Speed Detect Signal AUC transform_method='topk' create_signal=True detect_signal=True: 100%|██████████| 1/1 [00:00<00:00,  1.54step/s]\n",
      "Test Speed Detect Signal AUC transform_method='higher_criticism' create_signal=True detect_signal=True: 100%|██████████| 1/1 [00:00<00:00,  1.57step/s]\n",
      "Test Speed Detect Signal AUC transform_method='berk_jones' create_signal=True detect_signal=True: 100%|██████████| 1/1 [00:10<00:00, 10.75s/step]\n"
     ]
    }
   ],
   "source": [
    "print('Precompile...')\n",
    "for transfor_method in ['topk', 'higher_criticism', 'berk_jones']:\n",
    "    test_speed_neto_detect_signal_auc(transform_method=transfor_method, detect_signal=True, create_signal=True, N=N, num_monte=num_monte, num_executions=1, use_gpu=True, n1=n1, mu=mu)\n"
   ]
  },
  {
   "cell_type": "code",
   "execution_count": 12,
   "metadata": {},
   "outputs": [
    {
     "name": "stderr",
     "output_type": "stream",
     "text": [
      "Test Speed Detect Signal AUC transform_method='topk' create_signal=False detect_signal=False: 100%|██████████| 5/5 [00:00<?, ?step/s]\n",
      "Test Speed Detect Signal AUC transform_method='topk' create_signal=False detect_signal=True: 100%|██████████| 5/5 [00:00<00:00, 914.91step/s]\n",
      "Test Speed Detect Signal AUC transform_method='topk' create_signal=True detect_signal=False: 100%|██████████| 5/5 [00:04<00:00,  1.20step/s]\n",
      "Test Speed Detect Signal AUC transform_method='topk' create_signal=True detect_signal=True: 100%|██████████| 5/5 [00:05<00:00,  1.11s/step]\n",
      "Test Speed Detect Signal AUC transform_method='higher_criticism' create_signal=False detect_signal=False: 100%|██████████| 5/5 [00:00<?, ?step/s]\n",
      "Test Speed Detect Signal AUC transform_method='higher_criticism' create_signal=False detect_signal=True: 100%|██████████| 5/5 [00:00<00:00, 1298.14step/s]\n",
      "Test Speed Detect Signal AUC transform_method='higher_criticism' create_signal=True detect_signal=False: 100%|██████████| 5/5 [00:04<00:00,  1.09step/s]\n",
      "Test Speed Detect Signal AUC transform_method='higher_criticism' create_signal=True detect_signal=True: 100%|██████████| 5/5 [00:05<00:00,  1.19s/step]\n",
      "Test Speed Detect Signal AUC transform_method='berk_jones' create_signal=False detect_signal=False: 100%|██████████| 5/5 [00:00<?, ?step/s]\n",
      "Test Speed Detect Signal AUC transform_method='berk_jones' create_signal=False detect_signal=True: 100%|██████████| 5/5 [00:00<00:00, 991.84step/s]\n",
      "Test Speed Detect Signal AUC transform_method='berk_jones' create_signal=True detect_signal=False: 100%|██████████| 5/5 [00:55<00:00, 11.11s/step]\n",
      "Test Speed Detect Signal AUC transform_method='berk_jones' create_signal=True detect_signal=True: 100%|██████████| 5/5 [00:57<00:00, 11.49s/step]\n"
     ]
    }
   ],
   "source": [
    "for transfor_method in ['topk', 'higher_criticism', 'berk_jones']:\n",
    "    for create_signal in [False, True]:\n",
    "        for detect_signal in [False, True]:\n",
    "            test_speed_neto_detect_signal_auc(transform_method=transfor_method,\\\n",
    "                                              detect_signal=detect_signal, create_signal=create_signal,\\\n",
    "                                              N=N, num_monte=num_monte, num_executions=num_execitions,\\\n",
    "                                              use_gpu=True, n1=n1, mu=mu)\n"
   ]
  }
 ],
 "metadata": {
  "kernelspec": {
   "display_name": "thesis",
   "language": "python",
   "name": "python3"
  },
  "language_info": {
   "codemirror_mode": {
    "name": "ipython",
    "version": 3
   },
   "file_extension": ".py",
   "mimetype": "text/x-python",
   "name": "python",
   "nbconvert_exporter": "python",
   "pygments_lexer": "ipython3",
   "version": "3.11.9"
  }
 },
 "nbformat": 4,
 "nbformat_minor": 2
}
