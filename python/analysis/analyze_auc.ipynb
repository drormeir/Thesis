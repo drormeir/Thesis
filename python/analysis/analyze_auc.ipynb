{
 "cells": [
  {
   "cell_type": "markdown",
   "metadata": {},
   "source": [
    "### Porting to Google Colab\n",
    "The following cell enables this notebook to run from Google Colab as well as from your local machine IDE.<br>\n",
    "You can change `root_directory` and/or `this_notebook_google_path` to point to the directory in your Google account, which contains this notebook, together with the `imgs` sub-directory and the rest of the files.<br>"
   ]
  },
  {
   "cell_type": "code",
   "execution_count": 8,
   "metadata": {},
   "outputs": [
    {
     "name": "stdout",
     "output_type": "stream",
     "text": [
      "Current working directory: d:\\projects\\RUNI\\Thesis\n",
      "Datasets path: d:\\projects\\RUNI\\Thesis\\datasets\n",
      "Output path: d:\\projects\\RUNI\\Thesis\\output\n"
     ]
    }
   ],
   "source": [
    "import sys\n",
    "import os\n",
    "try:\n",
    "    from google.colab import drive as google_drive # type: ignore\n",
    "except:\n",
    "    # no Google Colab --> fall back to local machine\n",
    "    google_drive = None\n",
    "\n",
    "if google_drive is not None:\n",
    "    google_drive_directory = os.path.join('/','content','gdrive')\n",
    "    google_drive.mount(google_drive_directory)\n",
    "    all_projects_path = os.path.join(google_drive_directory, 'Othercomputers','My Laptop', 'projects')\n",
    "else:\n",
    "    all_projects_path = os.path.join('d:\\\\', 'projects')\n",
    "\n",
    "project_path = os.path.join(all_projects_path,'RUNI','Thesis')\n",
    "assert os.path.exists(project_path), f'Project path {project_path} not found!'\n",
    "# enable import python files from this notebook's path\n",
    "sys.path.append(project_path)\n",
    "# enable reading images and data files from this notebook's path\n",
    "os.chdir(project_path)\n",
    "\n",
    "datasets_path = os.path.join(project_path, 'datasets')\n",
    "assert os.path.exists(datasets_path), f'Datasets path {datasets_path} not found!'\n",
    "\n",
    "output_path = os.path.join(project_path, 'output')\n",
    "os.makedirs(output_path, exist_ok=True)\n",
    "assert os.path.exists(output_path), f'Output path {output_path} not found!'\n",
    "\n",
    "print(f'Current working directory: {os.getcwd()}')\n",
    "print(f'Datasets path: {datasets_path}')\n",
    "print(f'Output path: {output_path}')"
   ]
  },
  {
   "cell_type": "code",
   "execution_count": 9,
   "metadata": {},
   "outputs": [],
   "source": [
    "from python.hpc import HybridArray"
   ]
  },
  {
   "cell_type": "code",
   "execution_count": 10,
   "metadata": {},
   "outputs": [],
   "source": [
    "import numpy as np\n",
    "from python.metrics.metrics import analyze_auc_r_beta_ranges"
   ]
  },
  {
   "cell_type": "code",
   "execution_count": 11,
   "metadata": {},
   "outputs": [
    {
     "name": "stdout",
     "output_type": "stream",
     "text": [
      "r_range=array([0.        , 0.11111111, 0.22222222, 0.33333333, 0.44444444,\n",
      "       0.55555556, 0.66666667, 0.77777778, 0.88888889, 1.        ])\n",
      "beta_range=array([0.        , 0.11111111, 0.22222222, 0.33333333, 0.44444444,\n",
      "       0.55555556, 0.66666667, 0.77777778, 0.88888889, 1.        ])\n"
     ]
    }
   ],
   "source": [
    "N = 1000\n",
    "num_monte = 100\n",
    "num_r = 10\n",
    "num_beta = 10\n",
    "r_range = np.linspace(0.0, 1.0, num_r)\n",
    "beta_range = np.linspace(0.0,1.0,num_beta)\n",
    "alpha = 0.1\n",
    "print(f'{r_range=}')\n",
    "print(f'{beta_range=}')"
   ]
  },
  {
   "cell_type": "code",
   "execution_count": 12,
   "metadata": {},
   "outputs": [],
   "source": [
    "\n",
    "def simulation3(**kwargs) -> None:\n",
    "    print(f'Running on {kwargs}')\n",
    "    for gpu,njit in [(False,False), (False,True), (True,False)]:\n",
    "        auc =analyze_auc_r_beta_ranges(use_gpu=gpu, use_njit=njit, **kwargs)\n",
    "        print(f'{gpu=} {njit=} --> auc.mean()={auc.mean():.2f}')\n",
    "        \n",
    "\n"
   ]
  },
  {
   "cell_type": "code",
   "execution_count": 13,
   "metadata": {},
   "outputs": [
    {
     "name": "stdout",
     "output_type": "stream",
     "text": [
      "Running on {'N': 1000, 'num_monte': 100, 'r_range': array([0.        , 0.11111111, 0.22222222, 0.33333333, 0.44444444,\n",
      "       0.55555556, 0.66666667, 0.77777778, 0.88888889, 1.        ]), 'beta_range': array([0.        , 0.11111111, 0.22222222, 0.33333333, 0.44444444,\n",
      "       0.55555556, 0.66666667, 0.77777778, 0.88888889, 1.        ]), 'alpha_selection_method': 0.1, 'transform_method': 'higher_criticism_stable', 'discovery_method': 'argmin'}\n"
     ]
    },
    {
     "name": "stderr",
     "output_type": "stream",
     "text": [
      "Processing: 100%|██████████| 101/101 [01:37<00:00,  1.03step/s, Current Step=100]\n"
     ]
    },
    {
     "name": "stdout",
     "output_type": "stream",
     "text": [
      "gpu=False njit=False --> auc.mean()=0.72\n"
     ]
    },
    {
     "name": "stderr",
     "output_type": "stream",
     "text": [
      "Processing: 100%|██████████| 101/101 [00:01<00:00, 82.99step/s, Current Step=100]\n"
     ]
    },
    {
     "name": "stdout",
     "output_type": "stream",
     "text": [
      "gpu=False njit=True --> auc.mean()=0.72\n"
     ]
    },
    {
     "name": "stderr",
     "output_type": "stream",
     "text": [
      "Processing: 100%|██████████| 101/101 [00:00<00:00, 194.53step/s, Current Step=100]"
     ]
    },
    {
     "name": "stdout",
     "output_type": "stream",
     "text": [
      "gpu=True njit=False --> auc.mean()=0.72\n"
     ]
    },
    {
     "name": "stderr",
     "output_type": "stream",
     "text": [
      "\n"
     ]
    }
   ],
   "source": [
    "simulation3(N=N, num_monte=num_monte,\\\n",
    "            r_range=r_range, beta_range=beta_range,\\\n",
    "            alpha_selection_method = alpha,\\\n",
    "            transform_method='higher_criticism_stable',\\\n",
    "            discovery_method='argmin')"
   ]
  },
  {
   "cell_type": "code",
   "execution_count": 14,
   "metadata": {},
   "outputs": [
    {
     "name": "stdout",
     "output_type": "stream",
     "text": [
      "Running on {'N': 1000, 'num_monte': 100, 'r_range': array([0.        , 0.11111111, 0.22222222, 0.33333333, 0.44444444,\n",
      "       0.55555556, 0.66666667, 0.77777778, 0.88888889, 1.        ]), 'beta_range': array([0.        , 0.11111111, 0.22222222, 0.33333333, 0.44444444,\n",
      "       0.55555556, 0.66666667, 0.77777778, 0.88888889, 1.        ]), 'alpha_selection_method': 0.1, 'transform_method': 'higher_criticism_unstable', 'discovery_method': 'argmin'}\n"
     ]
    },
    {
     "name": "stderr",
     "output_type": "stream",
     "text": [
      "Processing: 100%|██████████| 101/101 [01:38<00:00,  1.02step/s, Current Step=100]\n"
     ]
    },
    {
     "name": "stdout",
     "output_type": "stream",
     "text": [
      "gpu=False njit=False --> auc.mean()=0.73\n"
     ]
    },
    {
     "name": "stderr",
     "output_type": "stream",
     "text": [
      "Processing: 100%|██████████| 101/101 [00:02<00:00, 35.01step/s, Current Step=100]\n"
     ]
    },
    {
     "name": "stdout",
     "output_type": "stream",
     "text": [
      "gpu=False njit=True --> auc.mean()=0.73\n"
     ]
    },
    {
     "name": "stderr",
     "output_type": "stream",
     "text": [
      "Processing: 100%|██████████| 101/101 [00:00<00:00, 130.53step/s, Current Step=100]"
     ]
    },
    {
     "name": "stdout",
     "output_type": "stream",
     "text": [
      "gpu=True njit=False --> auc.mean()=0.73\n"
     ]
    },
    {
     "name": "stderr",
     "output_type": "stream",
     "text": [
      "\n"
     ]
    }
   ],
   "source": [
    "simulation3(N=N, num_monte=num_monte,\\\n",
    "            r_range=r_range, beta_range=beta_range,\\\n",
    "            alpha_selection_method = alpha,\\\n",
    "                transform_method='higher_criticism_unstable',\\\n",
    "            discovery_method='argmin')"
   ]
  },
  {
   "cell_type": "code",
   "execution_count": 15,
   "metadata": {},
   "outputs": [
    {
     "name": "stdout",
     "output_type": "stream",
     "text": [
      "Running on {'N': 1000, 'num_monte': 100, 'r_range': array([0.        , 0.11111111, 0.22222222, 0.33333333, 0.44444444,\n",
      "       0.55555556, 0.66666667, 0.77777778, 0.88888889, 1.        ]), 'beta_range': array([0.        , 0.11111111, 0.22222222, 0.33333333, 0.44444444,\n",
      "       0.55555556, 0.66666667, 0.77777778, 0.88888889, 1.        ]), 'alpha_selection_method': 0.1, 'transform_method': 'berk_jones', 'discovery_method': 'argmin'}\n"
     ]
    },
    {
     "name": "stderr",
     "output_type": "stream",
     "text": [
      "Processing: 100%|██████████| 101/101 [01:51<00:00,  1.11s/step, Current Step=100]\n"
     ]
    },
    {
     "name": "stdout",
     "output_type": "stream",
     "text": [
      "gpu=False njit=False --> auc.mean()=0.72\n"
     ]
    },
    {
     "name": "stderr",
     "output_type": "stream",
     "text": [
      "Processing: 100%|██████████| 101/101 [00:03<00:00, 29.03step/s, Current Step=100]\n"
     ]
    },
    {
     "name": "stdout",
     "output_type": "stream",
     "text": [
      "gpu=False njit=True --> auc.mean()=0.72\n"
     ]
    },
    {
     "name": "stderr",
     "output_type": "stream",
     "text": [
      "Processing: 100%|██████████| 101/101 [00:01<00:00, 53.78step/s, Current Step=100]"
     ]
    },
    {
     "name": "stdout",
     "output_type": "stream",
     "text": [
      "gpu=True njit=False --> auc.mean()=0.72\n"
     ]
    },
    {
     "name": "stderr",
     "output_type": "stream",
     "text": [
      "\n"
     ]
    }
   ],
   "source": [
    "simulation3(N=N, num_monte=num_monte,\\\n",
    "            r_range=r_range, beta_range=beta_range,\\\n",
    "            alpha_selection_method = alpha,\\\n",
    "                transform_method='berk_jones',\\\n",
    "            discovery_method='argmin')"
   ]
  }
 ],
 "metadata": {
  "kernelspec": {
   "display_name": "thesis",
   "language": "python",
   "name": "python3"
  },
  "language_info": {
   "codemirror_mode": {
    "name": "ipython",
    "version": 3
   },
   "file_extension": ".py",
   "mimetype": "text/x-python",
   "name": "python",
   "nbconvert_exporter": "python",
   "pygments_lexer": "ipython3",
   "version": "3.11.9"
  }
 },
 "nbformat": 4,
 "nbformat_minor": 2
}
