{
 "cells": [
  {
   "cell_type": "markdown",
   "metadata": {},
   "source": [
    "### Porting to Google Colab\n",
    "The following cell enables this notebook to run from Google Colab as well as from your local machine IDE.<br>\n",
    "You can change `root_directory` and/or `this_notebook_google_path` to point to the directory in your Google account, which contains this notebook, together with the `imgs` sub-directory and the rest of the files.<br>"
   ]
  },
  {
   "cell_type": "code",
   "execution_count": null,
   "metadata": {},
   "outputs": [],
   "source": [
    "import sys\n",
    "import os\n",
    "try:\n",
    "    from google.colab import drive as google_drive # type: ignore\n",
    "except:\n",
    "    # no Google Colab --> fall back to local machine\n",
    "    google_drive = None\n",
    "\n",
    "if google_drive is not None:\n",
    "    google_drive_directory = os.path.join('/','content','gdrive')\n",
    "    google_drive.mount(google_drive_directory)\n",
    "    all_projects_path = os.path.join(google_drive_directory, 'Othercomputers','My Laptop', 'projects')\n",
    "else:\n",
    "    all_projects_path = os.path.join('d:\\\\', 'projects')\n",
    "\n",
    "project_path = os.path.join(all_projects_path,'RUNI','Thesis')\n",
    "assert os.path.exists(project_path), f'Project path {project_path} not found!'\n",
    "# enable import python files from this notebook's path\n",
    "sys.path.append(project_path)\n",
    "# enable reading images and data files from this notebook's path\n",
    "os.chdir(project_path)\n",
    "\n",
    "datasets_path = os.path.join(project_path, 'datasets')\n",
    "assert os.path.exists(datasets_path), f'Datasets path {datasets_path} not found!'\n",
    "\n",
    "output_path = os.path.join(project_path, 'output')\n",
    "os.makedirs(output_path, exist_ok=True)\n",
    "assert os.path.exists(output_path), f'Output path {output_path} not found!'\n",
    "\n",
    "print(f'Current working directory: {os.getcwd()}')\n",
    "print(f'Datasets path: {datasets_path}')\n",
    "print(f'Output path: {output_path}')"
   ]
  },
  {
   "cell_type": "code",
   "execution_count": null,
   "metadata": {},
   "outputs": [],
   "source": [
    "from python.hpc import HybridArray"
   ]
  },
  {
   "cell_type": "code",
   "execution_count": null,
   "metadata": {},
   "outputs": [],
   "source": [
    "import numpy as np\n",
    "from python.analysis.analysis import single_heatmap_auc_vs_r_beta_range, multi_heatmap_auc_vs_r_beta_range"
   ]
  },
  {
   "cell_type": "code",
   "execution_count": null,
   "metadata": {},
   "outputs": [],
   "source": [
    "N = 1000\n",
    "num_monte = 1000\n",
    "num_r = 21\n",
    "num_beta = 21\n",
    "r_range = np.linspace(1.0/num_r, 1.0, num_r)\n",
    "beta_range = np.linspace(0.5,1.0,num_beta)\n",
    "alpha = 0.1\n",
    "print(f'{r_range=}')\n",
    "print(f'{beta_range=}')"
   ]
  },
  {
   "cell_type": "code",
   "execution_count": null,
   "metadata": {},
   "outputs": [],
   "source": [
    "single_heatmap_auc_vs_r_beta_range(N=N, num_monte=num_monte,\\\n",
    "            r_range=r_range, beta_range=beta_range,\\\n",
    "            alpha_selection_method = alpha,\\\n",
    "                transform_method='identity',\\\n",
    "            discovery_method='')"
   ]
  },
  {
   "cell_type": "code",
   "execution_count": null,
   "metadata": {},
   "outputs": [],
   "source": [
    "single_heatmap_auc_vs_r_beta_range(N=N, num_monte=num_monte,\\\n",
    "            r_range=r_range, beta_range=beta_range,\\\n",
    "            alpha_selection_method = alpha,\\\n",
    "            transform_method='higher_criticism',\\\n",
    "            discovery_method='')"
   ]
  },
  {
   "cell_type": "code",
   "execution_count": null,
   "metadata": {},
   "outputs": [],
   "source": [
    "single_heatmap_auc_vs_r_beta_range(N=N, num_monte=num_monte,\\\n",
    "            r_range=r_range, beta_range=beta_range,\\\n",
    "            alpha_selection_method = alpha,\\\n",
    "                transform_method='higher_criticism_unstable',\\\n",
    "            discovery_method='')"
   ]
  },
  {
   "cell_type": "code",
   "execution_count": null,
   "metadata": {},
   "outputs": [],
   "source": [
    "single_heatmap_auc_vs_r_beta_range(N=N, num_monte=num_monte,\\\n",
    "            r_range=r_range, beta_range=beta_range,\\\n",
    "            alpha_selection_method = alpha,\\\n",
    "                transform_method='berk_jones',\\\n",
    "            discovery_method='')"
   ]
  },
  {
   "cell_type": "code",
   "execution_count": null,
   "metadata": {},
   "outputs": [],
   "source": [
    "multi_heatmap_auc_vs_r_beta_range(r_range=r_range, beta_range=beta_range, N=N, num_monte=num_monte,\\\n",
    "                                  recipe=['identity',\\\n",
    "                                        ('higher_criticism','',alpha),\\\n",
    "                                        ('higher_criticism_unstable','',alpha),\\\n",
    "                                        ('berk_jones','',alpha)])"
   ]
  }
 ],
 "metadata": {
  "kernelspec": {
   "display_name": "thesis",
   "language": "python",
   "name": "python3"
  },
  "language_info": {
   "codemirror_mode": {
    "name": "ipython",
    "version": 3
   },
   "file_extension": ".py",
   "mimetype": "text/x-python",
   "name": "python",
   "nbconvert_exporter": "python",
   "pygments_lexer": "ipython3",
   "version": "3.11.9"
  }
 },
 "nbformat": 4,
 "nbformat_minor": 2
}
