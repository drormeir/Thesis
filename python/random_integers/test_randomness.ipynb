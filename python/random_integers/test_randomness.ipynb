{
 "cells": [
  {
   "cell_type": "markdown",
   "metadata": {
    "id": "NLG_lYgZWhQ-"
   },
   "source": [
    "### Porting to Google Colab\n",
    "The following cell enables this notebook to run from Google Colab as well as from your local machine IDE.<br>\n",
    "You can change `root_directory` and/or `this_notebook_google_path` to point to the directory in your Google account, which contains this notebook, together with the `imgs` sub-directory and the rest of the files.<br>"
   ]
  },
  {
   "cell_type": "code",
   "execution_count": 7,
   "metadata": {
    "colab": {
     "base_uri": "https://localhost:8080/"
    },
    "executionInfo": {
     "elapsed": 28864,
     "status": "ok",
     "timestamp": 1733243458122,
     "user": {
      "displayName": "Dror Meirovich",
      "userId": "14310987058477987674"
     },
     "user_tz": -120
    },
    "id": "RwolyPfQWhQ_",
    "outputId": "8e74500e-d028-4a32-eb31-05a7e582b58d"
   },
   "outputs": [
    {
     "name": "stdout",
     "output_type": "stream",
     "text": [
      "Current working directory: d:\\projects\\RUNI\\Thesis\n",
      "Datasets path: d:\\projects\\RUNI\\Thesis\\datasets\n",
      "Output path: d:\\projects\\RUNI\\Thesis\\output\n"
     ]
    }
   ],
   "source": [
    "import sys\n",
    "import os\n",
    "try:\n",
    "    from google.colab import drive as google_drive # type: ignore\n",
    "except:\n",
    "    # no Google Colab --> fall back to local machine\n",
    "    google_drive = None\n",
    "\n",
    "if google_drive is not None:\n",
    "    google_drive_directory = os.path.join('/','content','gdrive')\n",
    "    google_drive.mount(google_drive_directory)\n",
    "    all_projects_path = os.path.join(google_drive_directory, 'Othercomputers','My Laptop', 'projects')\n",
    "else:\n",
    "    all_projects_path = os.path.join('d:\\\\', 'projects')\n",
    "\n",
    "project_path = os.path.join(all_projects_path,'RUNI','Thesis')\n",
    "assert os.path.exists(project_path), f'Project path {project_path} not found!'\n",
    "# enable import python files from this notebook's path\n",
    "sys.path.append(project_path)\n",
    "# enable reading images and data files from this notebook's path\n",
    "os.chdir(project_path)\n",
    "\n",
    "datasets_path = os.path.join(project_path, 'datasets')\n",
    "assert os.path.exists(datasets_path), f'Datasets path {datasets_path} not found!'\n",
    "\n",
    "output_path = os.path.join(project_path, 'output')\n",
    "os.makedirs(output_path, exist_ok=True)\n",
    "assert os.path.exists(output_path), f'Output path {output_path} not found!'\n",
    "\n",
    "print(f'Current working directory: {os.getcwd()}')\n",
    "print(f'Datasets path: {datasets_path}')\n",
    "print(f'Output path: {output_path}')"
   ]
  },
  {
   "cell_type": "code",
   "execution_count": 8,
   "metadata": {
    "colab": {
     "base_uri": "https://localhost:8080/"
    },
    "executionInfo": {
     "elapsed": 5161,
     "status": "ok",
     "timestamp": 1733243463280,
     "user": {
      "displayName": "Dror Meirovich",
      "userId": "14310987058477987674"
     },
     "user_tz": -120
    },
    "id": "hs9MC9FbWhRB",
    "outputId": "ecd0dfde-e22d-40d6-fd54-234c5c2143e9"
   },
   "outputs": [],
   "source": [
    "from python.hpc import HybridArray"
   ]
  },
  {
   "cell_type": "code",
   "execution_count": null,
   "metadata": {},
   "outputs": [],
   "source": [
    "import numpy as np\n",
    "from scipy.stats import chisquare, combine_pvalues\n",
    "\n",
    "def combined_randomness_test(samples):\n",
    "    \"\"\"\n",
    "    Computes a combined p-value for the randomness of unsigned 64-bit integers.\n",
    "    \n",
    "    Parameters:\n",
    "        samples (np.array): Array of uint64 values from your RNG.\n",
    "        \n",
    "    Returns:\n",
    "        float: A combined p-value using Fisher's method.\n",
    "               A high p-value (> 0.05) suggests randomness.\n",
    "    \"\"\"\n",
    "    # Convert samples to bits and reshape: one row per 64-bit number\n",
    "    bits = np.unpackbits(samples.view(np.uint8)).reshape(-1, 64)\n",
    "    n_samples = samples.shape[0]\n",
    "    p_values = []\n",
    "    \n",
    "    # Expected count for ones and zeros is n_samples/2 each.\n",
    "    expected = [n_samples / 2, n_samples / 2]\n",
    "    \n",
    "    # Test each of the 64 bit positions\n",
    "    for bit in range(64):\n",
    "        ones = np.sum(bits[:, bit])\n",
    "        zeros = n_samples - ones\n",
    "        _, p = chisquare([ones, zeros], f_exp=expected)\n",
    "        p_values.append(p)\n",
    "    \n",
    "    # Combine the 64 p-values using Fisher's method\n",
    "    _, combined_p = combine_pvalues(p_values, method='fisher')\n",
    "    return combined_p"
   ]
  },
  {
   "cell_type": "markdown",
   "metadata": {},
   "source": [
    "# Testing random integers in series"
   ]
  },
  {
   "cell_type": "code",
   "execution_count": 10,
   "metadata": {},
   "outputs": [],
   "source": [
    "from python.random_integers.random_integers import random_integers_series\n",
    "num_monte = 10\n",
    "N = 100000\n",
    "data_gpu = HybridArray().realloc(shape=(N,), dtype=np.uint64, use_gpu=True)\n",
    "random_integers_series(data=data_gpu, seed=0)\n"
   ]
  },
  {
   "cell_type": "code",
   "execution_count": 11,
   "metadata": {},
   "outputs": [
    {
     "name": "stdout",
     "output_type": "stream",
     "text": [
      "combined_p=0.36841400743026476\n"
     ]
    }
   ],
   "source": [
    "combined_p = combined_randomness_test(data_gpu.numpy())\n",
    "print(f'{combined_p=}')\n"
   ]
  },
  {
   "cell_type": "markdown",
   "metadata": {},
   "source": [
    "# Test random matrix"
   ]
  },
  {
   "cell_type": "code",
   "execution_count": 16,
   "metadata": {},
   "outputs": [
    {
     "name": "stdout",
     "output_type": "stream",
     "text": [
      "num_steps=1\n",
      "Final combined p_value: 0.06103412680915576\n",
      "num_steps=2\n",
      "Final combined p_value: 0.6109146460583718\n",
      "num_steps=3\n",
      "Final combined p_value: 0.11111460100985929\n",
      "num_steps=4\n",
      "Final combined p_value: 0.16539644178607324\n",
      "num_steps=5\n",
      "Final combined p_value: 0.3957131739893085\n"
     ]
    }
   ],
   "source": [
    "from python.random_integers.random_integers import random_integers_matrix, random_integers_2_p_values\n",
    "from python.array_math_utils.array_math_utils import average_column\n",
    "num_monte = 1000\n",
    "N = 100000\n",
    "max_num_steps = 5\n",
    "data_gpu = HybridArray().realloc(shape=(num_monte,N), dtype=np.uint64, use_gpu=True)\n",
    "p_values = HybridArray()\n",
    "average_col = HybridArray()\n",
    "for num_steps in range(1,max_num_steps+1):\n",
    "    print(f'{num_steps=}')\n",
    "    random_integers_matrix(data=data_gpu.uncrop(), offset_row0=0, offset_col0=0, num_steps=num_steps)\n",
    "    random_integers_2_p_values(integers=data_gpu, p_values=p_values)\n",
    "    if data_gpu.shape()[0] <= 10:\n",
    "        average_column(p_values, out_column=average_col)\n",
    "        print(f'{average_col.numpy()=}')\n",
    "    p_value_per_row = []\n",
    "    for ind_row in range(num_monte):\n",
    "        data_row = data_gpu.select_row(ind_row).numpy()\n",
    "        combined_p = combined_randomness_test(data_row.reshape(-1))\n",
    "        if num_monte <= 100:\n",
    "            print(f'{ind_row=} {data_row.shape=} {combined_p=}')\n",
    "        p_value_per_row.append(combined_p)\n",
    "    _, final_p_value = combine_pvalues(p_value_per_row, method='fisher')\n",
    "    print(f'Final combined p_value: {final_p_value}')\n",
    "\n",
    "        \n"
   ]
  }
 ],
 "metadata": {
  "accelerator": "GPU",
  "colab": {
   "gpuType": "T4",
   "provenance": []
  },
  "kernelspec": {
   "display_name": "thesis",
   "language": "python",
   "name": "python3"
  },
  "language_info": {
   "codemirror_mode": {
    "name": "ipython",
    "version": 3
   },
   "file_extension": ".py",
   "mimetype": "text/x-python",
   "name": "python",
   "nbconvert_exporter": "python",
   "pygments_lexer": "ipython3",
   "version": "3.11.9"
  }
 },
 "nbformat": 4,
 "nbformat_minor": 0
}
