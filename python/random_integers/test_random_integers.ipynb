{
 "cells": [
  {
   "cell_type": "markdown",
   "metadata": {
    "id": "NLG_lYgZWhQ-"
   },
   "source": [
    "### Porting to Google Colab\n",
    "The following cell enables this notebook to run from Google Colab as well as from your local machine IDE.<br>\n",
    "You can change `root_directory` and/or `this_notebook_google_path` to point to the directory in your Google account, which contains this notebook, together with the `imgs` sub-directory and the rest of the files.<br>"
   ]
  },
  {
   "cell_type": "code",
   "execution_count": 1,
   "metadata": {
    "colab": {
     "base_uri": "https://localhost:8080/"
    },
    "executionInfo": {
     "elapsed": 28864,
     "status": "ok",
     "timestamp": 1733243458122,
     "user": {
      "displayName": "Dror Meirovich",
      "userId": "14310987058477987674"
     },
     "user_tz": -120
    },
    "id": "RwolyPfQWhQ_",
    "outputId": "8e74500e-d028-4a32-eb31-05a7e582b58d"
   },
   "outputs": [
    {
     "name": "stdout",
     "output_type": "stream",
     "text": [
      "Current working directory: d:\\projects\\RUNI\\Thesis\n",
      "Datasets path: d:\\projects\\RUNI\\Thesis\\datasets\n",
      "Output path: d:\\projects\\RUNI\\Thesis\\output\n"
     ]
    }
   ],
   "source": [
    "import sys\n",
    "import os\n",
    "try:\n",
    "    from google.colab import drive as google_drive # type: ignore\n",
    "except:\n",
    "    # no Google Colab --> fall back to local machine\n",
    "    google_drive = None\n",
    "\n",
    "if google_drive is not None:\n",
    "    google_drive_directory = os.path.join('/','content','gdrive')\n",
    "    google_drive.mount(google_drive_directory)\n",
    "    all_projects_path = os.path.join(google_drive_directory, 'Othercomputers','My Laptop', 'projects')\n",
    "else:\n",
    "    all_projects_path = os.path.join('d:\\\\', 'projects')\n",
    "\n",
    "project_path = os.path.join(all_projects_path,'RUNI','Thesis')\n",
    "assert os.path.exists(project_path), f'Project path {project_path} not found!'\n",
    "# enable import python files from this notebook's path\n",
    "sys.path.append(project_path)\n",
    "# enable reading images and data files from this notebook's path\n",
    "os.chdir(project_path)\n",
    "\n",
    "datasets_path = os.path.join(project_path, 'datasets')\n",
    "assert os.path.exists(datasets_path), f'Datasets path {datasets_path} not found!'\n",
    "\n",
    "output_path = os.path.join(project_path, 'output')\n",
    "os.makedirs(output_path, exist_ok=True)\n",
    "assert os.path.exists(output_path), f'Output path {output_path} not found!'\n",
    "\n",
    "print(f'Current working directory: {os.getcwd()}')\n",
    "print(f'Datasets path: {datasets_path}')\n",
    "print(f'Output path: {output_path}')"
   ]
  },
  {
   "cell_type": "code",
   "execution_count": 2,
   "metadata": {},
   "outputs": [],
   "source": [
    "import numpy as np"
   ]
  },
  {
   "cell_type": "code",
   "execution_count": 3,
   "metadata": {
    "colab": {
     "base_uri": "https://localhost:8080/"
    },
    "executionInfo": {
     "elapsed": 5161,
     "status": "ok",
     "timestamp": 1733243463280,
     "user": {
      "displayName": "Dror Meirovich",
      "userId": "14310987058477987674"
     },
     "user_tz": -120
    },
    "id": "hs9MC9FbWhRB",
    "outputId": "ecd0dfde-e22d-40d6-fd54-234c5c2143e9"
   },
   "outputs": [
    {
     "name": "stdout",
     "output_type": "stream",
     "text": [
      "Numba version: 0.60.0\n",
      "numba.njit is available.\n",
      "CUDA is available and will be used for GPU operations.\n",
      "Printing CUDA active device attributes:\n",
      "==================================================\n",
      "    Name:                               NVIDIA GeForce GTX 1650\n",
      "    Free Memory:                        3367680 [KB]\n",
      "    Total Memory:                       4193984 [KB]\n",
      "    Compute capability:                 7.5\n",
      "    Clock rate:                         1560.00 [MHz]\n",
      "    Memory clock rate:                  4001.00 [MHz]\n",
      "    Memory bus width:                   128 bits\n",
      "    Memory band width (theoretical)     128.03 [GByte/Sec]\n",
      "    Number of multiprocessors:          16\n",
      "    Minimal grid size:                  128\n",
      "    Maximum grid size:                  (2147483647, 65535, 65535)\n",
      "    Maximum block dimensions:           (1024, 1024, 64)\n",
      "    Maximum threads per block:          1024\n",
      "    Warp size:                          32\n",
      "    Maximum shared memory per block:    49152 [bytes]\n",
      "    Maximum registers per block:        65536\n",
      "    Total constant memory:              65536 [bytes]\n",
      "    Asynchronous engine count:          2\n",
      "    L2 cache size:                      1048576 [bytes]\n",
      "    ECC support enabled:                False\n"
     ]
    }
   ],
   "source": [
    "from python.hpc import HybridArray"
   ]
  },
  {
   "cell_type": "markdown",
   "metadata": {},
   "source": [
    "# Testing random integers in series"
   ]
  },
  {
   "cell_type": "code",
   "execution_count": 4,
   "metadata": {},
   "outputs": [
    {
     "name": "stdout",
     "output_type": "stream",
     "text": [
      "data_py.numpy()=array([ 9450065442319768509,  3862337743853815200, 14594248465131455994,\n",
      "         825350814562895143, 13106526387416306199, 17261738891182278679,\n",
      "        4740057071801089921,  2162672848317412798, 17314823764052754940,\n",
      "        9272848099843872704], dtype=uint64)\n",
      "data_njit.numpy()=array([ 9450065442319768509,  3862337743853815200, 14594248465131455994,\n",
      "         825350814562895143, 13106526387416306199, 17261738891182278679,\n",
      "        4740057071801089921,  2162672848317412798, 17314823764052754940,\n",
      "        9272848099843872704], dtype=uint64)\n"
     ]
    },
    {
     "name": "stderr",
     "output_type": "stream",
     "text": [
      "d:\\venv\\thesis\\Lib\\site-packages\\numba\\cuda\\dispatcher.py:536: NumbaPerformanceWarning: \u001b[1mGrid size 1 will likely result in GPU under-utilization due to low occupancy.\u001b[0m\n",
      "  warn(NumbaPerformanceWarning(msg))\n"
     ]
    },
    {
     "name": "stdout",
     "output_type": "stream",
     "text": [
      "data_gpu.numpy()=array([ 9450065442319768509,  3862337743853815200, 14594248465131455994,\n",
      "         825350814562895143, 13106526387416306199, 17261738891182278679,\n",
      "        4740057071801089921,  2162672848317412798, 17314823764052754940,\n",
      "        9272848099843872704], dtype=uint64)\n"
     ]
    }
   ],
   "source": [
    "from python.random_integers.random_integers import random_integers_series\n",
    "\n",
    "data_py = HybridArray()\n",
    "data_py.realloc(shape=(10,), dtype=np.uint64, use_gpu=False)\n",
    "random_integers_series(data=data_py, seed=0, use_njit=False)\n",
    "print(f'{data_py.numpy()=}')\n",
    "\n",
    "\n",
    "data_njit = HybridArray()\n",
    "data_njit.realloc(shape=(10,), dtype=np.uint64, use_gpu=False)\n",
    "random_integers_series(data=data_njit, seed=0, use_njit=True)\n",
    "print(f'{data_njit.numpy()=}')\n",
    "\n",
    "data_gpu = HybridArray()\n",
    "data_gpu.realloc(shape=(10,), dtype=np.uint64, use_gpu=True)\n",
    "random_integers_series(data=data_gpu, seed=0)\n",
    "print(f'{data_gpu.numpy()=}')"
   ]
  },
  {
   "cell_type": "code",
   "execution_count": 5,
   "metadata": {},
   "outputs": [
    {
     "name": "stdout",
     "output_type": "stream",
     "text": [
      "[[ 0  1  2  3  4]\n",
      " [ 5  6  7  8  9]\n",
      " [10 11 12 13 14]\n",
      " [15 16 17 18 19]\n",
      " [20 21 22 23 24]]\n",
      "Python:\n",
      "==============================\n",
      "out_states:=\n",
      " [[11400714819323198485 11400714819323198486 11400714819323198487\n",
      "  11400714819323198488 11400714819323198489]\n",
      " [11400714819323198490 11400714819323198491 11400714819323198492\n",
      "  11400714819323198493 11400714819323198494]\n",
      " [11400714819323198495 11400714819323198496 11400714819323198497\n",
      "  11400714819323198498 11400714819323198499]\n",
      " [11400714819323198500 11400714819323198501 11400714819323198502\n",
      "  11400714819323198503 11400714819323198504]\n",
      " [11400714819323198505 11400714819323198506 11400714819323198507\n",
      "  11400714819323198508 11400714819323198509]]\n",
      "out_z:=\n",
      " [[16294208416658607535 10451216379200822465 10905525725756348110\n",
      "   2092789425003139053  7958955049054603978]\n",
      " [ 7134611160154358618 13647215125184110592  7191089600892374487\n",
      "  11409396526365357622 12587370737594032228]\n",
      " [  614480483733483466  5833679380957638813 10682531704454680323\n",
      "  14180207640020093695  7685909621375755838]\n",
      " [ 9753551079159975941  6764836397866521095  9260656408219841379\n",
      "   1234184003990712370 13564971763896621636]\n",
      " [ 3900778703475868044   489215147674969543 14415425345905102346\n",
      "  16778118630780010966 12306297088033431108]]\n",
      "NJIT:\n",
      "==============================\n",
      "out_states:=\n",
      " [[11400714819323198485 11400714819323198486 11400714819323198487\n",
      "  11400714819323198488 11400714819323198489]\n",
      " [11400714819323198490 11400714819323198491 11400714819323198492\n",
      "  11400714819323198493 11400714819323198494]\n",
      " [11400714819323198495 11400714819323198496 11400714819323198497\n",
      "  11400714819323198498 11400714819323198499]\n",
      " [11400714819323198500 11400714819323198501 11400714819323198502\n",
      "  11400714819323198503 11400714819323198504]\n",
      " [11400714819323198505 11400714819323198506 11400714819323198507\n",
      "  11400714819323198508 11400714819323198509]]\n",
      "out_z:=\n",
      " [[16294208416658607535 10451216379200822465 10905525725756348110\n",
      "   2092789425003139053  7958955049054603978]\n",
      " [ 7134611160154358618 13647215125184110592  7191089600892374487\n",
      "  11409396526365357622 12587370737594032228]\n",
      " [  614480483733483466  5833679380957638813 10682531704454680323\n",
      "  14180207640020093695  7685909621375755838]\n",
      " [ 9753551079159975941  6764836397866521095  9260656408219841379\n",
      "   1234184003990712370 13564971763896621636]\n",
      " [ 3900778703475868044   489215147674969543 14415425345905102346\n",
      "  16778118630780010966 12306297088033431108]]\n",
      "CUDA:\n",
      "==============================\n",
      "out_states:=\n",
      " [[11400714819323198485 11400714819323198486 11400714819323198487\n",
      "  11400714819323198488 11400714819323198489]\n",
      " [11400714819323198490 11400714819323198491 11400714819323198492\n",
      "  11400714819323198493 11400714819323198494]\n",
      " [11400714819323198495 11400714819323198496 11400714819323198497\n",
      "  11400714819323198498 11400714819323198499]\n",
      " [11400714819323198500 11400714819323198501 11400714819323198502\n",
      "  11400714819323198503 11400714819323198504]\n",
      " [11400714819323198505 11400714819323198506 11400714819323198507\n",
      "  11400714819323198508 11400714819323198509]]\n",
      "out_z:=\n",
      " [[16294208416658607535 10451216379200822465 10905525725756348110\n",
      "   2092789425003139053  7958955049054603978]\n",
      " [ 7134611160154358618 13647215125184110592  7191089600892374487\n",
      "  11409396526365357622 12587370737594032228]\n",
      " [  614480483733483466  5833679380957638813 10682531704454680323\n",
      "  14180207640020093695  7685909621375755838]\n",
      " [ 9753551079159975941  6764836397866521095  9260656408219841379\n",
      "   1234184003990712370 13564971763896621636]\n",
      " [ 3900778703475868044   489215147674969543 14415425345905102346\n",
      "  16778118630780010966 12306297088033431108]]\n"
     ]
    },
    {
     "name": "stderr",
     "output_type": "stream",
     "text": [
      "d:\\venv\\thesis\\Lib\\site-packages\\numba\\cuda\\dispatcher.py:536: NumbaPerformanceWarning: \u001b[1mGrid size 1 will likely result in GPU under-utilization due to low occupancy.\u001b[0m\n",
      "  warn(NumbaPerformanceWarning(msg))\n"
     ]
    }
   ],
   "source": [
    "from python.random_integers.random_integers import splitmix64_matrix\n",
    "seed_matrix = np.arange(25).reshape(5,5).astype(np.uint64)\n",
    "print(seed_matrix)\n",
    "out_states = HybridArray()\n",
    "out_z = HybridArray()\n",
    "splitmix64_matrix(states=seed_matrix, out_states=out_states, out_z=out_z, use_njit=False, use_gpu=False)\n",
    "print('Python:\\n' + '='*30)\n",
    "print('out_states:=\\n', out_states.numpy())\n",
    "print('out_z:=\\n', out_z.numpy())\n",
    "out_states.close()\n",
    "out_z.close()\n",
    "splitmix64_matrix(states=seed_matrix, out_states=out_states, out_z=out_z, use_njit=True, use_gpu=False)\n",
    "print('NJIT:\\n' + '='*30)\n",
    "print('out_states:=\\n', out_states.numpy())\n",
    "print('out_z:=\\n', out_z.numpy())\n",
    "out_states.close()\n",
    "out_z.close()\n",
    "splitmix64_matrix(states=seed_matrix, out_states=out_states, out_z=out_z, use_njit=False, use_gpu=True)\n",
    "print('CUDA:\\n' + '='*30)\n",
    "print('out_states:=\\n', out_states.numpy())\n",
    "print('out_z:=\\n', out_z.numpy())\n",
    "out_states.close()\n",
    "out_z.close()\n"
   ]
  },
  {
   "cell_type": "code",
   "execution_count": 6,
   "metadata": {},
   "outputs": [
    {
     "name": "stdout",
     "output_type": "stream",
     "text": [
      "[[ 0  1  2  3  4]\n",
      " [ 5  6  7  8  9]\n",
      " [10 11 12 13 14]\n",
      " [15 16 17 18 19]\n",
      " [20 21 22 23 24]]\n",
      "Python:\n",
      "==============================\n",
      "out_s0:=\n",
      " [[16294208416658607535 10451216379200822465 10905525725756348110\n",
      "   2092789425003139053  7958955049054603978]\n",
      " [ 7134611160154358618 13647215125184110592  7191089600892374487\n",
      "  11409396526365357622 12587370737594032228]\n",
      " [  614480483733483466  5833679380957638813 10682531704454680323\n",
      "  14180207640020093695  7685909621375755838]\n",
      " [ 9753551079159975941  6764836397866521095  9260656408219841379\n",
      "   1234184003990712370 13564971763896621636]\n",
      " [ 3900778703475868044   489215147674969543 14415425345905102346\n",
      "  16778118630780010966 12306297088033431108]]\n",
      "out_s1:=\n",
      " [[ 7960286522194355700 13757245211066428519 13819372491320860226\n",
      "  12918135221727111561 16462000697783136304]\n",
      " [13877614986023876344  8233034982601383833   309689372594955804\n",
      "  11288449918072354817 13847876567842155106]\n",
      " [13546682927695711814  4839782808629744545 17330038448952222807\n",
      "   6063221543909367921  1315361123233219194]\n",
      " [14391278412279324496  1466504191324546123  7220676901988789713\n",
      "  13174271513393086488  2151400992506566970]\n",
      " [  357812285139149957 16883994080231478719 17264975761475716686\n",
      "  11040593046049842679 11919467507227151275]]\n",
      "NJIT:\n",
      "==============================\n",
      "out_s0:=\n",
      " [[16294208416658607535 10451216379200822465 10905525725756348110\n",
      "   2092789425003139053  7958955049054603978]\n",
      " [ 7134611160154358618 13647215125184110592  7191089600892374487\n",
      "  11409396526365357622 12587370737594032228]\n",
      " [  614480483733483466  5833679380957638813 10682531704454680323\n",
      "  14180207640020093695  7685909621375755838]\n",
      " [ 9753551079159975941  6764836397866521095  9260656408219841379\n",
      "   1234184003990712370 13564971763896621636]\n",
      " [ 3900778703475868044   489215147674969543 14415425345905102346\n",
      "  16778118630780010966 12306297088033431108]]\n",
      "out_s1:=\n",
      " [[ 7960286522194355700 13757245211066428519 13819372491320860226\n",
      "  12918135221727111561 16462000697783136304]\n",
      " [13877614986023876344  8233034982601383833   309689372594955804\n",
      "  11288449918072354817 13847876567842155106]\n",
      " [13546682927695711814  4839782808629744545 17330038448952222807\n",
      "   6063221543909367921  1315361123233219194]\n",
      " [14391278412279324496  1466504191324546123  7220676901988789713\n",
      "  13174271513393086488  2151400992506566970]\n",
      " [  357812285139149957 16883994080231478719 17264975761475716686\n",
      "  11040593046049842679 11919467507227151275]]\n"
     ]
    },
    {
     "name": "stderr",
     "output_type": "stream",
     "text": [
      "d:\\venv\\thesis\\Lib\\site-packages\\numba\\cuda\\dispatcher.py:536: NumbaPerformanceWarning: \u001b[1mGrid size 1 will likely result in GPU under-utilization due to low occupancy.\u001b[0m\n",
      "  warn(NumbaPerformanceWarning(msg))\n"
     ]
    },
    {
     "name": "stdout",
     "output_type": "stream",
     "text": [
      "CUDA:\n",
      "==============================\n",
      "out_s0:=\n",
      " [[16294208416658607535 10451216379200822465 10905525725756348110\n",
      "   2092789425003139053  7958955049054603978]\n",
      " [ 7134611160154358618 13647215125184110592  7191089600892374487\n",
      "  11409396526365357622 12587370737594032228]\n",
      " [  614480483733483466  5833679380957638813 10682531704454680323\n",
      "  14180207640020093695  7685909621375755838]\n",
      " [ 9753551079159975941  6764836397866521095  9260656408219841379\n",
      "   1234184003990712370 13564971763896621636]\n",
      " [ 3900778703475868044   489215147674969543 14415425345905102346\n",
      "  16778118630780010966 12306297088033431108]]\n",
      "out_s1:=\n",
      " [[ 7960286522194355700 13757245211066428519 13819372491320860226\n",
      "  12918135221727111561 16462000697783136304]\n",
      " [13877614986023876344  8233034982601383833   309689372594955804\n",
      "  11288449918072354817 13847876567842155106]\n",
      " [13546682927695711814  4839782808629744545 17330038448952222807\n",
      "   6063221543909367921  1315361123233219194]\n",
      " [14391278412279324496  1466504191324546123  7220676901988789713\n",
      "  13174271513393086488  2151400992506566970]\n",
      " [  357812285139149957 16883994080231478719 17264975761475716686\n",
      "  11040593046049842679 11919467507227151275]]\n"
     ]
    }
   ],
   "source": [
    "from python.random_integers.random_integers import random_integers_base_states_matrix\n",
    "seed_matrix = np.arange(25).reshape(5,5).astype(np.uint64)\n",
    "print(seed_matrix)\n",
    "out_s0 = HybridArray()\n",
    "out_s1 = HybridArray()\n",
    "random_integers_base_states_matrix(seeds=seed_matrix, out_s0=out_s0, out_s1=out_s1, use_njit=False, use_gpu=False)\n",
    "print('Python:\\n' + '='*30)\n",
    "print('out_s0:=\\n', out_s0.numpy())\n",
    "print('out_s1:=\\n', out_s1.numpy())\n",
    "out_s0.close()\n",
    "out_s1.close()\n",
    "random_integers_base_states_matrix(seeds=seed_matrix, out_s0=out_s0, out_s1=out_s1, use_njit=True, use_gpu=False)\n",
    "print('NJIT:\\n' + '='*30)\n",
    "print('out_s0:=\\n', out_s0.numpy())\n",
    "print('out_s1:=\\n', out_s1.numpy())\n",
    "out_states.close()\n",
    "out_s1.close()\n",
    "random_integers_base_states_matrix(seeds=seed_matrix, out_s0=out_s0, out_s1=out_s1, use_njit=False, use_gpu=True)\n",
    "print('CUDA:\\n' + '='*30)\n",
    "print('out_s0:=\\n', out_s0.numpy())\n",
    "print('out_s1:=\\n', out_s1.numpy())\n",
    "out_states.close()\n",
    "out_s1.close()"
   ]
  },
  {
   "cell_type": "code",
   "execution_count": 7,
   "metadata": {},
   "outputs": [
    {
     "name": "stdout",
     "output_type": "stream",
     "text": [
      "data_py.numpy()=array([[ 9272848099843872704, 10068280237741184354, 17722164261396592110,\n",
      "         1974680106086731566, 15796988564049774960],\n",
      "       [15027215228581985497,  2391319046529270345, 12388166578288778577,\n",
      "        18223240736954576707,  5985059341229764789],\n",
      "       [11703315848202772137,  4541498137996601283,   393216479281993992,\n",
      "        10911565346044368059, 16067918475592983704],\n",
      "       [ 2569322500284416182,  4781258528930330463, 15651829567618425791,\n",
      "        13154973360509316237, 11380726293389705028],\n",
      "       [11837983085756654067, 17141966247246281316,  9643306519567434588,\n",
      "         2250551252088090109,  1071228636348648322]], dtype=uint64)\n",
      "data_njit.numpy()=array([[ 9272848099843872704, 10068280237741184354, 17722164261396592110,\n",
      "         1974680106086731566, 15796988564049774960],\n",
      "       [15027215228581985497,  2391319046529270345, 12388166578288778577,\n",
      "        18223240736954576707,  5985059341229764789],\n",
      "       [11703315848202772137,  4541498137996601283,   393216479281993992,\n",
      "        10911565346044368059, 16067918475592983704],\n",
      "       [ 2569322500284416182,  4781258528930330463, 15651829567618425791,\n",
      "        13154973360509316237, 11380726293389705028],\n",
      "       [11837983085756654067, 17141966247246281316,  9643306519567434588,\n",
      "         2250551252088090109,  1071228636348648322]], dtype=uint64)\n"
     ]
    },
    {
     "name": "stderr",
     "output_type": "stream",
     "text": [
      "d:\\venv\\thesis\\Lib\\site-packages\\numba\\cuda\\dispatcher.py:536: NumbaPerformanceWarning: \u001b[1mGrid size 1 will likely result in GPU under-utilization due to low occupancy.\u001b[0m\n",
      "  warn(NumbaPerformanceWarning(msg))\n"
     ]
    },
    {
     "name": "stdout",
     "output_type": "stream",
     "text": [
      "data_gpu.numpy()=array([[ 9272848099843872704, 10068280237741184354, 17722164261396592110,\n",
      "         1974680106086731566, 15796988564049774960],\n",
      "       [15027215228581985497,  2391319046529270345, 12388166578288778577,\n",
      "        18223240736954576707,  5985059341229764789],\n",
      "       [11703315848202772137,  4541498137996601283,   393216479281993992,\n",
      "        10911565346044368059, 16067918475592983704],\n",
      "       [ 2569322500284416182,  4781258528930330463, 15651829567618425791,\n",
      "        13154973360509316237, 11380726293389705028],\n",
      "       [11837983085756654067, 17141966247246281316,  9643306519567434588,\n",
      "         2250551252088090109,  1071228636348648322]], dtype=uint64)\n"
     ]
    }
   ],
   "source": [
    "from python.random_integers.random_integers import random_integers_matrix\n",
    "shape = (5,5)\n",
    "seed = 0\n",
    "data_py = HybridArray().realloc(shape=shape, dtype=np.float64, use_gpu=False)\n",
    "num_steps = np.uint32(0xfffffffe)\n",
    "num_steps = 10\n",
    "random_integers_matrix(data=data_py, offset_row0=seed, offset_col0=0, num_steps=num_steps, use_njit=False)\n",
    "print(f'{data_py.numpy()=}')\n",
    "\n",
    "\n",
    "data_njit = HybridArray().realloc(shape=shape, dtype=np.float64, use_gpu=False)\n",
    "random_integers_matrix(data=data_njit, offset_row0=seed, offset_col0=0, num_steps=num_steps, use_njit=True)\n",
    "print(f'{data_njit.numpy()=}')\n",
    "\n",
    "data_gpu = HybridArray().realloc(shape=shape, dtype=np.float64, use_gpu=True)\n",
    "random_integers_matrix(data=data_gpu, offset_row0=seed, offset_col0=0, num_steps=num_steps)\n",
    "print(f'{data_gpu.numpy()=}')"
   ]
  }
 ],
 "metadata": {
  "accelerator": "GPU",
  "colab": {
   "gpuType": "T4",
   "provenance": []
  },
  "kernelspec": {
   "display_name": "thesis",
   "language": "python",
   "name": "python3"
  },
  "language_info": {
   "codemirror_mode": {
    "name": "ipython",
    "version": 3
   },
   "file_extension": ".py",
   "mimetype": "text/x-python",
   "name": "python",
   "nbconvert_exporter": "python",
   "pygments_lexer": "ipython3",
   "version": "3.11.5"
  }
 },
 "nbformat": 4,
 "nbformat_minor": 0
}
