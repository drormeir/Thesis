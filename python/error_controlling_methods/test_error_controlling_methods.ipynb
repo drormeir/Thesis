{
 "cells": [
  {
   "cell_type": "markdown",
   "metadata": {},
   "source": [
    "### Porting to Google Colab\n",
    "The following cell enables this notebook to run from Google Colab as well as from your local machine IDE.<br>\n",
    "You can change `root_directory` and/or `this_notebook_google_path` to point to the directory in your Google account, which contains this notebook, together with the `imgs` sub-directory and the rest of the files.<br>"
   ]
  },
  {
   "cell_type": "code",
   "execution_count": 1,
   "metadata": {},
   "outputs": [
    {
     "name": "stdout",
     "output_type": "stream",
     "text": [
      "Current working directory: d:\\projects\\RUNI\\Thesis\n",
      "Datasets path: d:\\projects\\RUNI\\Thesis\\datasets\n",
      "Output path: d:\\projects\\RUNI\\Thesis\\output\n"
     ]
    }
   ],
   "source": [
    "import sys\n",
    "import os\n",
    "try:\n",
    "    from google.colab import drive as google_drive # type: ignore\n",
    "except:\n",
    "    # no Google Colab --> fall back to local machine\n",
    "    google_drive = None\n",
    "\n",
    "if google_drive is not None:\n",
    "    google_drive_directory = os.path.join('/','content','gdrive')\n",
    "    google_drive.mount(google_drive_directory)\n",
    "    all_projects_path = os.path.join(google_drive_directory, 'Othercomputers','My Laptop', 'projects')\n",
    "else:\n",
    "    all_projects_path = os.path.join('d:\\\\', 'projects')\n",
    "\n",
    "project_path = os.path.join(all_projects_path,'RUNI','Thesis')\n",
    "assert os.path.exists(project_path), f'Project path {project_path} not found!'\n",
    "# enable import python files from this notebook's path\n",
    "sys.path.append(project_path)\n",
    "# enable reading images and data files from this notebook's path\n",
    "os.chdir(project_path)\n",
    "\n",
    "datasets_path = os.path.join(project_path, 'datasets')\n",
    "assert os.path.exists(datasets_path), f'Datasets path {datasets_path} not found!'\n",
    "\n",
    "output_path = os.path.join(project_path, 'output')\n",
    "os.makedirs(output_path, exist_ok=True)\n",
    "assert os.path.exists(output_path), f'Output path {output_path} not found!'\n",
    "\n",
    "print(f'Current working directory: {os.getcwd()}')\n",
    "print(f'Datasets path: {datasets_path}')\n",
    "print(f'Output path: {output_path}')"
   ]
  },
  {
   "cell_type": "code",
   "execution_count": 2,
   "metadata": {},
   "outputs": [
    {
     "name": "stdout",
     "output_type": "stream",
     "text": [
      "Numba version: 0.60.0\n",
      "numba.njit is available.\n",
      "CUDA is available and will be used for GPU operations.\n",
      "Printing CUDA active device attributes:\n",
      "==================================================\n",
      "    Name:                               NVIDIA GeForce GTX 1650\n",
      "    Free Memory:                        3367680 [KB]\n",
      "    Total Memory:                       4193984 [KB]\n",
      "    Compute capability:                 7.5\n",
      "    Clock rate:                         1560.00 [MHz]\n",
      "    Memory clock rate:                  4001.00 [MHz]\n",
      "    Memory bus width:                   128 bits\n",
      "    Memory band width (theoretical)     128.03 [GByte/Sec]\n",
      "    Number of multiprocessors:          16\n",
      "    Minimal grid size:                  128\n",
      "    Maximum grid size:                  (2147483647, 65535, 65535)\n",
      "    Maximum block dimensions:           (1024, 1024, 64)\n",
      "    Maximum threads per block:          1024\n",
      "    Warp size:                          32\n",
      "    Maximum shared memory per block:    49152 [bytes]\n",
      "    Maximum registers per block:        65536\n",
      "    Total constant memory:              65536 [bytes]\n",
      "    Asynchronous engine count:          2\n",
      "    L2 cache size:                      1048576 [bytes]\n",
      "    ECC support enabled:                False\n"
     ]
    }
   ],
   "source": [
    "from python.hpc import HybridArray"
   ]
  },
  {
   "cell_type": "code",
   "execution_count": 3,
   "metadata": {},
   "outputs": [],
   "source": [
    "import numpy as np\n",
    "from python.rare_weak_model.rare_weak_model import rare_weak_model\n",
    "from python.error_controlling_methods.error_controlling_methods import topk, bonferroni, benjamini_hochberg\n",
    "\n",
    "def simulation(shape: tuple, gpu: bool, njit: bool, method: str,\\\n",
    "               num_steps: int=3, epsilon: float = 0.01, mu: float = 1.0) -> tuple[np.ndarray, np.ndarray, np.ndarray]:\n",
    "    with (\n",
    "        HybridArray() as sorted_p_values,\n",
    "        HybridArray() as counts,\n",
    "        HybridArray() as num_discoveries\n",
    "    ):    \n",
    "        sorted_p_values.realloc(shape=shape, dtype=np.float64, use_gpu=gpu)\n",
    "        n1 = max(np.uint32(1),np.uint32(epsilon*shape[1]))\n",
    "        rare_weak_model(sorted_p_values_output=sorted_p_values, cumulative_counts_output=counts,\\\n",
    "                        mu=mu, n1=n1, num_steps=num_steps, use_njit=njit)\n",
    "        if method == 'topk':\n",
    "            topk(sorted_p_values_input=sorted_p_values, num_discoveries_output=num_discoveries, use_njit=njit)\n",
    "        elif method == 'bonferroni':\n",
    "            bonferroni(sorted_p_values_input=sorted_p_values, num_discoveries_output=num_discoveries, use_njit=njit)\n",
    "        elif method == 'benjamini_hochberg':\n",
    "            benjamini_hochberg(sorted_p_values_input=sorted_p_values, num_discoveries_output=num_discoveries, use_njit=njit)\n",
    "        else:\n",
    "            assert False\n",
    "        ret = (sorted_p_values.numpy(), counts.numpy(), num_discoveries.numpy())\n",
    "    return ret\n",
    "\n",
    "def simulation3(shape: tuple, method: str, num_steps: int=3,\\\n",
    "                epsilon: float = 0.01, mu: float = 1.0) -> None:\n",
    "    print(f'Running on {method=} {shape=} {epsilon=} {mu=} {num_steps=}')\n",
    "    for gpu,njit in [(False,False), (False,True), (True,False)]:\n",
    "        p_values, counts, num_discoveries = simulation(shape=shape, gpu=gpu, njit=njit, method=method, num_steps=num_steps, epsilon=epsilon, mu=mu)\n",
    "        print(f'{gpu=} {njit=} --> p_values.mean={p_values.mean():.2f} counts.mean={counts.mean():.2f} num_discoveries.mean={num_discoveries.mean():.2f}')\n",
    "\n",
    "\n"
   ]
  },
  {
   "cell_type": "code",
   "execution_count": 4,
   "metadata": {},
   "outputs": [
    {
     "name": "stdout",
     "output_type": "stream",
     "text": [
      "Running on method='topk' shape=(100, 1000) epsilon=0.1 mu=1.0 num_steps=3\n",
      "gpu=False njit=False --> p_values.mean=0.24 counts.mean=49.52 num_discoveries.mean=500.50\n",
      "gpu=False njit=True --> p_values.mean=0.24 counts.mean=49.52 num_discoveries.mean=500.50\n",
      "gpu=True njit=False --> p_values.mean=0.24 counts.mean=49.52 num_discoveries.mean=500.50\n"
     ]
    },
    {
     "name": "stderr",
     "output_type": "stream",
     "text": [
      "d:\\venv\\thesis\\Lib\\site-packages\\numba\\cuda\\dispatcher.py:536: NumbaPerformanceWarning: \u001b[1mGrid size 98 will likely result in GPU under-utilization due to low occupancy.\u001b[0m\n",
      "  warn(NumbaPerformanceWarning(msg))\n",
      "d:\\venv\\thesis\\Lib\\site-packages\\numba\\cuda\\dispatcher.py:536: NumbaPerformanceWarning: \u001b[1mGrid size 2 will likely result in GPU under-utilization due to low occupancy.\u001b[0m\n",
      "  warn(NumbaPerformanceWarning(msg))\n"
     ]
    }
   ],
   "source": [
    "shape=(100,1000)\n",
    "num_steps = 3\n",
    "epsilon = 0.1\n",
    "mu = 1.0\n",
    "simulation3(shape=shape, method='topk', num_steps=num_steps, epsilon=epsilon, mu=mu)"
   ]
  },
  {
   "cell_type": "code",
   "execution_count": 5,
   "metadata": {},
   "outputs": [
    {
     "name": "stdout",
     "output_type": "stream",
     "text": [
      "Running on method='bonferroni' shape=(100, 1000) epsilon=0.1 mu=1.0 num_steps=3\n",
      "gpu=False njit=False --> p_values.mean=0.24 counts.mean=49.52 num_discoveries.mean=760.11\n",
      "gpu=False njit=True --> p_values.mean=0.24 counts.mean=49.52 num_discoveries.mean=760.11\n",
      "gpu=True njit=False --> p_values.mean=0.24 counts.mean=49.52 num_discoveries.mean=760.11\n"
     ]
    },
    {
     "name": "stderr",
     "output_type": "stream",
     "text": [
      "d:\\venv\\thesis\\Lib\\site-packages\\numba\\cuda\\dispatcher.py:536: NumbaPerformanceWarning: \u001b[1mGrid size 98 will likely result in GPU under-utilization due to low occupancy.\u001b[0m\n",
      "  warn(NumbaPerformanceWarning(msg))\n",
      "d:\\venv\\thesis\\Lib\\site-packages\\numba\\cuda\\dispatcher.py:536: NumbaPerformanceWarning: \u001b[1mGrid size 2 will likely result in GPU under-utilization due to low occupancy.\u001b[0m\n",
      "  warn(NumbaPerformanceWarning(msg))\n"
     ]
    }
   ],
   "source": [
    "simulation3(shape=shape, method='bonferroni', num_steps=num_steps, epsilon=epsilon, mu=mu)"
   ]
  },
  {
   "cell_type": "code",
   "execution_count": 6,
   "metadata": {},
   "outputs": [
    {
     "name": "stdout",
     "output_type": "stream",
     "text": [
      "Running on method='benjamini_hochberg' shape=(100, 1000) epsilon=0.1 mu=1.0 num_steps=3\n",
      "gpu=False njit=False --> p_values.mean=0.24 counts.mean=49.52 num_discoveries.mean=640.74\n",
      "gpu=False njit=True --> p_values.mean=0.24 counts.mean=49.52 num_discoveries.mean=640.74\n",
      "gpu=True njit=False --> p_values.mean=0.24 counts.mean=49.52 num_discoveries.mean=640.74\n"
     ]
    },
    {
     "name": "stderr",
     "output_type": "stream",
     "text": [
      "d:\\venv\\thesis\\Lib\\site-packages\\numba\\cuda\\dispatcher.py:536: NumbaPerformanceWarning: \u001b[1mGrid size 98 will likely result in GPU under-utilization due to low occupancy.\u001b[0m\n",
      "  warn(NumbaPerformanceWarning(msg))\n",
      "d:\\venv\\thesis\\Lib\\site-packages\\numba\\cuda\\dispatcher.py:536: NumbaPerformanceWarning: \u001b[1mGrid size 2 will likely result in GPU under-utilization due to low occupancy.\u001b[0m\n",
      "  warn(NumbaPerformanceWarning(msg))\n"
     ]
    }
   ],
   "source": [
    "simulation3(shape=shape, method='benjamini_hochberg', num_steps=num_steps, epsilon=epsilon, mu=mu)"
   ]
  }
 ],
 "metadata": {
  "kernelspec": {
   "display_name": "thesis",
   "language": "python",
   "name": "python3"
  },
  "language_info": {
   "codemirror_mode": {
    "name": "ipython",
    "version": 3
   },
   "file_extension": ".py",
   "mimetype": "text/x-python",
   "name": "python",
   "nbconvert_exporter": "python",
   "pygments_lexer": "ipython3",
   "version": "3.11.9"
  }
 },
 "nbformat": 4,
 "nbformat_minor": 2
}
