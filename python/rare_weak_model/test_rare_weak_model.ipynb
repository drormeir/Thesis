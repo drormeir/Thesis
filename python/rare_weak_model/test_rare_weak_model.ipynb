{
 "cells": [
  {
   "cell_type": "markdown",
   "metadata": {
    "id": "NLG_lYgZWhQ-"
   },
   "source": [
    "### Porting to Google Colab\n",
    "The following cell enables this notebook to run from Google Colab as well as from your local machine IDE.<br>\n",
    "You can change `root_directory` and/or `this_notebook_google_path` to point to the directory in your Google account, which contains this notebook, together with the `imgs` sub-directory and the rest of the files.<br>"
   ]
  },
  {
   "cell_type": "code",
   "execution_count": 1,
   "metadata": {
    "colab": {
     "base_uri": "https://localhost:8080/"
    },
    "executionInfo": {
     "elapsed": 28864,
     "status": "ok",
     "timestamp": 1733243458122,
     "user": {
      "displayName": "Dror Meirovich",
      "userId": "14310987058477987674"
     },
     "user_tz": -120
    },
    "id": "RwolyPfQWhQ_",
    "outputId": "8e74500e-d028-4a32-eb31-05a7e582b58d"
   },
   "outputs": [
    {
     "name": "stdout",
     "output_type": "stream",
     "text": [
      "Current working directory: d:\\projects\\RUNI\\Thesis\n",
      "Datasets path: d:\\projects\\RUNI\\Thesis\\datasets\n",
      "Output path: d:\\projects\\RUNI\\Thesis\\output\n"
     ]
    }
   ],
   "source": [
    "import sys\n",
    "import os\n",
    "try:\n",
    "    from google.colab import drive as google_drive\n",
    "except:\n",
    "    # no Google Colab --> fall back to local machine\n",
    "    google_drive = None\n",
    "\n",
    "if google_drive is not None:\n",
    "    google_drive_directory = os.path.join('/','content','gdrive')\n",
    "    google_drive.mount(google_drive_directory)\n",
    "    all_projects_path = os.path.join(google_drive_directory, 'Othercomputers','My Laptop', 'projects')\n",
    "else:\n",
    "    all_projects_path = os.path.join('d:\\\\', 'projects')\n",
    "\n",
    "project_path = os.path.join(all_projects_path,'RUNI','Thesis')\n",
    "assert os.path.exists(project_path), f'Project path {project_path} not found!'\n",
    "# enable import python files from this notebook's path\n",
    "sys.path.append(project_path)\n",
    "# enable reading images and data files from this notebook's path\n",
    "os.chdir(project_path)\n",
    "\n",
    "datasets_path = os.path.join(project_path, 'datasets')\n",
    "assert os.path.exists(datasets_path), f'Datasets path {datasets_path} not found!'\n",
    "\n",
    "output_path = os.path.join(project_path, 'output')\n",
    "os.makedirs(output_path, exist_ok=True)\n",
    "assert os.path.exists(output_path), f'Output path {output_path} not found!'\n",
    "\n",
    "print(f'Current working directory: {os.getcwd()}')\n",
    "print(f'Datasets path: {datasets_path}')\n",
    "print(f'Output path: {output_path}')"
   ]
  },
  {
   "cell_type": "code",
   "execution_count": 2,
   "metadata": {},
   "outputs": [],
   "source": [
    "import numpy as np"
   ]
  },
  {
   "cell_type": "code",
   "execution_count": 3,
   "metadata": {
    "colab": {
     "base_uri": "https://localhost:8080/"
    },
    "executionInfo": {
     "elapsed": 5161,
     "status": "ok",
     "timestamp": 1733243463280,
     "user": {
      "displayName": "Dror Meirovich",
      "userId": "14310987058477987674"
     },
     "user_tz": -120
    },
    "id": "hs9MC9FbWhRB",
    "outputId": "ecd0dfde-e22d-40d6-fd54-234c5c2143e9"
   },
   "outputs": [
    {
     "name": "stdout",
     "output_type": "stream",
     "text": [
      "Numba version: 0.60.0\n",
      "numba.njit is available.\n",
      "CUDA is available and will be used for GPU operations.\n",
      "Printing CUDA active device attributes:\n",
      "==================================================\n",
      "    Name:                               NVIDIA GeForce GTX 1650\n",
      "    Free Memory:                        3367680 [KB]\n",
      "    Total Memory:                       4193984 [KB]\n",
      "    Compute capability:                 7.5\n",
      "    Clock rate:                         1560.00 [MHz]\n",
      "    Memory clock rate:                  4001.00 [MHz]\n",
      "    Memory bus width:                   128 bits\n",
      "    Memory band width (theoretical)     128.03 [GByte/Sec]\n",
      "    Number of multiprocessors:          16\n",
      "    Minimal grid size:                  128\n",
      "    Maximum grid size:                  (2147483647, 65535, 65535)\n",
      "    Maximum block dimensions:           (1024, 1024, 64)\n",
      "    Maximum threads per block:          1024\n",
      "    Warp size:                          32\n",
      "    Maximum shared memory per block:    49152 [bytes]\n",
      "    Maximum registers per block:        65536\n",
      "    Total constant memory:              65536 [bytes]\n",
      "    Asynchronous engine count:          2\n",
      "    L2 cache size:                      1048576 [bytes]\n",
      "    ECC support enabled:                False\n"
     ]
    }
   ],
   "source": [
    "from python.hpc import HybridArray"
   ]
  },
  {
   "cell_type": "markdown",
   "metadata": {},
   "source": [
    "# Testing random p-values in vector"
   ]
  },
  {
   "cell_type": "code",
   "execution_count": 4,
   "metadata": {},
   "outputs": [
    {
     "name": "stdout",
     "output_type": "stream",
     "text": [
      "data_py.numpy().mean()=0.5002764624347839\n",
      "data_njit.numpy().mean()=0.5002764624347839\n"
     ]
    },
    {
     "name": "stderr",
     "output_type": "stream",
     "text": [
      "d:\\venv\\thesis\\Lib\\site-packages\\numba\\cuda\\dispatcher.py:536: NumbaPerformanceWarning: \u001b[1mGrid size 1 will likely result in GPU under-utilization due to low occupancy.\u001b[0m\n",
      "  warn(NumbaPerformanceWarning(msg))\n"
     ]
    },
    {
     "name": "stdout",
     "output_type": "stream",
     "text": [
      "data_gpu.numpy().mean()=0.5002764624347839\n"
     ]
    }
   ],
   "source": [
    "from python.rare_weak_model.rare_weak_model import random_p_values_series\n",
    "num_p_values = 100000\n",
    "seed = 3\n",
    "data_py = HybridArray()\n",
    "data_py.realloc(shape=(num_p_values,), dtype=np.float64, use_gpu=False)\n",
    "random_p_values_series(data=data_py, seed=seed, use_njit=False)\n",
    "print(f'{data_py.numpy().mean()=}')\n",
    "\n",
    "\n",
    "data_njit = HybridArray()\n",
    "data_njit.realloc(shape=(num_p_values,), dtype=np.float64, use_gpu=False)\n",
    "random_p_values_series(data=data_njit, seed=seed, use_njit=True)\n",
    "print(f'{data_njit.numpy().mean()=}')\n",
    "\n",
    "data_gpu = HybridArray()\n",
    "data_gpu.realloc(shape=(num_p_values,), dtype=np.float64, use_gpu=True)\n",
    "random_p_values_series(data=data_gpu, seed=seed)\n",
    "print(f'{data_gpu.numpy().mean()=}')"
   ]
  },
  {
   "cell_type": "code",
   "execution_count": 5,
   "metadata": {},
   "outputs": [
    {
     "name": "stdout",
     "output_type": "stream",
     "text": [
      "data_py.numpy()=array([[0.66353756, 0.52782385, 0.89450499, 0.77120821, 0.49339747],\n",
      "       [0.22140645, 0.36301647, 0.78660585, 0.39405075, 0.94421265],\n",
      "       [0.34319752, 0.14869546, 0.17618343, 0.37412645, 0.928439  ],\n",
      "       [0.88389307, 0.74090471, 0.59886579, 0.88811478, 0.81712634],\n",
      "       [0.75830239, 0.54927179, 0.87495339, 0.53698289, 0.9222093 ]])\n",
      "data_njit.numpy()=array([[0.66353756, 0.52782385, 0.89450499, 0.77120821, 0.49339747],\n",
      "       [0.22140645, 0.36301647, 0.78660585, 0.39405075, 0.94421265],\n",
      "       [0.34319752, 0.14869546, 0.17618343, 0.37412645, 0.928439  ],\n",
      "       [0.88389307, 0.74090471, 0.59886579, 0.88811478, 0.81712634],\n",
      "       [0.75830239, 0.54927179, 0.87495339, 0.53698289, 0.9222093 ]])\n"
     ]
    },
    {
     "name": "stderr",
     "output_type": "stream",
     "text": [
      "d:\\venv\\thesis\\Lib\\site-packages\\numba\\cuda\\dispatcher.py:536: NumbaPerformanceWarning: \u001b[1mGrid size 1 will likely result in GPU under-utilization due to low occupancy.\u001b[0m\n",
      "  warn(NumbaPerformanceWarning(msg))\n"
     ]
    },
    {
     "name": "stdout",
     "output_type": "stream",
     "text": [
      "data_gpu.numpy()=array([[0.66353756, 0.52782385, 0.89450499, 0.77120821, 0.49339747],\n",
      "       [0.22140645, 0.36301647, 0.78660585, 0.39405075, 0.94421265],\n",
      "       [0.34319752, 0.14869546, 0.17618343, 0.37412645, 0.928439  ],\n",
      "       [0.88389307, 0.74090471, 0.59886579, 0.88811478, 0.81712634],\n",
      "       [0.75830239, 0.54927179, 0.87495339, 0.53698289, 0.9222093 ]])\n"
     ]
    }
   ],
   "source": [
    "from python.rare_weak_model.rare_weak_model import random_p_values_matrix\n",
    "shape = (5,5)\n",
    "seed = 0\n",
    "data_py = HybridArray().realloc(shape=shape, dtype=np.float64, use_gpu=False)\n",
    "num_steps = 1\n",
    "num_steps = 10\n",
    "random_p_values_matrix(data=data_py, offset_row0=seed, offset_col0=0, num_steps=num_steps, use_njit=False)\n",
    "print(f'{data_py.numpy()=}')\n",
    "\n",
    "\n",
    "data_njit = HybridArray().realloc(shape=shape, dtype=np.float64, use_gpu=False)\n",
    "random_p_values_matrix(data=data_njit, offset_row0=seed, offset_col0=0, num_steps=num_steps, use_njit=True)\n",
    "print(f'{data_njit.numpy()=}')\n",
    "\n",
    "data_gpu = HybridArray().realloc(shape=shape, dtype=np.float64, use_gpu=True)\n",
    "random_p_values_matrix(data=data_gpu, offset_row0=seed, offset_col0=0, num_steps=num_steps)\n",
    "print(f'{data_gpu.numpy()=}')"
   ]
  },
  {
   "cell_type": "code",
   "execution_count": 6,
   "metadata": {},
   "outputs": [
    {
     "name": "stdout",
     "output_type": "stream",
     "text": [
      "data_py.numpy()=array([[0.28167837, 0.17613395, 0.5990341 , 0.39852443, 0.15468357],\n",
      "       [0.03857629, 0.08844266, 0.41866869, 0.10226035, 0.72279171],\n",
      "       [0.08019634, 0.02057355, 0.02680291, 0.09326003, 0.67877048],\n",
      "       [0.57717648, 0.36172081, 0.22675157, 0.58572563, 0.46194612],\n",
      "       [0.38241366, 0.19046656, 0.55966622, 0.18215991, 0.66279026]])\n"
     ]
    },
    {
     "ename": "TypingError",
     "evalue": "Failed in nopython mode pipeline (step: nopython frontend)\n\u001b[1mUntyped global name 'norm':\u001b[0m \u001b[1m\u001b[1mCannot determine Numba type of <class 'scipy.stats._continuous_distns.norm_gen'>\u001b[0m\n\u001b[1m\nFile \"python\\rare_weak_model\\numba_cpu.py\", line 23:\u001b[0m\n\u001b[1m    def random_modified_p_values_matrix_cpu_njit(num_steps: np.uint32, offset_row0: np.uint32, offset_col0: np.uint32, mu: np.float64, out: np.ndarray) -> None:\n        <source elided>\n        # sf(x) = 0.5 * erfc(x / sqrt(2))\n\u001b[1m        out[:] = norm.sf(norm.isf(out) + mu)\n\u001b[0m        \u001b[1m^\u001b[0m\u001b[0m\n\u001b[0m",
     "output_type": "error",
     "traceback": [
      "\u001b[1;31m---------------------------------------------------------------------------\u001b[0m",
      "\u001b[1;31mTypingError\u001b[0m                               Traceback (most recent call last)",
      "Cell \u001b[1;32mIn[6], line 13\u001b[0m\n\u001b[0;32m      9\u001b[0m \u001b[38;5;28mprint\u001b[39m(\u001b[38;5;124mf\u001b[39m\u001b[38;5;124m'\u001b[39m\u001b[38;5;132;01m{\u001b[39;00mdata_py\u001b[38;5;241m.\u001b[39mnumpy()\u001b[38;5;132;01m=}\u001b[39;00m\u001b[38;5;124m'\u001b[39m)\n\u001b[0;32m     12\u001b[0m data_njit \u001b[38;5;241m=\u001b[39m HybridArray()\u001b[38;5;241m.\u001b[39mrealloc(shape\u001b[38;5;241m=\u001b[39mshape, dtype\u001b[38;5;241m=\u001b[39mnp\u001b[38;5;241m.\u001b[39mfloat64, use_gpu\u001b[38;5;241m=\u001b[39m\u001b[38;5;28;01mFalse\u001b[39;00m)\n\u001b[1;32m---> 13\u001b[0m \u001b[43mrandom_modified_p_values_matrix\u001b[49m\u001b[43m(\u001b[49m\u001b[43mdata\u001b[49m\u001b[38;5;241;43m=\u001b[39;49m\u001b[43mdata_njit\u001b[49m\u001b[43m,\u001b[49m\u001b[43m \u001b[49m\u001b[43mmu\u001b[49m\u001b[38;5;241;43m=\u001b[39;49m\u001b[43mmu\u001b[49m\u001b[43m,\u001b[49m\u001b[43m \u001b[49m\u001b[43moffset_row0\u001b[49m\u001b[38;5;241;43m=\u001b[39;49m\u001b[43mseed\u001b[49m\u001b[43m,\u001b[49m\u001b[43m \u001b[49m\u001b[43moffset_col0\u001b[49m\u001b[38;5;241;43m=\u001b[39;49m\u001b[38;5;241;43m0\u001b[39;49m\u001b[43m,\u001b[49m\u001b[43m \u001b[49m\u001b[43mnum_steps\u001b[49m\u001b[38;5;241;43m=\u001b[39;49m\u001b[43mnum_steps\u001b[49m\u001b[43m,\u001b[49m\u001b[43m \u001b[49m\u001b[43muse_njit\u001b[49m\u001b[38;5;241;43m=\u001b[39;49m\u001b[38;5;28;43;01mTrue\u001b[39;49;00m\u001b[43m)\u001b[49m\n\u001b[0;32m     14\u001b[0m \u001b[38;5;28mprint\u001b[39m(\u001b[38;5;124mf\u001b[39m\u001b[38;5;124m'\u001b[39m\u001b[38;5;132;01m{\u001b[39;00mdata_njit\u001b[38;5;241m.\u001b[39mnumpy()\u001b[38;5;132;01m=}\u001b[39;00m\u001b[38;5;124m'\u001b[39m)\n\u001b[0;32m     16\u001b[0m data_gpu \u001b[38;5;241m=\u001b[39m HybridArray()\u001b[38;5;241m.\u001b[39mrealloc(shape\u001b[38;5;241m=\u001b[39mshape, dtype\u001b[38;5;241m=\u001b[39mnp\u001b[38;5;241m.\u001b[39mfloat64, use_gpu\u001b[38;5;241m=\u001b[39m\u001b[38;5;28;01mTrue\u001b[39;00m)\n",
      "File \u001b[1;32md:\\projects\\RUNI\\Thesis\\python\\rare_weak_model\\rare_weak_model.py:28\u001b[0m, in \u001b[0;36mrandom_modified_p_values_matrix\u001b[1;34m(data, mu, offset_row0, offset_col0, num_steps, use_njit)\u001b[0m\n\u001b[0;32m     26\u001b[0m \u001b[38;5;28;01massert\u001b[39;00m \u001b[38;5;28misinstance\u001b[39m(data\u001b[38;5;241m.\u001b[39mdata, np\u001b[38;5;241m.\u001b[39mndarray)\n\u001b[0;32m     27\u001b[0m \u001b[38;5;28;01mif\u001b[39;00m \u001b[38;5;28mglobals\u001b[39m\u001b[38;5;241m.\u001b[39mcpu_njit_num_threads \u001b[38;5;129;01mand\u001b[39;00m (use_njit \u001b[38;5;129;01mis\u001b[39;00m \u001b[38;5;28;01mNone\u001b[39;00m \u001b[38;5;129;01mor\u001b[39;00m use_njit):\n\u001b[1;32m---> 28\u001b[0m     \u001b[43mrandom_modified_p_values_matrix_cpu_njit\u001b[49m\u001b[43m(\u001b[49m\u001b[43mnum_steps\u001b[49m\u001b[38;5;241;43m=\u001b[39;49m\u001b[43mnum_steps\u001b[49m\u001b[43m,\u001b[49m\u001b[43m \u001b[49m\u001b[43moffset_row0\u001b[49m\u001b[38;5;241;43m=\u001b[39;49m\u001b[43moffset_row0\u001b[49m\u001b[43m,\u001b[49m\u001b[43m \u001b[49m\u001b[43moffset_col0\u001b[49m\u001b[38;5;241;43m=\u001b[39;49m\u001b[43moffset_col0\u001b[49m\u001b[43m,\u001b[49m\u001b[43m \u001b[49m\u001b[43mmu\u001b[49m\u001b[38;5;241;43m=\u001b[39;49m\u001b[43mmu\u001b[49m\u001b[43m,\u001b[49m\u001b[43m \u001b[49m\u001b[43mout\u001b[49m\u001b[38;5;241;43m=\u001b[39;49m\u001b[43mdata\u001b[49m\u001b[38;5;241;43m.\u001b[39;49m\u001b[43mdata\u001b[49m\u001b[43m)\u001b[49m\n\u001b[0;32m     29\u001b[0m \u001b[38;5;28;01melse\u001b[39;00m:\n\u001b[0;32m     30\u001b[0m     random_modified_p_values_matrix_py(num_steps\u001b[38;5;241m=\u001b[39mnum_steps, offset_row0\u001b[38;5;241m=\u001b[39moffset_row0, offset_col0\u001b[38;5;241m=\u001b[39moffset_col0, mu\u001b[38;5;241m=\u001b[39mmu, out\u001b[38;5;241m=\u001b[39mdata\u001b[38;5;241m.\u001b[39mdata)\n",
      "File \u001b[1;32md:\\venv\\thesis\\Lib\\site-packages\\numba\\core\\dispatcher.py:423\u001b[0m, in \u001b[0;36m_DispatcherBase._compile_for_args\u001b[1;34m(self, *args, **kws)\u001b[0m\n\u001b[0;32m    419\u001b[0m         msg \u001b[38;5;241m=\u001b[39m (\u001b[38;5;124mf\u001b[39m\u001b[38;5;124m\"\u001b[39m\u001b[38;5;132;01m{\u001b[39;00m\u001b[38;5;28mstr\u001b[39m(e)\u001b[38;5;241m.\u001b[39mrstrip()\u001b[38;5;132;01m}\u001b[39;00m\u001b[38;5;124m \u001b[39m\u001b[38;5;130;01m\\n\u001b[39;00m\u001b[38;5;130;01m\\n\u001b[39;00m\u001b[38;5;124mThis error may have been caused \u001b[39m\u001b[38;5;124m\"\u001b[39m\n\u001b[0;32m    420\u001b[0m                \u001b[38;5;124mf\u001b[39m\u001b[38;5;124m\"\u001b[39m\u001b[38;5;124mby the following argument(s):\u001b[39m\u001b[38;5;130;01m\\n\u001b[39;00m\u001b[38;5;132;01m{\u001b[39;00margs_str\u001b[38;5;132;01m}\u001b[39;00m\u001b[38;5;130;01m\\n\u001b[39;00m\u001b[38;5;124m\"\u001b[39m)\n\u001b[0;32m    421\u001b[0m         e\u001b[38;5;241m.\u001b[39mpatch_message(msg)\n\u001b[1;32m--> 423\u001b[0m     \u001b[43merror_rewrite\u001b[49m\u001b[43m(\u001b[49m\u001b[43me\u001b[49m\u001b[43m,\u001b[49m\u001b[43m \u001b[49m\u001b[38;5;124;43m'\u001b[39;49m\u001b[38;5;124;43mtyping\u001b[39;49m\u001b[38;5;124;43m'\u001b[39;49m\u001b[43m)\u001b[49m\n\u001b[0;32m    424\u001b[0m \u001b[38;5;28;01mexcept\u001b[39;00m errors\u001b[38;5;241m.\u001b[39mUnsupportedError \u001b[38;5;28;01mas\u001b[39;00m e:\n\u001b[0;32m    425\u001b[0m     \u001b[38;5;66;03m# Something unsupported is present in the user code, add help info\u001b[39;00m\n\u001b[0;32m    426\u001b[0m     error_rewrite(e, \u001b[38;5;124m'\u001b[39m\u001b[38;5;124munsupported_error\u001b[39m\u001b[38;5;124m'\u001b[39m)\n",
      "File \u001b[1;32md:\\venv\\thesis\\Lib\\site-packages\\numba\\core\\dispatcher.py:364\u001b[0m, in \u001b[0;36m_DispatcherBase._compile_for_args.<locals>.error_rewrite\u001b[1;34m(e, issue_type)\u001b[0m\n\u001b[0;32m    362\u001b[0m     \u001b[38;5;28;01mraise\u001b[39;00m e\n\u001b[0;32m    363\u001b[0m \u001b[38;5;28;01melse\u001b[39;00m:\n\u001b[1;32m--> 364\u001b[0m     \u001b[38;5;28;01mraise\u001b[39;00m e\u001b[38;5;241m.\u001b[39mwith_traceback(\u001b[38;5;28;01mNone\u001b[39;00m)\n",
      "\u001b[1;31mTypingError\u001b[0m: Failed in nopython mode pipeline (step: nopython frontend)\n\u001b[1mUntyped global name 'norm':\u001b[0m \u001b[1m\u001b[1mCannot determine Numba type of <class 'scipy.stats._continuous_distns.norm_gen'>\u001b[0m\n\u001b[1m\nFile \"python\\rare_weak_model\\numba_cpu.py\", line 23:\u001b[0m\n\u001b[1m    def random_modified_p_values_matrix_cpu_njit(num_steps: np.uint32, offset_row0: np.uint32, offset_col0: np.uint32, mu: np.float64, out: np.ndarray) -> None:\n        <source elided>\n        # sf(x) = 0.5 * erfc(x / sqrt(2))\n\u001b[1m        out[:] = norm.sf(norm.isf(out) + mu)\n\u001b[0m        \u001b[1m^\u001b[0m\u001b[0m\n\u001b[0m"
     ]
    }
   ],
   "source": [
    "from python.rare_weak_model.rare_weak_model import random_modified_p_values_matrix\n",
    "shape = (5,5)\n",
    "seed = 0\n",
    "data_py = HybridArray().realloc(shape=shape, dtype=np.float64, use_gpu=False)\n",
    "num_steps = 1\n",
    "num_steps = 10\n",
    "mu = 1\n",
    "random_modified_p_values_matrix(data=data_py, mu=mu, offset_row0=seed, offset_col0=0, num_steps=num_steps, use_njit=False)\n",
    "print(f'{data_py.numpy()=}')\n",
    "\n",
    "\n",
    "data_njit = HybridArray().realloc(shape=shape, dtype=np.float64, use_gpu=False)\n",
    "random_modified_p_values_matrix(data=data_njit, mu=mu, offset_row0=seed, offset_col0=0, num_steps=num_steps, use_njit=True)\n",
    "print(f'{data_njit.numpy()=}')\n",
    "\n",
    "data_gpu = HybridArray().realloc(shape=shape, dtype=np.float64, use_gpu=True)\n",
    "random_modified_p_values_matrix(data=data_gpu, mu=mu, offset_row0=seed, offset_col0=0, num_steps=num_steps)\n",
    "print(f'{data_gpu.numpy()=}')"
   ]
  }
 ],
 "metadata": {
  "accelerator": "GPU",
  "colab": {
   "gpuType": "T4",
   "provenance": []
  },
  "kernelspec": {
   "display_name": "thesis",
   "language": "python",
   "name": "python3"
  },
  "language_info": {
   "codemirror_mode": {
    "name": "ipython",
    "version": 3
   },
   "file_extension": ".py",
   "mimetype": "text/x-python",
   "name": "python",
   "nbconvert_exporter": "python",
   "pygments_lexer": "ipython3",
   "version": "3.11.9"
  }
 },
 "nbformat": 4,
 "nbformat_minor": 0
}
