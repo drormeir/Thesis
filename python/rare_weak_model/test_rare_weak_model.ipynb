{
 "cells": [
  {
   "cell_type": "markdown",
   "metadata": {
    "id": "NLG_lYgZWhQ-"
   },
   "source": [
    "### Porting to Google Colab\n",
    "The following cell enables this notebook to run from Google Colab as well as from your local machine IDE.<br>\n",
    "You can change `root_directory` and/or `this_notebook_google_path` to point to the directory in your Google account, which contains this notebook, together with the `imgs` sub-directory and the rest of the files.<br>"
   ]
  },
  {
   "cell_type": "code",
   "execution_count": 1,
   "metadata": {
    "colab": {
     "base_uri": "https://localhost:8080/"
    },
    "executionInfo": {
     "elapsed": 28864,
     "status": "ok",
     "timestamp": 1733243458122,
     "user": {
      "displayName": "Dror Meirovich",
      "userId": "14310987058477987674"
     },
     "user_tz": -120
    },
    "id": "RwolyPfQWhQ_",
    "outputId": "8e74500e-d028-4a32-eb31-05a7e582b58d"
   },
   "outputs": [
    {
     "name": "stdout",
     "output_type": "stream",
     "text": [
      "Current working directory: d:\\projects\\RUNI\\Thesis\n",
      "Datasets path: d:\\projects\\RUNI\\Thesis\\datasets\n",
      "Output path: d:\\projects\\RUNI\\Thesis\\output\n"
     ]
    }
   ],
   "source": [
    "import sys\n",
    "import os\n",
    "try:\n",
    "    from google.colab import drive as google_drive\n",
    "except:\n",
    "    # no Google Colab --> fall back to local machine\n",
    "    google_drive = None\n",
    "\n",
    "if google_drive is not None:\n",
    "    google_drive_directory = os.path.join('/','content','gdrive')\n",
    "    google_drive.mount(google_drive_directory)\n",
    "    all_projects_path = os.path.join(google_drive_directory, 'Othercomputers','My Laptop', 'projects')\n",
    "else:\n",
    "    all_projects_path = os.path.join('d:\\\\', 'projects')\n",
    "\n",
    "project_path = os.path.join(all_projects_path,'RUNI','Thesis')\n",
    "assert os.path.exists(project_path), f'Project path {project_path} not found!'\n",
    "# enable import python files from this notebook's path\n",
    "sys.path.append(project_path)\n",
    "# enable reading images and data files from this notebook's path\n",
    "os.chdir(project_path)\n",
    "\n",
    "datasets_path = os.path.join(project_path, 'datasets')\n",
    "assert os.path.exists(datasets_path), f'Datasets path {datasets_path} not found!'\n",
    "\n",
    "output_path = os.path.join(project_path, 'output')\n",
    "os.makedirs(output_path, exist_ok=True)\n",
    "assert os.path.exists(output_path), f'Output path {output_path} not found!'\n",
    "\n",
    "print(f'Current working directory: {os.getcwd()}')\n",
    "print(f'Datasets path: {datasets_path}')\n",
    "print(f'Output path: {output_path}')"
   ]
  },
  {
   "cell_type": "code",
   "execution_count": 2,
   "metadata": {},
   "outputs": [],
   "source": [
    "import numpy as np"
   ]
  },
  {
   "cell_type": "code",
   "execution_count": 3,
   "metadata": {
    "colab": {
     "base_uri": "https://localhost:8080/"
    },
    "executionInfo": {
     "elapsed": 5161,
     "status": "ok",
     "timestamp": 1733243463280,
     "user": {
      "displayName": "Dror Meirovich",
      "userId": "14310987058477987674"
     },
     "user_tz": -120
    },
    "id": "hs9MC9FbWhRB",
    "outputId": "ecd0dfde-e22d-40d6-fd54-234c5c2143e9"
   },
   "outputs": [
    {
     "name": "stdout",
     "output_type": "stream",
     "text": [
      "Numba version: 0.60.0\n",
      "numba.njit is available.\n",
      "CUDA is available and will be used for GPU operations.\n",
      "Printing CUDA active device attributes:\n",
      "==================================================\n",
      "    Name:                               NVIDIA GeForce GTX 1650\n",
      "    Free Memory:                        3367680 [KB]\n",
      "    Total Memory:                       4193984 [KB]\n",
      "    Compute capability:                 7.5\n",
      "    Clock rate:                         1560.00 [MHz]\n",
      "    Memory clock rate:                  4001.00 [MHz]\n",
      "    Memory bus width:                   128 bits\n",
      "    Memory band width (theoretical)     128.03 [GByte/Sec]\n",
      "    Number of multiprocessors:          16\n",
      "    Minimal grid size:                  128\n",
      "    Maximum grid size:                  (2147483647, 65535, 65535)\n",
      "    Maximum block dimensions:           (1024, 1024, 64)\n",
      "    Maximum threads per block:          1024\n",
      "    Warp size:                          32\n",
      "    Maximum shared memory per block:    49152 [bytes]\n",
      "    Maximum registers per block:        65536\n",
      "    Total constant memory:              65536 [bytes]\n",
      "    Asynchronous engine count:          2\n",
      "    L2 cache size:                      1048576 [bytes]\n",
      "    ECC support enabled:                False\n"
     ]
    }
   ],
   "source": [
    "from python.hpc import HybridArray"
   ]
  },
  {
   "cell_type": "markdown",
   "metadata": {},
   "source": [
    "# Testing random p-values in vector"
   ]
  },
  {
   "cell_type": "code",
   "execution_count": 4,
   "metadata": {},
   "outputs": [
    {
     "name": "stdout",
     "output_type": "stream",
     "text": [
      "data_py.numpy().mean()=0.5002764624347839\n",
      "data_njit.numpy().mean()=0.5002764624347839\n"
     ]
    },
    {
     "name": "stderr",
     "output_type": "stream",
     "text": [
      "d:\\venv\\thesis\\Lib\\site-packages\\numba\\cuda\\dispatcher.py:536: NumbaPerformanceWarning: \u001b[1mGrid size 1 will likely result in GPU under-utilization due to low occupancy.\u001b[0m\n",
      "  warn(NumbaPerformanceWarning(msg))\n"
     ]
    },
    {
     "name": "stdout",
     "output_type": "stream",
     "text": [
      "data_gpu.numpy().mean()=0.5002764624347839\n"
     ]
    }
   ],
   "source": [
    "from python.rare_weak_model.rare_weak_model import random_p_values_series\n",
    "num_p_values = 100000\n",
    "seed = 3\n",
    "data_py = HybridArray()\n",
    "data_py.realloc(shape=(num_p_values,), dtype=np.float64, use_gpu=False)\n",
    "random_p_values_series(data=data_py, seed=seed, use_njit=False)\n",
    "print(f'{data_py.numpy().mean()=}')\n",
    "\n",
    "\n",
    "data_njit = HybridArray()\n",
    "data_njit.realloc(shape=(num_p_values,), dtype=np.float64, use_gpu=False)\n",
    "random_p_values_series(data=data_njit, seed=seed, use_njit=True)\n",
    "print(f'{data_njit.numpy().mean()=}')\n",
    "\n",
    "data_gpu = HybridArray()\n",
    "data_gpu.realloc(shape=(num_p_values,), dtype=np.float64, use_gpu=True)\n",
    "random_p_values_series(data=data_gpu, seed=seed)\n",
    "print(f'{data_gpu.numpy().mean()=}')"
   ]
  },
  {
   "cell_type": "code",
   "execution_count": 5,
   "metadata": {},
   "outputs": [
    {
     "name": "stdout",
     "output_type": "stream",
     "text": [
      "data_py.numpy()=array([[0.66353756, 0.52782385, 0.89450499, 0.77120821, 0.49339747],\n",
      "       [0.22140645, 0.36301647, 0.78660585, 0.39405075, 0.94421265],\n",
      "       [0.34319752, 0.14869546, 0.17618343, 0.37412645, 0.928439  ],\n",
      "       [0.88389307, 0.74090471, 0.59886579, 0.88811478, 0.81712634],\n",
      "       [0.75830239, 0.54927179, 0.87495339, 0.53698289, 0.9222093 ]])\n",
      "data_njit.numpy()=array([[0.66353756, 0.52782385, 0.89450499, 0.77120821, 0.49339747],\n",
      "       [0.22140645, 0.36301647, 0.78660585, 0.39405075, 0.94421265],\n",
      "       [0.34319752, 0.14869546, 0.17618343, 0.37412645, 0.928439  ],\n",
      "       [0.88389307, 0.74090471, 0.59886579, 0.88811478, 0.81712634],\n",
      "       [0.75830239, 0.54927179, 0.87495339, 0.53698289, 0.9222093 ]])\n"
     ]
    },
    {
     "name": "stderr",
     "output_type": "stream",
     "text": [
      "d:\\venv\\thesis\\Lib\\site-packages\\numba\\cuda\\dispatcher.py:536: NumbaPerformanceWarning: \u001b[1mGrid size 1 will likely result in GPU under-utilization due to low occupancy.\u001b[0m\n",
      "  warn(NumbaPerformanceWarning(msg))\n"
     ]
    },
    {
     "name": "stdout",
     "output_type": "stream",
     "text": [
      "data_gpu.numpy()=array([[0.66353756, 0.52782385, 0.89450499, 0.77120821, 0.49339747],\n",
      "       [0.22140645, 0.36301647, 0.78660585, 0.39405075, 0.94421265],\n",
      "       [0.34319752, 0.14869546, 0.17618343, 0.37412645, 0.928439  ],\n",
      "       [0.88389307, 0.74090471, 0.59886579, 0.88811478, 0.81712634],\n",
      "       [0.75830239, 0.54927179, 0.87495339, 0.53698289, 0.9222093 ]])\n"
     ]
    }
   ],
   "source": [
    "from python.rare_weak_model.rare_weak_model import random_p_values_matrix\n",
    "shape = (5,5)\n",
    "seed = 0\n",
    "data_py = HybridArray().realloc(shape=shape, dtype=np.float64, use_gpu=False)\n",
    "num_steps = 1\n",
    "num_steps = 10\n",
    "random_p_values_matrix(data=data_py, offset_row0=seed, offset_col0=0, num_steps=num_steps, use_njit=False)\n",
    "print(f'{data_py.numpy()=}')\n",
    "\n",
    "\n",
    "data_njit = HybridArray().realloc(shape=shape, dtype=np.float64, use_gpu=False)\n",
    "random_p_values_matrix(data=data_njit, offset_row0=seed, offset_col0=0, num_steps=num_steps, use_njit=True)\n",
    "print(f'{data_njit.numpy()=}')\n",
    "\n",
    "data_gpu = HybridArray().realloc(shape=shape, dtype=np.float64, use_gpu=True)\n",
    "random_p_values_matrix(data=data_gpu, offset_row0=seed, offset_col0=0, num_steps=num_steps)\n",
    "print(f'{data_gpu.numpy()=}')"
   ]
  },
  {
   "cell_type": "code",
   "execution_count": 6,
   "metadata": {},
   "outputs": [
    {
     "name": "stdout",
     "output_type": "stream",
     "text": [
      "data_py.numpy()=array([[0.28167837, 0.17613395, 0.5990341 , 0.39852443, 0.15468357],\n",
      "       [0.03857629, 0.08844266, 0.41866869, 0.10226035, 0.72279171],\n",
      "       [0.08019634, 0.02057355, 0.02680291, 0.09326003, 0.67877048],\n",
      "       [0.57717648, 0.36172081, 0.22675157, 0.58572563, 0.46194612],\n",
      "       [0.38241366, 0.19046656, 0.55966622, 0.18215991, 0.66279026]])\n",
      "data_njit.numpy()=array([[0.28167837, 0.17613395, 0.5990341 , 0.39852443, 0.15468357],\n",
      "       [0.03857629, 0.08844266, 0.41866869, 0.10226035, 0.72279171],\n",
      "       [0.08019634, 0.02057355, 0.02680291, 0.09326003, 0.67877048],\n",
      "       [0.57717648, 0.36172081, 0.22675157, 0.58572563, 0.46194612],\n",
      "       [0.38241366, 0.19046656, 0.55966622, 0.18215991, 0.66279026]])\n"
     ]
    },
    {
     "name": "stderr",
     "output_type": "stream",
     "text": [
      "d:\\venv\\thesis\\Lib\\site-packages\\numba\\cuda\\dispatcher.py:536: NumbaPerformanceWarning: \u001b[1mGrid size 1 will likely result in GPU under-utilization due to low occupancy.\u001b[0m\n",
      "  warn(NumbaPerformanceWarning(msg))\n"
     ]
    },
    {
     "name": "stdout",
     "output_type": "stream",
     "text": [
      "data_gpu.numpy()=array([[0.28167837, 0.17613395, 0.5990341 , 0.39852443, 0.15468357],\n",
      "       [0.03857629, 0.08844266, 0.41866869, 0.10226035, 0.72279171],\n",
      "       [0.08019634, 0.02057355, 0.02680291, 0.09326003, 0.67877048],\n",
      "       [0.57717648, 0.36172081, 0.22675157, 0.58572563, 0.46194612],\n",
      "       [0.38241366, 0.19046656, 0.55966622, 0.18215991, 0.66279026]])\n"
     ]
    }
   ],
   "source": [
    "from python.rare_weak_model.rare_weak_model import random_modified_p_values_matrix\n",
    "shape = (5,5)\n",
    "seed = 0\n",
    "data_py = HybridArray().realloc(shape=shape, dtype=np.float64, use_gpu=False)\n",
    "num_steps = 1\n",
    "num_steps = 10\n",
    "mu = 1\n",
    "random_modified_p_values_matrix(data=data_py, mu=mu, offset_row0=seed, offset_col0=0, num_steps=num_steps, use_njit=False)\n",
    "print(f'{data_py.numpy()=}')\n",
    "\n",
    "\n",
    "data_njit = HybridArray().realloc(shape=shape, dtype=np.float64, use_gpu=False)\n",
    "random_modified_p_values_matrix(data=data_njit, mu=mu, offset_row0=seed, offset_col0=0, num_steps=num_steps, use_njit=True)\n",
    "print(f'{data_njit.numpy()=}')\n",
    "\n",
    "data_gpu = HybridArray().realloc(shape=shape, dtype=np.float64, use_gpu=True)\n",
    "random_modified_p_values_matrix(data=data_gpu, mu=mu, offset_row0=seed, offset_col0=0, num_steps=num_steps)\n",
    "print(f'{data_gpu.numpy()=}')"
   ]
  }
 ],
 "metadata": {
  "accelerator": "GPU",
  "colab": {
   "gpuType": "T4",
   "provenance": []
  },
  "kernelspec": {
   "display_name": "thesis",
   "language": "python",
   "name": "python3"
  },
  "language_info": {
   "codemirror_mode": {
    "name": "ipython",
    "version": 3
   },
   "file_extension": ".py",
   "mimetype": "text/x-python",
   "name": "python",
   "nbconvert_exporter": "python",
   "pygments_lexer": "ipython3",
   "version": "3.11.9"
  }
 },
 "nbformat": 4,
 "nbformat_minor": 0
}
