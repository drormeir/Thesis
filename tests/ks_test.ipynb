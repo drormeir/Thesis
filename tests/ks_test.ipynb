{
 "cells": [
  {
   "cell_type": "code",
   "execution_count": 18,
   "metadata": {},
   "outputs": [
    {
     "name": "stdout",
     "output_type": "stream",
     "text": [
      "KS Statistic: 0.2333333333333334\n",
      "P-value: 0.8335595061728392\n",
      "The data follows a uniform distribution.\n",
      "done\n"
     ]
    }
   ],
   "source": [
    "import numpy as np\n",
    "from scipy.stats import kstest\n",
    "\n",
    "# Replace 'your_data' with your actual numpy vector\n",
    "your_data = np.array([0.2, 0.4, 0.1, 0.8, 0.5, 0.6])\n",
    "# Perform the Kolmogorov-Smirnov test\n",
    "statistic, p_value = kstest(your_data, 'uniform')\n",
    "\n",
    "# Output the results\n",
    "print(f\"KS Statistic: {statistic}\")\n",
    "print(f\"P-value: {p_value}\")\n",
    "\n",
    "# Interpret the results\n",
    "alpha = 0.05  # significance level\n",
    "if p_value < alpha:\n",
    "    print(\"The data does not follow a uniform distribution.\")\n",
    "else:\n",
    "    print(\"The data follows a uniform distribution.\")\n",
    "print('done')"
   ]
  },
  {
   "cell_type": "code",
   "execution_count": 4,
   "metadata": {},
   "outputs": [],
   "source": [
    "import numpy as np\n",
    "from math import sqrt, exp\n",
    "\n",
    "def ks_statistic(obs_one, obs_two):\n",
    "    cdf_one = np.sort(obs_one)\n",
    "    cdf_two = np.sort(obs_two)\n",
    "\n",
    "    i = 0\n",
    "    j = 0\n",
    "    d = 0.0\n",
    "    fn1 = 0.0\n",
    "    fn2 = 0.0\n",
    "    l1 = float(len(cdf_one))\n",
    "    l2 = float(len(cdf_two))\n",
    "\n",
    "    while (i < len(cdf_one) and j < len(cdf_two)):\n",
    "        d1 = cdf_one[i]\n",
    "        d2 = cdf_two[j]\n",
    "        if d1 <= d2:\n",
    "            i = i + 1\n",
    "            fn1 = i/l1\n",
    "        if d2 <= d1:\n",
    "            j = j + 1\n",
    "            fn2 = j/l2\n",
    "        dist = abs(fn2 - fn1)\n",
    "        if dist > d:\n",
    "            d = dist\n",
    "\n",
    "    return d\n",
    "\n",
    "def ks_significance(alam):\n",
    "    EPS1 = 0.001\n",
    "    EPS2 = 1.0e-8\n",
    "\n",
    "    fac = 2.0\n",
    "    sum = 0.0\n",
    "    term_bf = 0.0\n",
    "\n",
    "    a2 = -2.0*alam*alam\n",
    "    for j in range(1, 100):\n",
    "        term = fac*exp(a2*j*j)\n",
    "        sum = sum + term\n",
    "        if abs(term) <= EPS1 * term_bf or abs(term) <= EPS2 * sum:\n",
    "            return sum\n",
    "        fac = -fac\n",
    "        term_bf = abs(term)\n",
    "\n",
    "    return 1.0 # failing to converge\n",
    "    \n",
    "\"\"\"\n",
    "  from numerical recipies\n",
    "\"\"\"\n",
    "def ks_test(obs_one, obs_two):\n",
    "    d = ks_statistic(obs_one, obs_two)\n",
    "    l1 = len(obs_one)\n",
    "    l2 = len(obs_two)\n",
    "\n",
    "    en = sqrt(float(l1*l2)/(l1 + l2))\n",
    "    return ks_significance(en + 0.12 + 0.11/en) # magic numbers"
   ]
  },
  {
   "cell_type": "code",
   "execution_count": 15,
   "metadata": {},
   "outputs": [
    {
     "name": "stdout",
     "output_type": "stream",
     "text": [
      "[0.1 0.2 0.4 0.5 0.6 0.8]\n",
      "[0.         0.16666667 0.16666667 0.33333333 0.33333333 0.5\n",
      " 0.5        0.66666667 0.66666667 0.83333333 0.83333333 1.        ]\n",
      "[0.1 0.1 0.2 0.2 0.4 0.4 0.5 0.5 0.6 0.6 0.8 0.8]\n",
      "[ 0.1        -0.06666667  0.03333333 -0.13333333  0.06666667 -0.1\n",
      "  0.         -0.16666667 -0.06666667 -0.23333333 -0.03333333 -0.2       ]\n",
      "0.1 0.2333333333333334\n"
     ]
    }
   ],
   "source": [
    "your_data = np.sort(your_data)\n",
    "print(your_data)\n",
    "cdf_your_data = []\n",
    "cdf_uniform = []\n",
    "N = len(your_data)\n",
    "for iy, y in enumerate(your_data):\n",
    "    cdf_your_data.append(iy/N)\n",
    "    cdf_your_data.append((iy+1)/N)\n",
    "    cdf_uniform += [y, y]\n",
    "cdf_your_data = np.array(cdf_your_data)\n",
    "cdf_uniform = np.array(cdf_uniform)\n",
    "print(cdf_your_data)\n",
    "print(cdf_uniform)\n",
    "cdf_diff = cdf_uniform - cdf_your_data\n",
    "print(cdf_diff)\n",
    "\n",
    "print(max(cdf_diff), max(np.abs(cdf_diff)))"
   ]
  }
 ],
 "metadata": {
  "kernelspec": {
   "display_name": "thesis",
   "language": "python",
   "name": "python3"
  },
  "language_info": {
   "codemirror_mode": {
    "name": "ipython",
    "version": 3
   },
   "file_extension": ".py",
   "mimetype": "text/x-python",
   "name": "python",
   "nbconvert_exporter": "python",
   "pygments_lexer": "ipython3",
   "version": "3.11.5"
  }
 },
 "nbformat": 4,
 "nbformat_minor": 2
}
