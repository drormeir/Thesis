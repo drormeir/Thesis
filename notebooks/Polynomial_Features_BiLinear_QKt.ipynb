{
 "cells": [
  {
   "cell_type": "markdown",
   "metadata": {},
   "source": [
    "$$\\left(X_{1\\times N}U_{N\\times K}\\right)^\\top\\left(X_{1\\times N}V_{N\\times L}\\right)=W_{K\\times L}$$"
   ]
  },
  {
   "cell_type": "markdown",
   "metadata": {},
   "source": [
    "$$U_{K\\times N}X^\\top_{1\\times N}X_{1\\times N}V_{N\\times L}=W_{K\\times L}$$"
   ]
  }
 ],
 "metadata": {
  "language_info": {
   "name": "python"
  }
 },
 "nbformat": 4,
 "nbformat_minor": 2
}
