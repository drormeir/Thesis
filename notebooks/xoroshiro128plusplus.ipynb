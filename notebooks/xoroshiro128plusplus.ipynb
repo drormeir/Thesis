{
 "cells": [
  {
   "cell_type": "markdown",
   "metadata": {},
   "source": [
    "### Porting to Google Colab\n",
    "The following cell enables this notebook to run from Google Colab as well as from your local machine IDE.<br>\n",
    "You can change `root_directory` and/or `this_notebook_google_path` to point to the directory in your Google account, which contains this notebook, together with the `imgs` sub-directory and the rest of the files.<br>"
   ]
  },
  {
   "cell_type": "code",
   "execution_count": 1,
   "metadata": {},
   "outputs": [
    {
     "name": "stdout",
     "output_type": "stream",
     "text": [
      "Current working directory: d:\\projects\\RUNI\\Thesis\n",
      "Datasets path: d:\\projects\\RUNI\\Thesis\\datasets\n",
      "Output path: d:\\projects\\RUNI\\Thesis\\output\n"
     ]
    }
   ],
   "source": [
    "import sys\n",
    "import os\n",
    "try:\n",
    "    from google.colab import drive as google_drive\n",
    "except:\n",
    "    # no Google Colab --> fall back to local machine\n",
    "    google_drive = None\n",
    "\n",
    "if google_drive is not None:\n",
    "    google_drive_directory = os.path.join('/','content','gdrive')\n",
    "    google_drive.mount(google_drive_directory)\n",
    "    all_projects_path = os.path.join(google_drive_directory, 'Othercomputers','My Laptop', 'projects')\n",
    "else:\n",
    "    all_projects_path = os.path.join('d:\\\\', 'projects')\n",
    "\n",
    "project_path = os.path.join(all_projects_path,'RUNI','Thesis')\n",
    "assert os.path.exists(project_path), f'Project path {project_path} not found!'\n",
    "# enable import python files from this notebook's path\n",
    "sys.path.append(project_path)\n",
    "# enable reading images and data files from this notebook's path\n",
    "os.chdir(project_path)\n",
    "\n",
    "datasets_path = os.path.join(project_path, 'datasets')\n",
    "assert os.path.exists(datasets_path), f'Datasets path {datasets_path} not found!'\n",
    "\n",
    "output_path = os.path.join(project_path, 'output')\n",
    "os.makedirs(output_path, exist_ok=True)\n",
    "assert os.path.exists(output_path), f'Output path {output_path} not found!'\n",
    "\n",
    "print(f'Current working directory: {os.getcwd()}')\n",
    "print(f'Datasets path: {datasets_path}')\n",
    "print(f'Output path: {output_path}')"
   ]
  },
  {
   "cell_type": "code",
   "execution_count": 2,
   "metadata": {},
   "outputs": [
    {
     "name": "stdout",
     "output_type": "stream",
     "text": [
      "Numba version: 0.59.1\n",
      "CUDA is available and will be used for GPU operations.\n",
      "numba.njit is available.\n"
     ]
    }
   ],
   "source": [
    "from python.cuda import HybridArray\n",
    "from python.random_integers import random_integers_matrix\n",
    "import numpy as np"
   ]
  },
  {
   "cell_type": "code",
   "execution_count": 3,
   "metadata": {},
   "outputs": [
    {
     "name": "stdout",
     "output_type": "stream",
     "text": [
      "<class 'type'> dtype=<class 'numpy.uint32'>  shape=(10, 100)\n",
      "<class 'type'> dtype=<class 'numpy.uint64'>  shape=(20, 1000)\n",
      "[[ 8027914721839836897 13805533416164201645]\n",
      " [  587168960929266860  6742769312817389553]]\n"
     ]
    },
    {
     "ename": "TypeError",
     "evalue": "griddim must be a sequence of integers, got [1.0]",
     "output_type": "error",
     "traceback": [
      "\u001b[1;31m---------------------------------------------------------------------------\u001b[0m",
      "\u001b[1;31mTypeError\u001b[0m                                 Traceback (most recent call last)",
      "Cell \u001b[1;32mIn[3], line 5\u001b[0m\n\u001b[0;32m      3\u001b[0m \u001b[38;5;28mprint\u001b[39m(data_host\u001b[38;5;241m.\u001b[39mdata[:\u001b[38;5;241m2\u001b[39m,:\u001b[38;5;241m2\u001b[39m])\n\u001b[0;32m      4\u001b[0m data_device \u001b[38;5;241m=\u001b[39m HybridArray()\u001b[38;5;241m.\u001b[39mrealloc(shape\u001b[38;5;241m=\u001b[39m(\u001b[38;5;241m10\u001b[39m,\u001b[38;5;241m100\u001b[39m), dtype\u001b[38;5;241m=\u001b[39mnp\u001b[38;5;241m.\u001b[39muint32, use_gpu\u001b[38;5;241m=\u001b[39m\u001b[38;5;28;01mTrue\u001b[39;00m)\n\u001b[1;32m----> 5\u001b[0m \u001b[43mrandom_integers_matrix\u001b[49m\u001b[43m(\u001b[49m\u001b[43mdata\u001b[49m\u001b[38;5;241;43m=\u001b[39;49m\u001b[43mdata_device\u001b[49m\u001b[43m,\u001b[49m\u001b[43m \u001b[49m\u001b[43mN\u001b[49m\u001b[38;5;241;43m=\u001b[39;49m\u001b[38;5;241;43m1000\u001b[39;49m\u001b[43m,\u001b[49m\u001b[43m \u001b[49m\u001b[43mseed0\u001b[49m\u001b[38;5;241;43m=\u001b[39;49m\u001b[38;5;241;43m0\u001b[39;49m\u001b[43m,\u001b[49m\u001b[43m \u001b[49m\u001b[43mseed1\u001b[49m\u001b[38;5;241;43m=\u001b[39;49m\u001b[38;5;241;43m20\u001b[39;49m\u001b[43m,\u001b[49m\u001b[43m \u001b[49m\u001b[43muse_gpu\u001b[49m\u001b[38;5;241;43m=\u001b[39;49m\u001b[38;5;28;43;01mTrue\u001b[39;49;00m\u001b[43m)\u001b[49m\n\u001b[0;32m      6\u001b[0m data_device\u001b[38;5;241m.\u001b[39mto_cpu()\n\u001b[0;32m      7\u001b[0m \u001b[38;5;28mprint\u001b[39m(data_device\u001b[38;5;241m.\u001b[39mdata[:\u001b[38;5;241m2\u001b[39m,:\u001b[38;5;241m2\u001b[39m])\n",
      "File \u001b[1;32md:\\projects\\RUNI\\Thesis\\python\\random_integers.py:177\u001b[0m, in \u001b[0;36mrandom_integers_matrix\u001b[1;34m(data, N, seed0, seed1, use_gpu, use_njit)\u001b[0m\n\u001b[0;32m    174\u001b[0m \u001b[38;5;28;01mif\u001b[39;00m use_gpu:\n\u001b[0;32m    175\u001b[0m     \u001b[38;5;66;03m# GPU mode\u001b[39;00m\n\u001b[0;32m    176\u001b[0m     blocks_grid, per_block_threads_grid \u001b[38;5;241m=\u001b[39m data\u001b[38;5;241m.\u001b[39moptimal_block_size_for_rows()\n\u001b[1;32m--> 177\u001b[0m     \u001b[43mrandom_integers_matrix_gpu\u001b[49m\u001b[43m[\u001b[49m\u001b[43mblocks_grid\u001b[49m\u001b[43m,\u001b[49m\u001b[43m \u001b[49m\u001b[43mper_block_threads_grid\u001b[49m\u001b[43m]\u001b[49m(seed0, data\u001b[38;5;241m.\u001b[39mdata) \u001b[38;5;66;03m# type: ignore - Suppress Pylance Object of type \"(N: Unknown, rng_states: Unknown, out: Unknown) -> None\" is not subscriptable\u001b[39;00m\n\u001b[0;32m    178\u001b[0m \u001b[38;5;28;01melse\u001b[39;00m:\n\u001b[0;32m    179\u001b[0m     \u001b[38;5;66;03m# CPU mode\u001b[39;00m\n\u001b[0;32m    180\u001b[0m     \u001b[38;5;28;01mif\u001b[39;00m cpu_njit_available \u001b[38;5;129;01mand\u001b[39;00m (use_njit \u001b[38;5;129;01mis\u001b[39;00m \u001b[38;5;28;01mNone\u001b[39;00m \u001b[38;5;129;01mor\u001b[39;00m use_njit):\n",
      "File \u001b[1;32md:\\venv\\thesis\\Lib\\site-packages\\numba\\cuda\\dispatcher.py:625\u001b[0m, in \u001b[0;36mCUDADispatcher.__getitem__\u001b[1;34m(self, args)\u001b[0m\n\u001b[0;32m    623\u001b[0m \u001b[38;5;28;01mif\u001b[39;00m \u001b[38;5;28mlen\u001b[39m(args) \u001b[38;5;129;01mnot\u001b[39;00m \u001b[38;5;129;01min\u001b[39;00m [\u001b[38;5;241m2\u001b[39m, \u001b[38;5;241m3\u001b[39m, \u001b[38;5;241m4\u001b[39m]:\n\u001b[0;32m    624\u001b[0m     \u001b[38;5;28;01mraise\u001b[39;00m \u001b[38;5;167;01mValueError\u001b[39;00m(\u001b[38;5;124m'\u001b[39m\u001b[38;5;124mmust specify at least the griddim and blockdim\u001b[39m\u001b[38;5;124m'\u001b[39m)\n\u001b[1;32m--> 625\u001b[0m \u001b[38;5;28;01mreturn\u001b[39;00m \u001b[38;5;28;43mself\u001b[39;49m\u001b[38;5;241;43m.\u001b[39;49m\u001b[43mconfigure\u001b[49m\u001b[43m(\u001b[49m\u001b[38;5;241;43m*\u001b[39;49m\u001b[43margs\u001b[49m\u001b[43m)\u001b[49m\n",
      "File \u001b[1;32md:\\venv\\thesis\\Lib\\site-packages\\numba\\cuda\\dispatcher.py:619\u001b[0m, in \u001b[0;36mCUDADispatcher.configure\u001b[1;34m(self, griddim, blockdim, stream, sharedmem)\u001b[0m\n\u001b[0;32m    617\u001b[0m \u001b[38;5;129m@functools\u001b[39m\u001b[38;5;241m.\u001b[39mlru_cache(maxsize\u001b[38;5;241m=\u001b[39m\u001b[38;5;241m128\u001b[39m)\n\u001b[0;32m    618\u001b[0m \u001b[38;5;28;01mdef\u001b[39;00m \u001b[38;5;21mconfigure\u001b[39m(\u001b[38;5;28mself\u001b[39m, griddim, blockdim, stream\u001b[38;5;241m=\u001b[39m\u001b[38;5;241m0\u001b[39m, sharedmem\u001b[38;5;241m=\u001b[39m\u001b[38;5;241m0\u001b[39m):\n\u001b[1;32m--> 619\u001b[0m     griddim, blockdim \u001b[38;5;241m=\u001b[39m \u001b[43mnormalize_kernel_dimensions\u001b[49m\u001b[43m(\u001b[49m\u001b[43mgriddim\u001b[49m\u001b[43m,\u001b[49m\u001b[43m \u001b[49m\u001b[43mblockdim\u001b[49m\u001b[43m)\u001b[49m\n\u001b[0;32m    620\u001b[0m     \u001b[38;5;28;01mreturn\u001b[39;00m _LaunchConfiguration(\u001b[38;5;28mself\u001b[39m, griddim, blockdim, stream, sharedmem)\n",
      "File \u001b[1;32md:\\venv\\thesis\\Lib\\site-packages\\numba\\cuda\\errors.py:56\u001b[0m, in \u001b[0;36mnormalize_kernel_dimensions\u001b[1;34m(griddim, blockdim)\u001b[0m\n\u001b[0;32m     53\u001b[0m \u001b[38;5;28;01mif\u001b[39;00m \u001b[38;5;28;01mNone\u001b[39;00m \u001b[38;5;129;01min\u001b[39;00m (griddim, blockdim):\n\u001b[0;32m     54\u001b[0m     \u001b[38;5;28;01mraise\u001b[39;00m \u001b[38;5;167;01mValueError\u001b[39;00m(missing_launch_config_msg)\n\u001b[1;32m---> 56\u001b[0m griddim \u001b[38;5;241m=\u001b[39m \u001b[43mcheck_dim\u001b[49m\u001b[43m(\u001b[49m\u001b[43mgriddim\u001b[49m\u001b[43m,\u001b[49m\u001b[43m \u001b[49m\u001b[38;5;124;43m'\u001b[39;49m\u001b[38;5;124;43mgriddim\u001b[39;49m\u001b[38;5;124;43m'\u001b[39;49m\u001b[43m)\u001b[49m\n\u001b[0;32m     57\u001b[0m blockdim \u001b[38;5;241m=\u001b[39m check_dim(blockdim, \u001b[38;5;124m'\u001b[39m\u001b[38;5;124mblockdim\u001b[39m\u001b[38;5;124m'\u001b[39m)\n\u001b[0;32m     59\u001b[0m \u001b[38;5;28;01mreturn\u001b[39;00m griddim, blockdim\n",
      "File \u001b[1;32md:\\venv\\thesis\\Lib\\site-packages\\numba\\cuda\\errors.py:47\u001b[0m, in \u001b[0;36mnormalize_kernel_dimensions.<locals>.check_dim\u001b[1;34m(dim, name)\u001b[0m\n\u001b[0;32m     45\u001b[0m \u001b[38;5;28;01mfor\u001b[39;00m v \u001b[38;5;129;01min\u001b[39;00m dim:\n\u001b[0;32m     46\u001b[0m     \u001b[38;5;28;01mif\u001b[39;00m \u001b[38;5;129;01mnot\u001b[39;00m \u001b[38;5;28misinstance\u001b[39m(v, numbers\u001b[38;5;241m.\u001b[39mIntegral):\n\u001b[1;32m---> 47\u001b[0m         \u001b[38;5;28;01mraise\u001b[39;00m \u001b[38;5;167;01mTypeError\u001b[39;00m(\u001b[38;5;124m'\u001b[39m\u001b[38;5;132;01m%s\u001b[39;00m\u001b[38;5;124m must be a sequence of integers, got \u001b[39m\u001b[38;5;132;01m%r\u001b[39;00m\u001b[38;5;124m'\u001b[39m\n\u001b[0;32m     48\u001b[0m                         \u001b[38;5;241m%\u001b[39m (name, dim))\n\u001b[0;32m     49\u001b[0m \u001b[38;5;28;01mwhile\u001b[39;00m \u001b[38;5;28mlen\u001b[39m(dim) \u001b[38;5;241m<\u001b[39m \u001b[38;5;241m3\u001b[39m:\n\u001b[0;32m     50\u001b[0m     dim\u001b[38;5;241m.\u001b[39mappend(\u001b[38;5;241m1\u001b[39m)\n",
      "\u001b[1;31mTypeError\u001b[0m: griddim must be a sequence of integers, got [1.0]"
     ]
    }
   ],
   "source": [
    "data_host = HybridArray().realloc(shape=(10,100), dtype=np.uint32, use_gpu=False)\n",
    "random_integers_matrix(data=data_host, N=1000, seed0=0, seed1=20, use_gpu=False, use_njit=True)\n",
    "print(data_host.data[:2,:2])\n",
    "data_device = HybridArray().realloc(shape=(10,100), dtype=np.uint32, use_gpu=True)\n",
    "random_integers_matrix(data=data_device, N=1000, seed0=0, seed1=20, use_gpu=True)\n",
    "data_device.to_cpu()\n",
    "print(data_device.data[:2,:2])\n"
   ]
  },
  {
   "cell_type": "code",
   "execution_count": null,
   "metadata": {},
   "outputs": [],
   "source": [
    "print(data_host.dtype())\n",
    "print(data_device.dtype())"
   ]
  }
 ],
 "metadata": {
  "kernelspec": {
   "display_name": "thesis",
   "language": "python",
   "name": "python3"
  },
  "language_info": {
   "codemirror_mode": {
    "name": "ipython",
    "version": 3
   },
   "file_extension": ".py",
   "mimetype": "text/x-python",
   "name": "python",
   "nbconvert_exporter": "python",
   "pygments_lexer": "ipython3",
   "version": "3.11.9"
  }
 },
 "nbformat": 4,
 "nbformat_minor": 2
}
