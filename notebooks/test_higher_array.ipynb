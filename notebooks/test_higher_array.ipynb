{
 "cells": [
  {
   "cell_type": "code",
   "execution_count": 36,
   "metadata": {},
   "outputs": [
    {
     "name": "stdout",
     "output_type": "stream",
     "text": [
      "<class 'numba.cuda.cudadrv.devicearray.DeviceNDArray'>\n"
     ]
    }
   ],
   "source": [
    "import numba\n",
    "\n",
    "a = numba.cuda.device_array(shape=0)\n",
    "print(type(a))"
   ]
  },
  {
   "cell_type": "code",
   "execution_count": 3,
   "metadata": {},
   "outputs": [
    {
     "name": "stdout",
     "output_type": "stream",
     "text": [
      "[[0.7666216  0.8435221  0.67347515 ... 0.30960736 0.89397955 0.3713509 ]\n",
      " [0.13312314 0.3780597  0.2305517  ... 0.31311917 0.8713214  0.7731694 ]\n",
      " [0.18237947 0.4034984  0.29253274 ... 0.6022286  0.06064058 0.11549199]\n",
      " ...\n",
      " [0.09955441 0.33017534 0.56993085 ... 0.70994323 0.70531285 0.5992914 ]\n",
      " [0.6272834  0.7467063  0.7721667  ... 0.37673646 0.35704595 0.9751529 ]\n",
      " [0.8169655  0.8054853  0.36733994 ... 0.04749916 0.856052   0.72720164]]\n"
     ]
    }
   ],
   "source": [
    "import numpy as np\n",
    "import numba.cuda.random as curand\n",
    "from numba import cuda\n",
    "\n",
    "@cuda.jit\n",
    "def init_random_gpu_jit(N, rng_states, out):\n",
    "    ind_start = cuda.grid(ndim=1) # type: ignore - Suppress Pylance argument typingctx error\n",
    "    ind_stride = cuda.gridsize(ndim=1) # type: ignore - Suppress Pylance argument typingctx error\n",
    "    for ind in range(ind_start, rng_states.shape[0], ind_stride):\n",
    "        for i in range(N):\n",
    "            out[ind, i] = curand.xoroshiro128p_uniform_float32(rng_states, ind)\n",
    "\n",
    "def init_random(N: int, seed0: int, seed1: int) -> np.ndarray:\n",
    "    seeds = np.arange(start=seed0, stop=seed1, dtype=np.int32)\n",
    "    num_seeds = seeds.size\n",
    "    data = cuda.device_array((num_seeds, N), dtype=np.float32)\n",
    "    per_block_threads_grid = 4\n",
    "    blocks_grid = (num_seeds + per_block_threads_grid - 1) // per_block_threads_grid\n",
    "\n",
    "    # Initialize RNG states\n",
    "    rng_states = curand.create_xoroshiro128p_states(num_seeds, seed=0)\n",
    "    for i in range(num_seeds):\n",
    "        curand.init_xoroshiro128p_states(rng_states[i:i+1], seeds[i])\n",
    "\n",
    "    # Launch the CUDA kernel\n",
    "    init_random_gpu_jit[blocks_grid, per_block_threads_grid](N, rng_states, data) # type: ignore - Suppress Pylance Object of type \"(N: Unknown, rng_states: Unknown, out: Unknown) -> None\" is not subscriptable\n",
    "\n",
    "    return data\n",
    "\n",
    "# Usage example\n",
    "num_values = 10000  # Number of random values per seed\n",
    "num_seeds_start = 0\n",
    "num_seeds_end = 1000\n",
    "\n",
    "# Initialize random values\n",
    "data = init_random(num_values, num_seeds_start, num_seeds_end)\n",
    "\n",
    "# Print the data\n",
    "print(data.copy_to_host()) \n"
   ]
  },
  {
   "cell_type": "code",
   "execution_count": null,
   "metadata": {},
   "outputs": [],
   "source": [
    "import numpy as np\n",
    "from numba import njit, cuda\n",
    "\n",
    "\n",
    "class HigherArray:\n",
    "    def __init__(self, dtype: type =np.float32, is_host: bool = True) -> None:\n",
    "        self.shape: tuple[int]|tuple[int,int] = (0,)\n",
    "        self.dtype = dtype\n",
    "        self.is_host = is_host\n",
    "        self.data = None\n",
    "        pass\n",
    "\n",
    "    @staticmethod\n",
    "    @cuda.jit\n",
    "    def init_random_gpu_jit(N, rng_states, out):\n",
    "        ind_start = cuda.grid(ndim=1) # type: ignore - Suppress Pylance argument typingctx error\n",
    "        ind_stride = cuda.gridsize(ndim=1) # type: ignore - Suppress Pylance argument typingctx error\n",
    "        for ind in range(ind_start, rng_states.shape[0], ind_stride):\n",
    "            for i in range(N):\n",
    "                out[ind, i] = curand.xoroshiro128p_uniform_float32(rng_states, ind)\n",
    "\n",
    "    @njit\n",
    "    def init_random_cpu_jit(self, N: int, seeds: np.ndarray) -> None:\n",
    "        self.data = np.empty(shape=(seeds.size, N), dtype=np.float32)\n",
    "        for ind_seed, seed in enumerate(seeds):\n",
    "            self.data[ind_seed] = np.random.default_rng(seed).random(size=N, dtype=np.float32)\n",
    "\n",
    "    def init_random_py(self, N: int, seeds: np.ndarray) -> None:\n",
    "        self.data = np.empty(shape=(seeds.size, N), dtype=np.float32)\n",
    "        for ind_seed, seed in enumerate(seeds):\n",
    "            self.data[ind_seed] = np.random.default_rng(seed).random(size=N, dtype=np.float32)\n",
    "\n",
    "    def init_random(self, N:int, seed0: np.int32, seed1: np.int32) -> None:\n",
    "        seeds = np.arange(start=seed0, stop=seed1,dtype=np.int32)\n",
    "        if self.is_host:\n",
    "            self.init_random_cpu_jit(N=N,seeds=seeds)\n",
    "        else:\n",
    "            num_seeds = seeds.size\n",
    "            self.data = cuda.device_array(shape=(num_seeds, N), dtype=np.float32)\n",
    "\n",
    "            # Initialize RNG states\n",
    "            rng_states = curand.create_xoroshiro128p_states(num_seeds, seed=0)\n",
    "            for i in range(num_seeds):\n",
    "                curand.init_xoroshiro128p_states(rng_states[i:i+1], seeds[i])\n",
    "\n",
    "            # Launch the CUDA kernel\n",
    "            per_block_threads_grid = 32 # Multiple of 32 below 513\n",
    "            blocks_grid = (num_seeds + per_block_threads_grid - 1) // per_block_threads_grid\n",
    "            HigherArray.init_random_gpu_jit[blocks_grid, per_block_threads_grid](N, rng_states, self.data) # type: ignore - Suppress Pylance Object of type \"(N: Unknown, rng_states: Unknown, out: Unknown) -> None\" is not subscriptable\n"
   ]
  }
 ],
 "metadata": {
  "kernelspec": {
   "display_name": "thesis",
   "language": "python",
   "name": "python3"
  },
  "language_info": {
   "codemirror_mode": {
    "name": "ipython",
    "version": 3
   },
   "file_extension": ".py",
   "mimetype": "text/x-python",
   "name": "python",
   "nbconvert_exporter": "python",
   "pygments_lexer": "ipython3",
   "version": "3.11.5"
  }
 },
 "nbformat": 4,
 "nbformat_minor": 2
}
